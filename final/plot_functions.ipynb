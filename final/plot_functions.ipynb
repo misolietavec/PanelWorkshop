{
 "cells": [
  {
   "cell_type": "code",
   "execution_count": null,
   "id": "d242598c-5834-447c-bc5a-3c3866c8e870",
   "metadata": {},
   "outputs": [],
   "source": [
    "import panel as pn\n",
    "import plotly.graph_objects as go\n",
    "from plotly.subplots import make_subplots\n",
    "import folium\n",
    "from folium import plugins\n",
    "import json\n",
    "import os\n",
    "import final.weather_functions as wf"
   ]
  },
  {
   "cell_type": "code",
   "execution_count": null,
   "id": "2f5c02c7-817e-4f03-aeca-683a69214631",
   "metadata": {},
   "outputs": [],
   "source": [
    "w_colors = {'clouds': 'green', 'rain': 'darkblue', 'wind_speed': 'blue', \n",
    "            'humidity': 'magenta', 'pressure': 'darkgray', 'temp': 'red'}\n",
    "fig_height, fig_width = 250, 800\n",
    "Stations = wf.Stations_SK\n",
    "dir_path = os.path.dirname(os.path.realpath(__file__))"
   ]
  },
  {
   "cell_type": "code",
   "execution_count": null,
   "id": "44f08ee5-1715-40b6-bf7c-461369b4e356",
   "metadata": {},
   "outputs": [],
   "source": [
    "def plot_48h(wdata, val):\n",
    "    df = wdata['hourly']\n",
    "    fig = go.Figure()\n",
    "    plot_function = go.Bar if val == 'rain' else go.Scatter\n",
    "    fig.add_trace(plot_function(x=df.index, y=df[val], marker_color=w_colors[val], name=val))\n",
    "    fig.update_xaxes(dtick=60*60*1000*3, tickformat=\"%H\\n%e.%b\")\n",
    "    fig.update_layout(height=fig_height, width=fig_width, showlegend=False)\n",
    "    return fig"
   ]
  },
  {
   "cell_type": "code",
   "execution_count": null,
   "id": "e3ac505a-c0b6-4eb3-83a6-04a408a3be60",
   "metadata": {},
   "outputs": [],
   "source": [
    "def plot_8d(wdata, val):\n",
    "    df = wdata[\"daily\"]\n",
    "    fig = go.Figure()\n",
    "    plot_function = go.Bar if val == 'rain' else go.Scatter\n",
    "    if val != \"temp\":\n",
    "        fig.add_trace(plot_function(x=df.index, y=df[val], marker_color=w_colors[val], name=val))\n",
    "    else:\n",
    "        add_temp_traces(fig, df)\n",
    "    fig.update_xaxes(tickformat=\"%e.%b\", ticklabelmode=\"period\")\n",
    "    fig.update_layout(height=fig_height, width=fig_width, margin=dict(t=20, b=0, r=10, l=10), showlegend=False)\n",
    "    return fig"
   ]
  },
  {
   "cell_type": "code",
   "execution_count": null,
   "id": "2abdf50d-32d0-45f1-8016-d54fdf704b79",
   "metadata": {},
   "outputs": [],
   "source": [
    "temp = {\"day\": \"green\", \"night\": \"darkblue\", \"max\": \"red\", \"min\": \"blue\"}\n",
    "\n",
    "def add_temp_traces(fig, daily, **kwargs):\n",
    "    xval = daily.index\n",
    "    for val in temp:\n",
    "        fig.add_trace(go.Bar(x=xval, y=daily[val], marker_color=temp[val], name=val), **kwargs)"
   ]
  },
  {
   "cell_type": "code",
   "execution_count": null,
   "id": "66b12fc2-60e4-4bf6-bc3c-ad3a54063272",
   "metadata": {},
   "outputs": [],
   "source": [
    "def plot_forecasts(wdata, period='hourly', values=[\"temp\",\"rain\"]):\n",
    "    df = wdata[period]\n",
    "    nplots = len(values) \n",
    "    fig = make_subplots(rows=nplots, cols=1, subplot_titles=values)\n",
    "\n",
    "    xval = df.index\n",
    "    for ind, val in enumerate(values):\n",
    "        nrow = ind + 1\n",
    "        if period == 'daily' and val == 'temp':\n",
    "            add_temp_traces(fig, df, row=nrow, col=1)\n",
    "        else:\n",
    "            plot_function = go.Bar if val == 'rain' else go.Scatter\n",
    "            fig.add_trace(plot_function(x=xval, y=df[val], marker_color=w_colors[val],\n",
    "                                        name=val), row=nrow, col=1)\n",
    "        if period == 'hourly':\n",
    "            fig.update_xaxes(dtick=60*60*1000*3, tickformat=\"%H\\n%e.%b\", row=nrow, col=1)\n",
    "        else:   # daily\n",
    "            fig.update_xaxes(tickformat=\"%e.%b\", ticklabelmode=\"period\", row=nrow, col=1)\n",
    "    fig.update_layout(height=nplots * fig_height, width=fig_width, showlegend=False)\n",
    "    return fig    "
   ]
  },
  {
   "cell_type": "code",
   "execution_count": null,
   "id": "ebf2abdd-84ed-4382-9564-94974221face",
   "metadata": {},
   "outputs": [],
   "source": [
    "def slovakia_map():\n",
    "    map_slovakia = folium.Map(location=[48.7, 19.6], zoom_start=8)\n",
    "    \n",
    "    with open(f\"{dir_path}/data/slovakia.json\", \"r\") as file:\n",
    "        geo_data = json.load(file)\n",
    "\n",
    "    style_fcn =  lambda x : {'fillColor': '#228B2255', 'color': '#228B22'}    \n",
    "    folium.GeoJson(geo_data, name=\"slovakia\", style_function=style_fcn).add_to(map_slovakia)\n",
    "\n",
    "    polohy, popy = [], []\n",
    "    for station in Stations:\n",
    "        lat, lon = Stations[station]\n",
    "        poptext = f\"{station}\"\n",
    "        polohy.append([lat, lon])\n",
    "        popy.append(poptext)\n",
    "    \n",
    "    plugins.MarkerCluster(polohy, popups=popy).add_to(map_slovakia)\n",
    "    return map_slovakia"
   ]
  },
  {
   "cell_type": "code",
   "execution_count": null,
   "id": "9e7f6234-d3f8-40b2-84bf-bb79795d0009",
   "metadata": {},
   "outputs": [],
   "source": [
    "def choosen_onmap(station):\n",
    "    map = slovakia_map()\n",
    "    folium.CircleMarker(location=Stations[station], radius=15, color='red',\n",
    "                        fill_color='red', fill=True).add_to(map)\n",
    "    return map"
   ]
  }
 ],
 "metadata": {
  "kernelspec": {
   "display_name": "Python 3 (ipykernel)",
   "language": "python",
   "name": "python3"
  },
  "language_info": {
   "codemirror_mode": {
    "name": "ipython",
    "version": 3
   },
   "file_extension": ".py",
   "mimetype": "text/x-python",
   "name": "python",
   "nbconvert_exporter": "python",
   "pygments_lexer": "ipython3",
   "version": "3.10.6"
  }
 },
 "nbformat": 4,
 "nbformat_minor": 5
}
