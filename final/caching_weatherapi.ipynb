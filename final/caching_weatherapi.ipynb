{
 "cells": [
  {
   "cell_type": "code",
   "execution_count": null,
   "id": "d47f8b98-2ddf-4af0-90bd-814193c622e4",
   "metadata": {},
   "outputs": [],
   "source": [
    "import pickle\n",
    "import requests\n",
    "from os import environ\n",
    "\n",
    "from sqlitedict import SqliteDict\n",
    "from time import time"
   ]
  },
  {
   "cell_type": "code",
   "execution_count": null,
   "id": "c5282ceb-0e44-419f-b572-957d78e89ada",
   "metadata": {},
   "outputs": [],
   "source": [
    "picklefile = open(\"data/stanice.pickle\",'rb')\n",
    "Stations_SK = pickle.load(picklefile)\n",
    "StaNames = sorted(list(Stations_SK.keys()))\n",
    "\n",
    "owkey =  environ[\"OWM_APIKEY\"]\n",
    "\n",
    "# we will use sqlite database for caching\n",
    "# but working with it as with ordinary Python dictionary\n",
    "db = SqliteDict(\"one_call.sqlite\", autocommit=True, tablename='weather')"
   ]
  },
  {
   "cell_type": "code",
   "execution_count": null,
   "id": "8054572c-f3f4-4eb1-a173-014026bb8bd1",
   "metadata": {},
   "outputs": [],
   "source": [
    "# see for which stations data are cached and no actual call of One Call API is made\n",
    "# list(db.keys())"
   ]
  },
  {
   "cell_type": "code",
   "execution_count": null,
   "id": "2aa9f4ff-4c6e-4191-8035-ce1ab8efb1ad",
   "metadata": {},
   "outputs": [],
   "source": [
    "# function for getting meteodata\n",
    "\n",
    "def one_call(city, timeout=60*60*4, debug=False):      # timeout is in seconds, i.e. 4 hours\n",
    "    if not city in StaNames:\n",
    "        raise ValueError(\"No such meteostation.\")\n",
    "    no_update = False                        # let us assume the worst, we need actual API call\n",
    "    if city in db.keys():\n",
    "        ref_time, one_call_result = db[city] # if cached, get result - time and meteodata  \n",
    "        no_update =  (int(time()) - ref_time < timeout)\n",
    "        # no_udate is True -> we have valid results, in the 4 hour interval before current time\n",
    "    if not no_update:     # no_update is False, results are older than 4 hours or not in db \n",
    "        lat, lon = Stations_SK[city]\n",
    "        URL = f\"https://api.openweathermap.org/data/3.0/onecall?lat={lat}&lon={lon}&exclude=minutely,allerts&appid={owkey}&units=metric\"\n",
    "        one_call_result = requests.get(URL).json()\n",
    "        ref_time = one_call_result[\"current\"][\"dt\"]\n",
    "        db[city] = (ref_time, one_call_result)   # write the atual time and meteodata to db for the future...\n",
    "        if debug:\n",
    "            print(\"One Call API call made\")\n",
    "    return one_call_result"
   ]
  },
  {
   "cell_type": "code",
   "execution_count": null,
   "id": "34c17965-ea44-4079-8466-b9b9e94ced15",
   "metadata": {},
   "outputs": [],
   "source": [
    "list(db.keys())  "
   ]
  },
  {
   "cell_type": "code",
   "execution_count": null,
   "id": "b96c2cb6-51bc-4a86-b91e-86c22c7fdd81",
   "metadata": {},
   "outputs": [],
   "source": [
    "# experiment with meteostations from StaNames\n",
    "result = one_call('Košice', debug=True)"
   ]
  }
 ],
 "metadata": {
  "kernelspec": {
   "display_name": "Python 3 (ipykernel)",
   "language": "python",
   "name": "python3"
  },
  "language_info": {
   "codemirror_mode": {
    "name": "ipython",
    "version": 3
   },
   "file_extension": ".py",
   "mimetype": "text/x-python",
   "name": "python",
   "nbconvert_exporter": "python",
   "pygments_lexer": "ipython3",
   "version": "3.10.6"
  }
 },
 "nbformat": 4,
 "nbformat_minor": 5
}
