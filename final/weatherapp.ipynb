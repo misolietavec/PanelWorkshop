{
 "cells": [
  {
   "cell_type": "markdown",
   "id": "0cacb3ea",
   "metadata": {},
   "source": [
    "### Hotovú aplikáciu si môžete pozrieť tu: <a href=\"http://feelmath.eu:2022/Pocasie\">Počasie na Slovensku</a>"
   ]
  },
  {
   "cell_type": "code",
   "execution_count": null,
   "id": "235e3e5e",
   "metadata": {},
   "outputs": [],
   "source": [
    "import panel as pn\n",
    "import panel.widgets as pnw\n",
    "\n",
    "from plotly.subplots import make_subplots\n",
    "from final.weather_functions import get_weather, StaNames\n",
    "from final.plot_functions import plot_forecasts, choosen_onmap\n",
    "\n",
    "pn.extension('plotly')"
   ]
  },
  {
   "cell_type": "code",
   "execution_count": null,
   "id": "d6df19c6",
   "metadata": {},
   "outputs": [],
   "source": [
    "observations = {\"Teplota\": \"temp\", \"Tlak\": \"pressure\", \"Oblaky\": \"clouds\", \n",
    "                \"Vietor\": \"wind\", \"Zrážky\": \"rain\", \"Vlhkosť\": \"humidity\"}\n",
    "\n",
    "MAX_SELECTED_VALUES = 3"
   ]
  },
  {
   "cell_type": "code",
   "execution_count": null,
   "id": "62cc31b7",
   "metadata": {},
   "outputs": [],
   "source": [
    "station_choice = pnw.Select(options=list(StaNames), value=\"Bratislava\")\n",
    "observ_choice = pnw.CheckBoxGroup(options=observations, value=[\"temp\",\"rain\"])"
   ]
  },
  {
   "cell_type": "code",
   "execution_count": null,
   "id": "5d0ae8df",
   "metadata": {},
   "outputs": [],
   "source": [
    "def set_observ(*events):\n",
    "    for event in events:\n",
    "        if event.type == \"changed\" and len(event.new) > MAX_SELECTED_VALUES:\n",
    "            observ_choice.value = event.old\n",
    "            \n",
    "observ_watcher = observ_choice.param.watch(set_observ, ['value'], onlychanged=True) "
   ]
  },
  {
   "cell_type": "code",
   "execution_count": null,
   "id": "1ef561ac",
   "metadata": {},
   "outputs": [],
   "source": [
    "@pn.depends(station_choice)\n",
    "def view_current(station_choice):\n",
    "    float_fmt = lambda s: '%.1f' %s\n",
    "    df = get_weather(station_choice)['current']\n",
    "    return pn.pane.DataFrame(df, justify='center', width=240, float_format=float_fmt)"
   ]
  },
  {
   "cell_type": "code",
   "execution_count": null,
   "id": "d424f158",
   "metadata": {},
   "outputs": [],
   "source": [
    "@pn.depends(station_choice, observ_choice)\n",
    "def view_hourly(station_choice, observ_choice):\n",
    "    fig = plot_forecasts(get_weather(station_choice), 'hourly', values=observ_choice)\n",
    "    return fig"
   ]
  },
  {
   "cell_type": "code",
   "execution_count": null,
   "id": "3726c201",
   "metadata": {},
   "outputs": [],
   "source": [
    "@pn.depends(station_choice, observ_choice)\n",
    "def view_daily(station_choice, observ_choice):\n",
    "    fig = plot_forecasts(get_weather(station_choice), 'daily', values=observ_choice)\n",
    "    return fig"
   ]
  },
  {
   "cell_type": "code",
   "execution_count": null,
   "id": "e5e0bcc0",
   "metadata": {},
   "outputs": [],
   "source": [
    "@pn.depends(station_choice)\n",
    "def view_map(station_choice):\n",
    "    return pn.pane.plot.Folium(choosen_onmap(station_choice), width=1000, height=600)"
   ]
  },
  {
   "cell_type": "code",
   "execution_count": null,
   "id": "e4a317cf",
   "metadata": {},
   "outputs": [],
   "source": [
    "observe_row = pn.Row(observ_choice, width=250, align='center')\n",
    "restriction = pn.pane.Markdown(\"<b>Najviac tri veličiny</b>\")\n",
    "widgets = pn.Column(pn.Row(station_choice, width=250), pn.Row(restriction), observe_row, pn.Row(view_current), align='center')\n",
    "apptitle = pn.pane.Markdown(\"## Počasie na Slovensku<br/>\", align='center')"
   ]
  },
  {
   "cell_type": "code",
   "execution_count": null,
   "id": "f7eda2ff",
   "metadata": {},
   "outputs": [],
   "source": [
    "tabs = pn.Tabs((\"Predpoveď 48 hod.\", pn.Column(view_hourly)), (\"Predpoveď 8 dní\", pn.Column(view_daily)),\n",
    "               (\"Stanice na mape\", pn.Column(view_map, width=1000,height=600)), dynamic=True, tabs_location=\"above\")"
   ]
  },
  {
   "cell_type": "code",
   "execution_count": null,
   "id": "cabd7701",
   "metadata": {},
   "outputs": [],
   "source": [
    "def enable_observ(*events):\n",
    "    for event in events:\n",
    "        active_tab = event.new\n",
    "        if active_tab == 2:\n",
    "            widgets.objects[1][0] = pn.pane.Markdown(\" \")\n",
    "            widgets.objects[2][0] = pn.Row(pn.pane.Markdown(\"<center><h3>Nemeriame, ukazujeme</h3></center>\",\n",
    "                                                            width=240, height=110, align=\"center\"))\n",
    "        else:\n",
    "            widgets.objects[1][0] = restriction\n",
    "            widgets.objects[2][0] = pn.Row(observ_choice, width=250)\n",
    "\n",
    "tabs_watcher = tabs.param.watch(enable_observ, 'active', onlychanged=True)"
   ]
  },
  {
   "cell_type": "code",
   "execution_count": null,
   "id": "a1ad8f03",
   "metadata": {},
   "outputs": [],
   "source": [
    "weather_info = pn.Column(apptitle,tabs)\n",
    "app = pn.Column(pn.Row(widgets, pn.Spacer(width=20), weather_info)).servable(title=\"Počasie na Slovensku\")\n",
    "app"
   ]
  }
 ],
 "metadata": {
  "kernelspec": {
   "display_name": "Python 3 (ipykernel)",
   "language": "python",
   "name": "python3"
  },
  "language_info": {
   "codemirror_mode": {
    "name": "ipython",
    "version": 3
   },
   "file_extension": ".py",
   "mimetype": "text/x-python",
   "name": "python",
   "nbconvert_exporter": "python",
   "pygments_lexer": "ipython3",
   "version": "3.10.6"
  }
 },
 "nbformat": 4,
 "nbformat_minor": 5
}
