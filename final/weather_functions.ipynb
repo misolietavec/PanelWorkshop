{
 "cells": [
  {
   "cell_type": "code",
   "execution_count": null,
   "id": "09a2b37f",
   "metadata": {},
   "outputs": [],
   "source": [
    "import pickle\n",
    "import pandas as pd\n",
    "import requests\n",
    "from os import environ\n",
    "import os\n",
    "from datetime import datetime\n",
    "from sqlitedict import SqliteDict\n",
    "from time import time"
   ]
  },
  {
   "cell_type": "code",
   "execution_count": null,
   "id": "6befa121",
   "metadata": {},
   "outputs": [],
   "source": [
    "dir_path = os.path.dirname(os.path.realpath(__file__))\n",
    "picklefile = open(f\"{dir_path}/data/stanice.pickle\",'rb')\n",
    "Stations_SK = pickle.load(picklefile)\n",
    "StaNames = sorted(list(Stations_SK.keys()))\n",
    "\n",
    "owkey =  environ[\"OWM_APIKEY\"]\n",
    "db = SqliteDict(f\"{dir_path}/one_call.sqlite\", autocommit=True, tablename='weather')"
   ]
  },
  {
   "cell_type": "code",
   "execution_count": null,
   "id": "63848b81",
   "metadata": {},
   "outputs": [],
   "source": [
    "def one_call(city, autoupdate=60*60*4):\n",
    "    if not city in StaNames:\n",
    "        raise ValueError(\"No such meteostation.\")\n",
    "    no_update = False\n",
    "    if city in db.keys():\n",
    "        ref_time, one_call_result = db[city]\n",
    "        no_update =  (int(time()) - ref_time < autoupdate)  \n",
    "    if not no_update:\n",
    "        lat, lon = Stations_SK[city]\n",
    "        URL = f\"https://api.openweathermap.org/data/3.0/onecall?lat={lat}&lon={lon}&exclude=minutely,allerts&appid={owkey}&units=metric\"\n",
    "        one_call_result = requests.get(URL).json()\n",
    "        ref_time = one_call_result[\"current\"][\"dt\"]\n",
    "        db[city] = (ref_time, one_call_result)\n",
    "    return one_call_result"
   ]
  },
  {
   "cell_type": "code",
   "execution_count": null,
   "id": "85942a37",
   "metadata": {},
   "outputs": [],
   "source": [
    "wkeys = ['clouds', 'rain', 'wind_speed', 'humidity', 'pressure', 'temp']\n",
    "sk_wkeys = {\"Teplota\": \"temp\", \"Tlak\": \"pressure\", \"Oblaky\": \"clouds\", \n",
    "            \"Vietor\": \"wind\", \"Zrážky\": \"rain\", \"Vlhkosť\": \"humidity\"}"
   ]
  },
  {
   "cell_type": "code",
   "execution_count": null,
   "id": "db2ac77f",
   "metadata": {},
   "outputs": [],
   "source": [
    "def wkeys_dict(wdict):\n",
    "    time = datetime.fromtimestamp(wdict['dt'])\n",
    "    return time, {key: wdict.get(key, 0) for key in wkeys}"
   ]
  },
  {
   "cell_type": "code",
   "execution_count": null,
   "id": "ca036ea6",
   "metadata": {},
   "outputs": [],
   "source": [
    "def get_current(wdict):\n",
    "    time, wd = wkeys_dict(wdict[\"current\"])\n",
    "    wd['time'] = time.strftime(\"%-d.%b %H:%M\")\n",
    "    return pd.DataFrame.from_dict(wd, orient='index',columns=['Aktuálne počasie'])"
   ]
  },
  {
   "cell_type": "code",
   "execution_count": null,
   "id": "261debbc",
   "metadata": {},
   "outputs": [],
   "source": [
    "def get_hourly(wdict):\n",
    "    wh = {}\n",
    "    for rec in wdict['hourly']:\n",
    "        time, wd = wkeys_dict(rec)\n",
    "        if type(wd['rain']) is dict:\n",
    "            wd['rain'] = wd['rain']['1h']\n",
    "        wh[time] = wd\n",
    "    return pd.DataFrame.from_dict(wh, orient='index', columns=wkeys)"
   ]
  },
  {
   "cell_type": "code",
   "execution_count": null,
   "id": "2122b517",
   "metadata": {},
   "outputs": [],
   "source": [
    "tempkeys = ['day', 'night', 'min', 'max', 'eve', 'morn']\n",
    "\n",
    "def get_daily(wdict):\n",
    "    wday = {}\n",
    "    for rec in wdict['daily']:\n",
    "        time, wd = wkeys_dict(rec)\n",
    "        for tk in tempkeys:\n",
    "            wd[tk] = wd['temp'][tk]    \n",
    "        wday[time] = wd\n",
    "    return pd.DataFrame.from_dict(wday, orient='index', columns=wkeys[:-1] + tempkeys)    "
   ]
  },
  {
   "cell_type": "code",
   "execution_count": null,
   "id": "254f5419-d53c-4167-a429-0c316c46de91",
   "metadata": {},
   "outputs": [],
   "source": [
    "def get_weather(city):\n",
    "    wdict = one_call(city)\n",
    "    return {\"current\": get_current(wdict), \"hourly\": get_hourly(wdict), \"daily\": get_daily(wdict)}"
   ]
  }
 ],
 "metadata": {
  "kernelspec": {
   "display_name": "Python 3 (ipykernel)",
   "language": "python",
   "name": "python3"
  },
  "language_info": {
   "codemirror_mode": {
    "name": "ipython",
    "version": 3
   },
   "file_extension": ".py",
   "mimetype": "text/x-python",
   "name": "python",
   "nbconvert_exporter": "python",
   "pygments_lexer": "ipython3",
   "version": "3.10.6"
  }
 },
 "nbformat": 4,
 "nbformat_minor": 5
}
