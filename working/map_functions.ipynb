{
 "cells": [
  {
   "cell_type": "code",
   "execution_count": null,
   "id": "9d77d36c",
   "metadata": {},
   "outputs": [],
   "source": [
    "import folium\n",
    "from folium import plugins\n",
    "\n",
    "from final.weather_functions import Stations_SK"
   ]
  },
  {
   "cell_type": "code",
   "execution_count": null,
   "id": "092e27f7",
   "metadata": {},
   "outputs": [],
   "source": [
    "def slovakia_map():\n",
    "    map_SK = folium.Map(location=[48.7, 19.6], zoom_start=8)\n",
    "    loc, pops = [], []\n",
    "    for name in Stations_SK:\n",
    "        location = Stations_SK[name]\n",
    "        poptext = f\"{name}\"\n",
    "        loc.append(location)\n",
    "        pops.append(poptext)\n",
    "\n",
    "    plugins.MarkerCluster(locations=loc, popups=pops).add_to(map_SK)    \n",
    "    return map_SK"
   ]
  },
  {
   "cell_type": "code",
   "execution_count": null,
   "id": "558531af",
   "metadata": {},
   "outputs": [],
   "source": [
    "def choosen_onmap(station):\n",
    "    map = slovakia_map()\n",
    "    folium.CircleMarker(location=Stations_SK[station], radius=15, color='red',\n",
    "                         fill_color='red', fill=True).add_to(map)\n",
    "    return map"
   ]
  }
 ],
 "metadata": {
  "kernelspec": {
   "display_name": "Python 3 (ipykernel)",
   "language": "python",
   "name": "python3"
  },
  "language_info": {
   "codemirror_mode": {
    "name": "ipython",
    "version": 3
   },
   "file_extension": ".py",
   "mimetype": "text/x-python",
   "name": "python",
   "nbconvert_exporter": "python",
   "pygments_lexer": "ipython3",
   "version": "3.10.6"
  }
 },
 "nbformat": 4,
 "nbformat_minor": 5
}
