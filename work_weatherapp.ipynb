{
 "cells": [
  {
   "cell_type": "markdown",
   "id": "35a560df",
   "metadata": {},
   "source": [
    "### Hotovú aplikáciu si môžete pozrieť tu: <a href=\"http://feelmath.eu:2022/Pocasie\">Počasie na Slovensku</a>"
   ]
  },
  {
   "cell_type": "code",
   "execution_count": null,
   "id": "ae635eeb",
   "metadata": {},
   "outputs": [],
   "source": [
    "import panel as pn\n",
    "import panel.widgets as pnw\n",
    "\n",
    "from plotly.subplots import make_subplots\n",
    "from weather_functions import get_weather, StaNames, sk_wkeys\n",
    "from plot_functions import plot_forecasts, choosen_onmap\n",
    "\n",
    "pn.extension('plotly')"
   ]
  },
  {
   "cell_type": "code",
   "execution_count": null,
   "id": "a64d6c75",
   "metadata": {},
   "outputs": [],
   "source": [
    "# titles and labels will be in slovak, values are the wkeys \n",
    "# sk_wkeys"
   ]
  },
  {
   "cell_type": "code",
   "execution_count": null,
   "id": "e802bf69",
   "metadata": {},
   "outputs": [],
   "source": [
    "station_choice = pnw.Select(options=list(StaNames), value=\"Bratislava\")\n",
    "observ_choice = pnw.CheckBoxGroup(options=sk_wkeys, value=[\"temp\",\"rain\"])"
   ]
  },
  {
   "cell_type": "code",
   "execution_count": null,
   "id": "3c4e6676",
   "metadata": {},
   "outputs": [],
   "source": [
    "MAX_SELECTED_VALUES = 3\n",
    "\n",
    "def set_observ(*events):\n",
    "    for event in events:\n",
    "        if event.type == \"changed\" and (len(event.new) > MAX_SELECTED_VALUES or len(event.new) == 0):\n",
    "            observ_choice.value = event.old\n",
    "            \n",
    "observ_watcher = observ_choice.param.watch(set_observ, ['value'], onlychanged=True) "
   ]
  },
  {
   "cell_type": "code",
   "execution_count": null,
   "id": "f1ac2628",
   "metadata": {},
   "outputs": [],
   "source": [
    "@pn.depends(station_choice)\n",
    "def view_current(station_choice):\n",
    "    float_fmt = lambda s: '%.1f' %s\n",
    "    df = get_weather(station_choice)['current']\n",
    "    return pn.pane.DataFrame(df, justify='center', width=240, float_format=float_fmt)"
   ]
  },
  {
   "cell_type": "code",
   "execution_count": null,
   "id": "2e252f95",
   "metadata": {},
   "outputs": [],
   "source": [
    "@pn.depends(station_choice, observ_choice)\n",
    "def view_hourly(station_choice, observ_choice):\n",
    "    fig = plot_forecasts(get_weather(station_choice), 'hourly', values=observ_choice)\n",
    "    return fig"
   ]
  },
  {
   "cell_type": "code",
   "execution_count": null,
   "id": "fff2f86d",
   "metadata": {},
   "outputs": [],
   "source": [
    "@pn.depends(station_choice, observ_choice)\n",
    "def view_daily(station_choice, observ_choice):\n",
    "    fig = plot_forecasts(get_weather(station_choice), 'daily', values=observ_choice)\n",
    "    return fig"
   ]
  },
  {
   "cell_type": "code",
   "execution_count": null,
   "id": "2e8f6545",
   "metadata": {},
   "outputs": [],
   "source": [
    "@pn.depends(station_choice)\n",
    "def view_map(station_choice):\n",
    "    return pn.pane.plot.Folium(choosen_onmap(station_choice), width=1000, height=600)"
   ]
  },
  {
   "cell_type": "code",
   "execution_count": null,
   "id": "66ad1bfa",
   "metadata": {},
   "outputs": [],
   "source": [
    "observe_row = pn.Row(observ_choice, width=250, align='center')\n",
    "restriction = pn.pane.Markdown(\"<b>Najviac tri veličiny</b>\")\n",
    "widgets = pn.Column(pn.Row(station_choice, width=250), pn.Row(restriction), observe_row, pn.Row(view_current), align='center')\n",
    "apptitle = pn.pane.Markdown(\"## Počasie na Slovensku<br/>\", align='center')"
   ]
  },
  {
   "cell_type": "code",
   "execution_count": null,
   "id": "8e9263e0-2b3d-467f-b233-14a38a08a11b",
   "metadata": {},
   "outputs": [],
   "source": [
    "# observ_choice.disabled"
   ]
  },
  {
   "cell_type": "code",
   "execution_count": null,
   "id": "f82a8448",
   "metadata": {},
   "outputs": [],
   "source": [
    "tabs = pn.Tabs((\"Predpoveď 48 hod.\", pn.Column(view_hourly)), (\"Predpoveď 8 dní\", pn.Column(view_daily)),\n",
    "               (\"Stanice na mape\", pn.Column(view_map, width=1000,height=600)), dynamic=True, tabs_location=\"above\")"
   ]
  },
  {
   "cell_type": "code",
   "execution_count": null,
   "id": "28b7ece8",
   "metadata": {},
   "outputs": [],
   "source": [
    "def enable_observ(*events):\n",
    "    for event in events:\n",
    "        active_tab = event.new\n",
    "        observ_choice.disabled = (active_tab == 2)\n",
    "\n",
    "tabs_watcher = tabs.param.watch(enable_observ, 'active', onlychanged=True)"
   ]
  },
  {
   "cell_type": "code",
   "execution_count": null,
   "id": "7bc7232f",
   "metadata": {},
   "outputs": [],
   "source": [
    "weather_info = pn.Column(apptitle,tabs)\n",
    "app = pn.Column(pn.Row(widgets, pn.Spacer(width=20), weather_info)).servable(title=\"Počasie na Slovensku\")\n",
    "app"
   ]
  }
 ],
 "metadata": {
  "kernelspec": {
   "display_name": "Python 3 (ipykernel)",
   "language": "python",
   "name": "python3"
  },
  "language_info": {
   "codemirror_mode": {
    "name": "ipython",
    "version": 3
   },
   "file_extension": ".py",
   "mimetype": "text/x-python",
   "name": "python",
   "nbconvert_exporter": "python",
   "pygments_lexer": "ipython3",
   "version": "3.10.6"
  }
 },
 "nbformat": 4,
 "nbformat_minor": 5
}
