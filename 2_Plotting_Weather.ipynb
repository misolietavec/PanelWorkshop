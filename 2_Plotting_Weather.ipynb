{
 "cells": [
  {
   "cell_type": "code",
   "execution_count": null,
   "id": "e680c508-64bb-432b-8847-88688e1409ad",
   "metadata": {},
   "outputs": [],
   "source": [
    "# our weatherdata\n",
    "from weather_functions import StaNames, get_weather"
   ]
  },
  {
   "cell_type": "code",
   "execution_count": null,
   "id": "ee7ce6d4-a1ee-4bd3-a7ca-5b6de5d58f47",
   "metadata": {},
   "outputs": [],
   "source": [
    "# all graphics will be tested on the data for one meteostation, choose from StaNames\n",
    "station = \"Oravská Lesná\"\n",
    "wdata = get_weather(station)   # dictionary with current, hourly, daily weatherdata"
   ]
  },
  {
   "cell_type": "code",
   "execution_count": null,
   "id": "72caa93c-396d-4747-a579-0ff742789c17",
   "metadata": {},
   "outputs": [],
   "source": [
    "# to neatly display all data in cell, not only last row - Jupyter is the true child of IPython notebook :-)\n",
    "from IPython.display import display\n",
    "if False:\n",
    "    display(wdata[\"current\"])\n",
    "    display(wdata[\"hourly\"][:6])\n",
    "    display(wdata[\"daily\"])"
   ]
  },
  {
   "cell_type": "markdown",
   "id": "80cf58c9-3619-436d-99f5-9ea3bc21e5ee",
   "metadata": {},
   "source": [
    "### Dáta sú tu, nakoniec :) Na ich znázorňovanie použijeme modul `plotly` (v `panel` aplikáciach možno použiť veľa iných grafických modulov, napr. `bokeh, holoviews, matplotlib, vega-lite,`...). V `plotly` sa ľahko sa pracuje s časovou osou, čo budeme potrebovať."
   ]
  },
  {
   "cell_type": "code",
   "execution_count": null,
   "id": "62f286a6-c5da-49bc-b60f-04b16203c8bd",
   "metadata": {},
   "outputs": [],
   "source": [
    "# only needed imports from using plotly\n",
    "import plotly.graph_objects as go          # figure and plots\n",
    "from plotly.subplots import make_subplots  # we will use several plots \"in column\""
   ]
  },
  {
   "cell_type": "code",
   "execution_count": null,
   "id": "0a60e5b6-38ff-41f8-8dd7-eb23bc04e8ce",
   "metadata": {},
   "outputs": [],
   "source": [
    "# minimal example - display temperature or another meteodata forecast for next 48 hours\n",
    "df = wdata[\"hourly\"]    # pd.DataFrame with hourly meteodata; no need to import pandas in this NB\n",
    "# always we have the values of independent variable x (type datetime.datetime) and the dependent variable, y\n",
    "val = \"temp\" # can change\n",
    "# print(df[val].index[:10], df[val].values[:10], sep=\"\\n\\n\")\n",
    "xval = df[val].index\n",
    "yval = df[val]\n",
    "if False:  # set to True for graphics\n",
    "    fig = go.Figure()    # empty graphics \"window\" with default parameters\n",
    "    temp_graph = go.Scatter(x=xval, y=yval)\n",
    "    fig.add_trace(temp_graph)\n",
    "    # beautifying the plot - ticks every 3 hours, format: hour, \\n short name of month, day of month\n",
    "    fig.update_xaxes(dtick=60*60*1000*3, tickformat=\"%H\\n%e. %b\")  # time in milliseconds; for formatting, remember strftime? \n",
    "    # we get tooltips and tools \"for free\", try it\n",
    "    display(fig)   "
   ]
  },
  {
   "cell_type": "code",
   "execution_count": null,
   "id": "1ae61b6f-1c6b-4206-8e40-a9018c827b83",
   "metadata": {},
   "outputs": [],
   "source": [
    "# go.layout.XAxis?\n",
    "# overwhelming number of options - RTFM https://plotly.com/python/reference/layout/xaxis/ :)\n",
    "# we want ticks every 3 hours, this is the dtick property, tickformat is how to display them - see strftime"
   ]
  },
  {
   "cell_type": "markdown",
   "id": "6603c1fc-8b21-4ec7-8932-ca707412862f",
   "metadata": {},
   "source": [
    "### Stačí dať dohromady, čo sme si vyskúšali a máme funkciu `plot_48h` pre vykreslenie teploty, ale aj iných veličín v hodinovej predpovedi."
   ]
  },
  {
   "cell_type": "code",
   "execution_count": null,
   "id": "ad288345-b40d-4c18-bbf2-7a9e77a4e158",
   "metadata": {},
   "outputs": [],
   "source": [
    "# what walues we have for plotting in hourly forecast?\n",
    "print(list(df.columns))"
   ]
  },
  {
   "cell_type": "code",
   "execution_count": null,
   "id": "047a9833-6998-46e5-9319-f3dc7f614ba7",
   "metadata": {},
   "outputs": [],
   "source": [
    "def plot_48h(wdata, val):\n",
    "    \"display forecast from next 48 hours\"\n",
    "    df = wdata[\"hourly\"]\n",
    "    if not val in df.columns:\n",
    "        raise ValueError(\"No such observation.\")\n",
    "    xval, yval = df[val].index, df[val]\n",
    "    fig = go.Figure()\n",
    "    graph = go.Scatter(x=xval, y=yval)\n",
    "    fig.add_trace(graph)\n",
    "    fig.update_xaxes(dtick=60*60*1000*3, tickformat=\"%H\\n%e. %b\")\n",
    "    return fig"
   ]
  },
  {
   "cell_type": "code",
   "execution_count": null,
   "id": "5353b853-d13a-4367-8fdc-dbc6d88aa62b",
   "metadata": {},
   "outputs": [],
   "source": [
    "# plot_48h(wdata, \"zrazky\")\n",
    "# plot_48h(wdata, \"clouds\")   # try \"rain\", ..."
   ]
  },
  {
   "cell_type": "markdown",
   "id": "943bccf6-cf37-47ce-ade7-1acff500eb82",
   "metadata": {},
   "source": [
    "### Denná predpoveď (`daily`) sa líši časovým rozsahom a tým, že nie je len jedna teplota (`temp`), ale niekoľko (`max, min, day, night`, ...)."
   ]
  },
  {
   "cell_type": "code",
   "execution_count": null,
   "id": "bde0bb48-ebb7-462a-810e-592c5cc44200",
   "metadata": {},
   "outputs": [],
   "source": [
    "# let us try to plot same \"daily\" value, e. g. clouds; similarly to hourly example above\n",
    "df = wdata[\"daily\"]    # pd.DataFrame with daily meteodata; no need to import pandas in this NB\n",
    "val = \"clouds\"   # change for day, rain, ...\n",
    "xval = df[val].index\n",
    "yval = df[val]\n",
    "if False:      # set to True for graphics\n",
    "    fig = go.Figure()    # empty graphics \"window\" with default parameters\n",
    "    plot_function = go.Bar # change for go.Bar\n",
    "    val_graph = plot_function(x=xval, y=yval,)  # marker_color = \"MidnightBlue\")\n",
    "    fig.add_trace(val_graph)\n",
    "    # ticklabels are not at the center of days, midday\n",
    "    fig.update_xaxes(tickformat=\"%e. %b\", ticklabelmode=\"period\") \n",
    "    display(fig)"
   ]
  },
  {
   "cell_type": "markdown",
   "id": "be4a2ef5-56b5-47aa-9af6-29a2725de207",
   "metadata": {},
   "source": [
    "### Teraz môžeme funkciu `plot_8d` vytvoriť metódou `Copy - Paste` z funkcie `plot_48h`, zmeníme len formátovanie časovej osi."
   ]
  },
  {
   "cell_type": "code",
   "execution_count": null,
   "id": "14ee2cdd-f876-4430-978e-af892c386601",
   "metadata": {},
   "outputs": [],
   "source": [
    "def plot_8d(wdata, val):\n",
    "    \"display forecast from next 8 days\"\n",
    "    df = wdata[\"daily\"]\n",
    "    if not val in df.columns:\n",
    "        raise ValueError(\"No such observation.\")\n",
    "    xval, yval = df[val].index, df[val]   \n",
    "    fig = go.Figure()\n",
    "    graph = go.Scatter(x=xval, y=yval)\n",
    "    fig.add_trace(graph)\n",
    "    fig.update_xaxes(tickformat=\"%e. %b\")  # dtick are OK, but the format we changed\n",
    "    return fig"
   ]
  },
  {
   "cell_type": "code",
   "execution_count": null,
   "id": "2566bd8c-e977-4df3-bc01-de831b83cdfe",
   "metadata": {},
   "outputs": [],
   "source": [
    "# plot_8d(wdata, \"facina\")\n",
    "# plot_8d(wdata, \"max\")"
   ]
  },
  {
   "cell_type": "markdown",
   "id": "8df8ca4c-9deb-48d9-8fb3-2b28d259f0d3",
   "metadata": {},
   "source": [
    "### Chceli by sme mať všetky údaje o teplote (`day, night, max, min`) v jednom grafe. \n",
    "### Nie je to ťažké, použijeme pre každú hodnotu funkciu `fig.add_trace(...)`."
   ]
  },
  {
   "cell_type": "code",
   "execution_count": null,
   "id": "170f224e-6d4c-4855-8053-cbb90573c085",
   "metadata": {},
   "outputs": [],
   "source": [
    "# dictionary of temperature keys and corresponding colors we choose for them\n",
    "temp = {\"day\": \"green\", \"night\": \"darkblue\", \"max\": \"red\", \"min\": \"blue\"}\n",
    "\n",
    "def plot_dailytemps(wdata):\n",
    "    # Copy-Paste from plot_8d, small changes\n",
    "    df = wdata[\"daily\"] \n",
    "    fig = go.Figure()\n",
    "    for val in temp:\n",
    "        xval, yval = df[val].index, df[val]\n",
    "        val_graph = go.Bar(x=xval, y=yval, marker_color=temp[val], name=val)  # try go.Bar\n",
    "        fig.add_trace(val_graph)\n",
    "    fig.update_xaxes(tickformat=\"%e. %b\")\n",
    "    return fig"
   ]
  },
  {
   "cell_type": "code",
   "execution_count": null,
   "id": "7a98603c-2c83-456c-b49f-de0ec25d3573",
   "metadata": {},
   "outputs": [],
   "source": [
    "# plot_dailytemps(wdata)"
   ]
  },
  {
   "cell_type": "markdown",
   "id": "97b27378-0d09-4cfe-96e8-08167f9b2c79",
   "metadata": {},
   "source": [
    "### Nakoniec, chceli by sme zobraziť niekoľko grafov pre rôzne veličiny pod sebou (podobne, ako je to na SHMU). \n",
    "### To sa dá, ak namiesto `Figure` použijeme `make_subplots` (vráti viac podgrafov v jednom \"okne\", usporiadaných v \"gride\", počet riadkov je `rows`, počet stĺpcov `cols`)."
   ]
  },
  {
   "cell_type": "code",
   "execution_count": null,
   "id": "edb42ab8-ff60-4b8b-a9b6-158245614b35",
   "metadata": {},
   "outputs": [],
   "source": [
    "## let us plot hourly values for temperature and humidity\n",
    "df = wdata[\"hourly\"]\n",
    "values = [\"temp\", \"humidity\"] # can change\n",
    "num_plots = len(values)\n",
    "fig = make_subplots(rows=num_plots, cols=1, subplot_titles=values) # our grid has num_plots rows and one column\n",
    "act_row = 1   # actual row\n",
    "for val in values:\n",
    "    xval = df[val].index\n",
    "    yval = df[val]\n",
    "    val_graph = go.Scatter(x=xval, y=yval)\n",
    "    fig.add_trace(val_graph, row=act_row, col=1)\n",
    "    fig.update_xaxes(dtick=60*60*1000*3, tickformat=\"%H\\n%e. %b\")\n",
    "    act_row += 1 \n",
    "fig.update_layout(height=num_plots * 250, width=1000, showlegend=False) \n",
    "display(fig)"
   ]
  },
  {
   "cell_type": "markdown",
   "id": "ee0b296c-58b5-4aaf-afc4-d52875a559db",
   "metadata": {},
   "source": [
    "### Iste sme si všimli, že podstatná časť kódu sa v horeuvedených funkciách opakuje. To nie je dobre.\n",
    "### Môžeme vytvoriť jedinú funkciu `plot_forecasts(wdata, period, values)`, ktorá zahrnie všetko, čo sme doteraz urobili. \n",
    "### Pozrieme si to v notebooku [nazvanom `work_plot_functions`](work_plot_functions.ipynb) "
   ]
  }
 ],
 "metadata": {
  "kernelspec": {
   "display_name": "Python 3 (ipykernel)",
   "language": "python",
   "name": "python3"
  },
  "language_info": {
   "codemirror_mode": {
    "name": "ipython",
    "version": 3
   },
   "file_extension": ".py",
   "mimetype": "text/x-python",
   "name": "python",
   "nbconvert_exporter": "python",
   "pygments_lexer": "ipython3",
   "version": "3.10.6"
  }
 },
 "nbformat": 4,
 "nbformat_minor": 5
}
