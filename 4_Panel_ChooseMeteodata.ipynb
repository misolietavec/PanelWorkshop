{
 "cells": [
  {
   "cell_type": "code",
   "execution_count": null,
   "id": "b13305ae",
   "metadata": {},
   "outputs": [],
   "source": [
    "import panel as pn\n",
    "from final.weather_functions import get_weather, wkeys, StaNames\n",
    "from final.plot_functions import plot_forecasts\n",
    "\n",
    "# learned from our mistakes\n",
    "pn.extension('plotly')"
   ]
  },
  {
   "cell_type": "markdown",
   "id": "56dd89ec",
   "metadata": {},
   "source": [
    "#### Chceme si zvoliť, aké grafy budeme zobrazovať"
   ]
  },
  {
   "cell_type": "code",
   "execution_count": null,
   "id": "ee5201cf",
   "metadata": {},
   "outputs": [],
   "source": [
    "# what values can we choose to show on plots?\n",
    "wkeys"
   ]
  },
  {
   "cell_type": "code",
   "execution_count": null,
   "id": "67c44efa",
   "metadata": {},
   "outputs": [],
   "source": [
    "observ_choice = pn.widgets.CheckBoxGroup(options=wkeys, value=['temp', 'clouds'], width=200)\n",
    "observ_choice"
   ]
  },
  {
   "cell_type": "markdown",
   "id": "6024d108",
   "metadata": {},
   "source": [
    "#### Nechceme, aby sa zobrazovalo 6 grafov, trvá to dlhšie a zahltí to miesto na obrazovke...  \n",
    "#### A k tomu všetkému ešte vznikajú bugy s výškou grafov...  \n",
    "#### Čo ak chceme zobraziť len max 3 grafy?"
   ]
  },
  {
   "cell_type": "markdown",
   "id": "00ff9a0f",
   "metadata": {},
   "source": [
    "### <b>Interaktivita inak - Eventy (Udalosti)</b>"
   ]
  },
  {
   "cell_type": "markdown",
   "id": "45c60ee7",
   "metadata": {},
   "source": [
    "#### **Event** - signalizuje zmenu hodnoty parametra, obsahuje užitočné atribúty poskytujúce informácie ohľadom udalosti\n",
    "- **name**: Názov zmeneného parametra\n",
    "- **new**: Nová hodnota parametra \n",
    "- **old**: Stará hodnota parametra (pred zmenou)\n",
    "- **type**: Typ eventu (`'triggered', 'changed'` alebo `'set'`)\n",
    "- **what**: Čo sa zmenilo (väčšinou `'value'`)\n",
    "- obj: Konkrétny objekt ktorý vyvolal udalosť\n",
    "- cls: Trieda objektu   "
   ]
  },
  {
   "cell_type": "code",
   "execution_count": null,
   "id": "daa71e8f",
   "metadata": {},
   "outputs": [],
   "source": [
    "def print_event(*events):  # *events - any number of arguments\n",
    "    for event in events:\n",
    "        print(event)\n",
    "\n",
    "        \n",
    "# widget_name.param.watch( function_name, list of values to watch, e.g. value, other parameters...)\n",
    "watcher_print_event = observ_choice.param.watch(print_event, ['value'], onlychanged=True)"
   ]
  },
  {
   "cell_type": "code",
   "execution_count": null,
   "id": "210cfd87",
   "metadata": {},
   "outputs": [],
   "source": [
    "observ_choice"
   ]
  },
  {
   "cell_type": "code",
   "execution_count": null,
   "id": "a7a9295d",
   "metadata": {},
   "outputs": [],
   "source": [
    "# cancel printing values\n",
    "observ_choice.param.unwatch(watcher_print_event)"
   ]
  },
  {
   "cell_type": "code",
   "execution_count": null,
   "id": "1df07f88",
   "metadata": {},
   "outputs": [],
   "source": [
    "# to prevent further disaster, set the value to temp (or anything that is max 3 values)\n",
    "observ_choice.value = ['temp']\n",
    "\n",
    "def set_observ(*events):  \n",
    "    for event in events:\n",
    "        if event.type == \"changed\" and (len(event.new) > 3 or len(event.new) == 0):\n",
    "            observ_choice.value = event.old\n",
    "            \n",
    "observ_watcher = observ_choice.param.watch(set_observ, ['value'], onlychanged=True)"
   ]
  },
  {
   "cell_type": "code",
   "execution_count": null,
   "id": "d4310f15-9afd-4daa-b31e-00c0a0eeb020",
   "metadata": {},
   "outputs": [],
   "source": [
    "observ_choice"
   ]
  },
  {
   "cell_type": "code",
   "execution_count": null,
   "id": "574ca7d3",
   "metadata": {},
   "outputs": [],
   "source": [
    "station_choice = pn.widgets.Select(name=\"Select a station\", options=StaNames, width=200)\n",
    "\n",
    "@pn.depends(station_choice, observ_choice)\n",
    "def view_hourly(station_choice, observ_choice):\n",
    "    data = get_weather(station_choice)\n",
    "    fig = plot_forecasts(data, 'hourly', values=observ_choice)\n",
    "    return fig\n",
    "\n",
    "\n",
    "options = pn.Column(station_choice, observ_choice)\n",
    "pn.Row(options, view_hourly)"
   ]
  },
  {
   "cell_type": "code",
   "execution_count": null,
   "id": "ede8e735-9ac1-4257-93d7-707bfa0cab6f",
   "metadata": {},
   "outputs": [],
   "source": []
  }
 ],
 "metadata": {
  "jupytext": {
   "cell_metadata_filter": "-all",
   "notebook_metadata_filter": "-all"
  },
  "kernelspec": {
   "display_name": "Python 3 (ipykernel)",
   "language": "python",
   "name": "python3"
  },
  "language_info": {
   "codemirror_mode": {
    "name": "ipython",
    "version": 3
   },
   "file_extension": ".py",
   "mimetype": "text/x-python",
   "name": "python",
   "nbconvert_exporter": "python",
   "pygments_lexer": "ipython3",
   "version": "3.10.5"
  }
 },
 "nbformat": 4,
 "nbformat_minor": 5
}
