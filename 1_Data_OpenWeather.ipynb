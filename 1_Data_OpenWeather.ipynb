{
 "cells": [
  {
   "cell_type": "markdown",
   "id": "ece7a479-e701-47f9-a0fb-c28629b10144",
   "metadata": {},
   "source": [
    "#### Sme v Jupyter(lab) notebooku, ktorý mnohí poznáme a máme radi. \n",
    "#### Tí, čo ho nepoznajú, hádam ho s nami spoznajú z tej lepšej stránky. :-)\n",
    "#### Notebook sa skladá z buniek, ako je táto, v ktorej práve sme (modrý pasik vľavo).\n",
    "#### Bunky môžu byť typu `Markdown` (text, pokec) a `Code`, bunky s vykonávateľným Python kódom."
   ]
  },
  {
   "cell_type": "markdown",
   "id": "a6308fe8",
   "metadata": {
    "lines_to_next_cell": 2
   },
   "source": [
    "#### Prvotné sú dáta. Ak ich máme, môžeme rozmýšľať, ako ich čo najnázornejšie interpretovať.\n",
    "#### Dáta môžu byť v rôznych formátoch, my budeme používať ```pickle, json, csv```. Importujeme moduly na ich načítanie.\n",
    "#### Vykonateľnú bunku (typu `code`) vykonáme cez `Shift-Enter`, tým sa aj posunieme do ďalšej bunky."
   ]
  },
  {
   "cell_type": "code",
   "execution_count": null,
   "id": "764b76f8",
   "metadata": {},
   "outputs": [],
   "source": [
    "# this is code cell, execute with Ctrl-Enter\n",
    "import pickle\n",
    "import json\n",
    "import pandas as pd  # for reading csv files as pandas DataFrame"
   ]
  },
  {
   "cell_type": "code",
   "execution_count": null,
   "id": "2029629c",
   "metadata": {},
   "outputs": [],
   "source": [
    "# we begin with reading file with meteostations in Slovakia\n",
    "picklefile = open('data/stanice.pickle','rb')   # relative path; why binary?\n",
    "Stations_SK = pickle.load(picklefile)\n",
    "# for convenience, alphabetically sorted names of meteostations\n",
    "StaNames = sorted(list(Stations_SK.keys()))"
   ]
  },
  {
   "cell_type": "code",
   "execution_count": null,
   "id": "1e4be91d",
   "metadata": {},
   "outputs": [],
   "source": [
    "# look at data, guess what is what\n",
    "# print(Stations_SK)\n",
    "# print(StaNames)"
   ]
  },
  {
   "cell_type": "markdown",
   "id": "a8b7d10d",
   "metadata": {},
   "source": [
    "#### Neskôr budeme často využívať dátovy typ  ```pandas DataFrame```. Dnes poobede sa môžete zúčastniť workshopu **Pandas watching movies**, takže sa nebudeme venovať objasneniu tohto typu. Stačí vedieť, že:\n",
    "#### **pd.DataFrame je tabuľka s pomenovanými stĺpcami a  indexovým stĺpcom, (obsahujúcim pomenovania riadkov - pozorovaní).**"
   ]
  },
  {
   "cell_type": "code",
   "execution_count": null,
   "id": "16220358",
   "metadata": {},
   "outputs": [],
   "source": [
    "# making pd.Dataframe from Stations_SK dictionary, lat is zem. šírka, lon is zem. dĺžka, show this beautiful table\n",
    "Stations_DF = pd.DataFrame.from_dict(Stations_SK, orient='index', columns=['lat','lon'])\n",
    "# Stations_DF"
   ]
  },
  {
   "cell_type": "markdown",
   "id": "88cf5d2f",
   "metadata": {},
   "source": [
    "<b>Bolo by pekné, keby sme pre tie slovenské stanice mali nejaké dáta o počasí (aktuálne, predpovede, historické dáta).</b>\n",
    "#### Meteodáta získame zo stránky [OpenWeatherMap](https://openweathermap.org/api) s využitím ```One Call API 3.0```."
   ]
  },
  {
   "cell_type": "markdown",
   "id": "7e18c2e9-7b85-4726-ab46-6c7f5e6c1426",
   "metadata": {},
   "source": [
    "#### Pripomeňme si názvy staníc zo ```StaNames```\n",
    "```python\n",
    "['Banská Bystrica', 'Banská Štiavnica', 'Bardejov', 'Bašovce', 'Bojnice', 'Boľkovce', 'Bratislava', 'Brezno', 'Brezno - Zadné Halny', 'Brezová pod Bradlom', 'Bytča', 'Bánovce nad Bebravou', 'Chlmec', 'Detva', 'Dobšiná', 'Dolný Kubín', 'Dubnica nad Váhom', 'Dunajská Streda', 'Dúbravka', 'Fiľakovo', 'Galanta', 'Gbely', 'Gelnica', 'Gemerská Hôrka', 'Giraltovce', 'Handlová', 'Hlohovec', 'Hnúšťa', 'Hody', 'Holíč', 'Hontianska Vrbica', 'Hriňová', 'Humenné', 'Hurbanovo', 'Hybe', 'Ilava', 'Istebník', 'Kamenica nad Cirochou', 'Kežmarok', 'Kolárovo', 'Komárno', 'Kotešová', 'Košice', 'Kremnica', 'Krompachy', 'Krupina', 'Kysucké Nové Mesto', 'Leopoldov', 'Levice', 'Levoča', 'Likavka', 'Lipany', 'Liptovský Hrádok', 'Liptovský Mikuláš', 'Lovce', 'Lučenec', 'Malacky', 'Martin', 'Medzev', 'Medzilaborce', 'Michalovce', 'Modra nad Cirochou', 'Moldava nad Bodvou', 'Most pri Bratislave', 'Myjava', 'Nemšová', 'Nitra', 'Nižné Nemecké', 'Nová Baňa', 'Nová Dubnica', 'Nová Lesná', 'Nováky', 'Nové Mesto nad Váhom', 'Nové Zámky', 'Námestovo', 'Oravská Lesná', 'Palúdzka', 'Partizánske', 'Pezinok', 'Piešťany', 'Podolínec', 'Poltár', 'Poprad', 'Považská Bystrica', 'Poľný Kesov', 'Prešov', 'Pribylina', 'Prievidza', 'Púchov', 'Rajec', 'Revúca', 'Rimavská Sobota', 'Rožňava', 'Rožňové Mitice', 'Ružindol', 'Ružomberok', 'Sabinov', 'Senec', 'Senica', 'Sečovce', 'Skalica', 'Sládkovičovo', 'Smolenice', 'Snina', 'Sobrance', 'Sološnica', 'Spišská Belá', 'Spišská Nová Ves', 'Spišské Podhradie', 'Stará Turá', 'Stará Ľubovňa', 'Stropkov', 'Stráňany', 'Strážske', 'Stupava', 'Svidník', 'Svit', 'Svodín', 'Svätý Jur', 'Tisovec', 'Tlmače', 'Topoľčany', 'Trebišov', 'Trenčianske Teplice', 'Trenčín', 'Trnava', 'Trstená', 'Turzovka', 'Turčianske Teplice', 'Tvrdošín', 'Veľký Bysterec', 'Veľký Meder', 'Vinné', 'Vranov nad Topľou', 'Vrbové', 'Vráble', 'Vrútky', 'Vysoké Tatry', 'Vysoké Tatry - Nový Smokovec', 'Vyšné Ružbachy', 'Zlaté Moravce', 'Zliechov', 'Zvolen', 'Závodie', 'Čachtice', 'Čadca', 'Čierna nad Tisou', 'Ľubica', 'Šahy', 'Šamorín', 'Šaľa', 'Štrba', 'Štúrovo', 'Šurany', 'Žarnovica', 'Ždiar', 'Želiezovce', 'Žiar nad Hronom', 'Žilina']\n",
    "```"
   ]
  },
  {
   "cell_type": "code",
   "execution_count": null,
   "id": "31b7ab7a",
   "metadata": {},
   "outputs": [],
   "source": [
    "# show One Call API call, response, account, apikey\n",
    "# we will make direct call with requests module\n",
    "\n",
    "import requests\n",
    "from os import environ\n",
    "\n",
    "owkey =  environ[\"OWM_APIKEY\"]    # necessary for call\n",
    "\n",
    "lat, lon = Stations_SK['Oravská Lesná']   # you can take your own place, but paste only from StaNames at above cell\n",
    "URL = f\"https://api.openweathermap.org/data/3.0/onecall?lat={lat}&lon={lon}&exclude=minutely,allerts&appid={owkey}&units=metric\"\n",
    "\n",
    "one_call_result = requests.get(URL)  # response object with many attributes and methods\n",
    "wdict = one_call_result.json()       # you will see, this is what we need"
   ]
  },
  {
   "cell_type": "code",
   "execution_count": null,
   "id": "9c18538d",
   "metadata": {},
   "outputs": [],
   "source": [
    "# let's see, what we get\n",
    "# print(f\"keys:\\n{wdict.keys()}\", f\"daily record:\\n{wdict['daily'][0]}\", \n",
    "#       f\"hourly record:\\n{wdict['hourly'][0]}\", f\"current weather:\\n{wdict['current']}\", sep='\\n\\n')"
   ]
  },
  {
   "cell_type": "markdown",
   "id": "ab8ef917",
   "metadata": {},
   "source": [
    "#### Vidíme neobvykle veľké hodnoty časových údajov pre kľúče `\"dt\", \"sunrise\"`, ... Čas sa tu meria ako  `UNIX timestamp`, čo je počet sekúnd od počiatku UNIX-ovej éry (1. jan. 1970). \n",
    "#### Ukážeme, ako túto hodnotu konvertovať na čitateľnejší formát (dátum a čas)."
   ]
  },
  {
   "cell_type": "code",
   "execution_count": null,
   "id": "19afcbad",
   "metadata": {},
   "outputs": [],
   "source": [
    "from datetime import datetime\n",
    "\n",
    "first_hourly = wdict['hourly'][0]\n",
    "first_date = datetime.fromtimestamp(first_hourly['dt'])\n",
    "first_date\n",
    "# for string reprezentation we will use strftime method; \n",
    "# we want the date and time in this format: 9. 9. 2022, 10:30\n",
    "# nice help for formatting codes see at https://www.strfti.me/ - used in C, php, python,...\n",
    "#\n",
    "# print (f\"default: {first_date}\", f'our format: {first_date.strftime(\"%-d. %-m. %Y, %-H:%M\")}',sep='\\n')"
   ]
  },
  {
   "cell_type": "markdown",
   "id": "bc08b837",
   "metadata": {},
   "source": [
    "#### Inšpirovaní všetkým horeuvideným, editujeme [pripravený notebook s názvom work_weather_functions](work_weather_functions.ipynb)\n",
    "#### a budeme ho postupne napĺňať funkciami pre získanie aktuálneho počasia, predpovedí na 48 hodin a 8 dní."
   ]
  }
 ],
 "metadata": {
  "kernelspec": {
   "display_name": "Python 3 (ipykernel)",
   "language": "python",
   "name": "python3"
  },
  "language_info": {
   "codemirror_mode": {
    "name": "ipython",
    "version": 3
   },
   "file_extension": ".py",
   "mimetype": "text/x-python",
   "name": "python",
   "nbconvert_exporter": "python",
   "pygments_lexer": "ipython3",
   "version": "3.10.6"
  }
 },
 "nbformat": 4,
 "nbformat_minor": 5
}
