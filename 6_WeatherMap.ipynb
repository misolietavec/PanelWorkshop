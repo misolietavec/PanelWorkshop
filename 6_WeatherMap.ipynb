{
 "cells": [
  {
   "cell_type": "markdown",
   "id": "176b9ef4-4743-4158-adb8-2e4893f25670",
   "metadata": {},
   "source": [
    "#### V tomto notebooku pridáme zobrazenie meteostaníc na mape, s vyznačenou vybranou stanicou.\n",
    "#### Na to použijeme modul `folium` (iná možnosť - `ipyleaflet`), oba sú založené na [JS knižnici Leaflet](https://leafletjs.com/).\n",
    "#### Mimochodom, o mapách v prehliadači bude [dnes o 14-tej mať vystúpenie Vojta Filipec](https://2022.pycon.sk/sk/speakers/Vojta%20Filipec.html)"
   ]
  },
  {
   "cell_type": "code",
   "execution_count": null,
   "id": "01c10408-da1b-49f9-8a00-b9604e86aa48",
   "metadata": {},
   "outputs": [],
   "source": [
    "# meteostations with geographic coordinates\n",
    "from weather_functions import Stations_SK\n",
    "\n",
    "# imports for folium\n",
    "import folium\n",
    "from folium import plugins"
   ]
  },
  {
   "cell_type": "code",
   "execution_count": null,
   "id": "3630e174-d853-4e2e-ac23-63057120ccea",
   "metadata": {},
   "outputs": [],
   "source": [
    "# making map with folium: location is (lat, lon), zoom_start - initial map zoom\n",
    "map_SK = folium.Map(location=[48.7, 19.6], zoom_start=8)\n",
    "# map_SK"
   ]
  },
  {
   "cell_type": "code",
   "execution_count": null,
   "id": "55e5ee8e-711b-4c36-90eb-241430e92b49",
   "metadata": {},
   "outputs": [],
   "source": [
    "# making \"clear\" map and adding markers at locations of stations\n",
    "# Stations_SK\n",
    "map_SK = folium.Map(location=[48.7, 19.6], zoom_start=8)\n",
    "for name in Stations_SK:\n",
    "    # map_SK.add_child(folium.Marker(location=Stations_SK[name])) # simplest, but ?\n",
    "    map_SK.add_child(folium.CircleMarker(location=Stations_SK[name],\n",
    "                                         radius=6, tooltip=name, color=\"green\", fill_color=\"blue\"))\n",
    "# map_SK"
   ]
  },
  {
   "cell_type": "markdown",
   "id": "c226bc75-2b98-428d-8eb0-899b93a86d5c",
   "metadata": {},
   "source": [
    "#### Stanice tvoria v niektorých miestach zhluky (clusters). Bolo by pekné, keby pri menšom zväčšení nebolo vidno jednotlivé stanice a po kliknutí na \"cluster\" by sa to pekne rozbalilo. \n",
    "#### Nato máme vo `folium.plugins` funkciu `MarkerCluster`."
   ]
  },
  {
   "cell_type": "code",
   "execution_count": null,
   "id": "e0538292-8b04-46e1-b54a-b928b6d4f67c",
   "metadata": {},
   "outputs": [],
   "source": [
    "# clear map, without markers\n",
    "map_SK = folium.Map(location=[48.7, 19.6], zoom_start=8)\n",
    "\n",
    "# make list of locations and corresponding popups\n",
    "loc, pops = [], []\n",
    "for name in Stations_SK:\n",
    "    location = Stations_SK[name]\n",
    "    poptext = f\"{name}\"\n",
    "    loc.append(location)\n",
    "    pops.append(poptext)\n",
    "    \n",
    "plugins.MarkerCluster(locations=loc, popups=pops).add_to(map_SK);\n",
    "# map_SK"
   ]
  },
  {
   "cell_type": "markdown",
   "id": "4833cbf2-41a9-4a0d-8734-1f1e1a84ec67",
   "metadata": {},
   "source": [
    "#### Máme dosť znalostí, aby sme pochopili dve jednoduché mapové funkcie [v notebooku map_functions](work_map_functions.ipynb).\n",
    "#### Tie funkcie, `slovakia_map` a `choosen_onmap` sú pridané do `plot_functions` a odtiaľ ich budeme používať v [konečnej verzii aplikácie](work_weatherapp.ipynb)."
   ]
  }
 ],
 "metadata": {
  "kernelspec": {
   "display_name": "Python 3 (ipykernel)",
   "language": "python",
   "name": "python3"
  },
  "language_info": {
   "codemirror_mode": {
    "name": "ipython",
    "version": 3
   },
   "file_extension": ".py",
   "mimetype": "text/x-python",
   "name": "python",
   "nbconvert_exporter": "python",
   "pygments_lexer": "ipython3",
   "version": "3.10.6"
  }
 },
 "nbformat": 4,
 "nbformat_minor": 5
}
