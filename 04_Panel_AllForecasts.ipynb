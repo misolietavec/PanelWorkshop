{
 "cells": [
  {
   "cell_type": "code",
   "execution_count": null,
   "id": "26ebfc75",
   "metadata": {},
   "outputs": [],
   "source": [
    "import panel as pn\n",
    "from final.weather_functions import get_weather, wkeys, StaNames\n",
    "from final.plot_functions import plot_forecasts\n",
    "\n",
    "pn.extension('plotly')"
   ]
  },
  {
   "cell_type": "markdown",
   "id": "ce0901d2",
   "metadata": {},
   "source": [
    "#### Požičané z notebooku <a href=\"03_Panel_ChooseMeteodata.ipynb\">03_Panel_ChooseMeteodata</a>"
   ]
  },
  {
   "cell_type": "code",
   "execution_count": null,
   "id": "03dc9418",
   "metadata": {},
   "outputs": [],
   "source": [
    "observ_choice = pn.widgets.CheckBoxGroup(options=wkeys, value=['temp', 'clouds'], width=200)\n",
    "\n",
    "def set_observ(*events):  \n",
    "    for event in events:\n",
    "        if event.type == \"changed\" and(len(event.new) > 3 or len(event.new) == 0):\n",
    "            observ_choice.value = event.old\n",
    "            \n",
    "observ_watcher = observ_choice.param.watch(set_observ, ['value'], onlychanged=True)"
   ]
  },
  {
   "cell_type": "code",
   "execution_count": null,
   "id": "0a95f577",
   "metadata": {},
   "outputs": [],
   "source": [
    "station_choice = pn.widgets.Select(name=\"Select a station\", options=StaNames, width=200)\n",
    "\n",
    "@pn.depends(station_choice, observ_choice)\n",
    "def view_hourly(station_choice, observ_choice):\n",
    "    data = get_weather(station_choice)\n",
    "    fig = plot_forecasts(data, 'hourly', values=observ_choice)\n",
    "    return fig\n",
    "\n",
    "\n",
    "m_options = pn.Column(station_choice, observ_choice)"
   ]
  },
  {
   "cell_type": "code",
   "execution_count": null,
   "id": "864a61c4-07da-44f4-96d3-1076496965de",
   "metadata": {},
   "outputs": [],
   "source": [
    "pn.Row(m_options, view_hourly)"
   ]
  },
  {
   "cell_type": "markdown",
   "id": "2e1a05db",
   "metadata": {},
   "source": [
    "#### Teraz by sme chceli zobraziť merania na nasledujúcich 8 dní\n",
    "#### Vďaka `plot_forecasts` to môžeme hravo vyriešiť"
   ]
  },
  {
   "cell_type": "code",
   "execution_count": null,
   "id": "87c43b9e",
   "metadata": {},
   "outputs": [],
   "source": [
    "@pn.depends(station_choice, observ_choice)\n",
    "def view_daily(station_choice, observ_choice):\n",
    "    data = get_weather(station_choice)\n",
    "    fig = plot_forecasts(data, 'daily', values=observ_choice)\n",
    "    return fig"
   ]
  },
  {
   "cell_type": "code",
   "execution_count": null,
   "id": "8e70f90a",
   "metadata": {},
   "outputs": [],
   "source": [
    "# we will use the same widgets for choosing station & observations\n",
    "pn.Row(m_options, view_daily)"
   ]
  },
  {
   "cell_type": "markdown",
   "id": "fe26daaa",
   "metadata": {},
   "source": [
    "#### Keďže zdieľame widgety pre hodinové aj denné zobrazenia, tak ak zmeníme napr. denné merania, zmenia sa aj hodinové, a naopak"
   ]
  },
  {
   "cell_type": "markdown",
   "id": "d418e56a",
   "metadata": {},
   "source": [
    "#### Ale ako ich teraz spojiť dokopy?\n",
    "#### Na to nám pomôže`Tabs`"
   ]
  },
  {
   "cell_type": "code",
   "execution_count": null,
   "id": "0fcf0f4f",
   "metadata": {},
   "outputs": [],
   "source": [
    "# we define each tab with a tuple (tab name, widget to display)\n",
    "# we can also define tab with only a widget - panel gives it a name (but it is ugly)\n",
    "\n",
    "tabs = pn.Tabs(\n",
    "    (\"Hourly\", view_hourly),\n",
    "    (\"Daily\", view_daily),\n",
    "    # pn.Row(pn.pane.Markdown(\"# Simple example of an 'ugly' tab name\")),\n",
    "    dynamic=True,  # can prevent bugs (and headaches)\n",
    "    tabs_location='above'  # options: 'left', 'right', 'above'\n",
    ")"
   ]
  },
  {
   "cell_type": "code",
   "execution_count": null,
   "id": "b4062cca-3a97-45ca-8ee0-0e85aa6acc25",
   "metadata": {},
   "outputs": [],
   "source": [
    "tabs"
   ]
  },
  {
   "cell_type": "markdown",
   "id": "8652c7b0",
   "metadata": {},
   "source": [
    "#### Aj s `Tabs` môžeme odchytávať udalosti, budeme to využívať v nasledujúcom notebooku."
   ]
  },
  {
   "cell_type": "code",
   "execution_count": null,
   "id": "378ebaf0",
   "metadata": {},
   "outputs": [],
   "source": [
    "def print_observ(*events):\n",
    "    for event in events:\n",
    "        active_tab = event.new\n",
    "        if active_tab == 0:\n",
    "            print(\"Observing hourly forecast, Tab 0\")\n",
    "        else:\n",
    "            print(\"Observing daily forecast, Tab 1\")\n",
    "\n",
    "            \n",
    "# now we do not want 'value' , we want 'active'\n",
    "tabs_watcher = tabs.param.watch(print_observ, 'active', onlychanged=True)"
   ]
  },
  {
   "cell_type": "code",
   "execution_count": null,
   "id": "498ab21b",
   "metadata": {},
   "outputs": [],
   "source": [
    "tabs.param.unwatch(tabs_watcher)"
   ]
  },
  {
   "cell_type": "markdown",
   "id": "bb51b7e0",
   "metadata": {},
   "source": [
    "#### A ešte aby sme nezabudli na aktuálne počasie"
   ]
  },
  {
   "cell_type": "code",
   "execution_count": null,
   "id": "09fabe7b",
   "metadata": {},
   "outputs": [],
   "source": [
    "@pn.depends(station_choice)\n",
    "def view_current(station_choice):\n",
    "    df = get_weather(station_choice)['current']  # we want only the current weather\n",
    "    float_format_function = lambda s: '%.1f' %s  # or f\"{x:.1}\"\n",
    "    return pn.pane.DataFrame(df, justify='center', width=240, float_format=float_format_function)"
   ]
  },
  {
   "cell_type": "code",
   "execution_count": null,
   "id": "298db855",
   "metadata": {},
   "outputs": [],
   "source": [
    "widgets = pn.Column(m_options, view_current)\n",
    "# widgets"
   ]
  },
  {
   "cell_type": "markdown",
   "id": "c32042ad",
   "metadata": {},
   "source": [
    "#### A nakoniec to spojiť dokopy"
   ]
  },
  {
   "cell_type": "code",
   "execution_count": null,
   "id": "187b0942",
   "metadata": {},
   "outputs": [],
   "source": [
    "app = pn.Row(widgets, tabs)\n",
    "app"
   ]
  }
 ],
 "metadata": {
  "jupytext": {
   "cell_metadata_filter": "-all",
   "notebook_metadata_filter": "-all"
  },
  "kernelspec": {
   "display_name": "Python 3 (ipykernel)",
   "language": "python",
   "name": "python3"
  },
  "language_info": {
   "codemirror_mode": {
    "name": "ipython",
    "version": 3
   },
   "file_extension": ".py",
   "mimetype": "text/x-python",
   "name": "python",
   "nbconvert_exporter": "python",
   "pygments_lexer": "ipython3",
   "version": "3.10.5"
  }
 },
 "nbformat": 4,
 "nbformat_minor": 5
}
