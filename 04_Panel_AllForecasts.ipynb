{
 "cells": [
  {
   "cell_type": "code",
   "execution_count": 1,
   "id": "26ebfc75",
   "metadata": {},
   "outputs": [
    {
     "data": {
      "application/javascript": [
       "(function(root) {\n",
       "  function now() {\n",
       "    return new Date();\n",
       "  }\n",
       "\n",
       "  var force = true;\n",
       "\n",
       "  if (typeof root._bokeh_onload_callbacks === \"undefined\" || force === true) {\n",
       "    root._bokeh_onload_callbacks = [];\n",
       "    root._bokeh_is_loading = undefined;\n",
       "  }\n",
       "\n",
       "  if (typeof (root._bokeh_timeout) === \"undefined\" || force === true) {\n",
       "    root._bokeh_timeout = Date.now() + 5000;\n",
       "    root._bokeh_failed_load = false;\n",
       "  }\n",
       "\n",
       "  function run_callbacks() {\n",
       "    try {\n",
       "      root._bokeh_onload_callbacks.forEach(function(callback) {\n",
       "        if (callback != null)\n",
       "          callback();\n",
       "      });\n",
       "    } finally {\n",
       "      delete root._bokeh_onload_callbacks\n",
       "    }\n",
       "    console.debug(\"Bokeh: all callbacks have finished\");\n",
       "  }\n",
       "\n",
       "  function load_libs(css_urls, js_urls, js_modules, callback) {\n",
       "    if (css_urls == null) css_urls = [];\n",
       "    if (js_urls == null) js_urls = [];\n",
       "    if (js_modules == null) js_modules = [];\n",
       "\n",
       "    root._bokeh_onload_callbacks.push(callback);\n",
       "    if (root._bokeh_is_loading > 0) {\n",
       "      console.debug(\"Bokeh: BokehJS is being loaded, scheduling callback at\", now());\n",
       "      return null;\n",
       "    }\n",
       "    if (js_urls.length === 0 && js_modules.length === 0) {\n",
       "      run_callbacks();\n",
       "      return null;\n",
       "    }\n",
       "    console.debug(\"Bokeh: BokehJS not loaded, scheduling load and callback at\", now());\n",
       "\n",
       "    function on_load() {\n",
       "      root._bokeh_is_loading--;\n",
       "      if (root._bokeh_is_loading === 0) {\n",
       "        console.debug(\"Bokeh: all BokehJS libraries/stylesheets loaded\");\n",
       "        run_callbacks()\n",
       "      }\n",
       "    }\n",
       "\n",
       "    function on_error() {\n",
       "      console.error(\"failed to load \" + url);\n",
       "    }\n",
       "\n",
       "    for (var i = 0; i < css_urls.length; i++) {\n",
       "      var url = css_urls[i];\n",
       "      const element = document.createElement(\"link\");\n",
       "      element.onload = on_load;\n",
       "      element.onerror = on_error;\n",
       "      element.rel = \"stylesheet\";\n",
       "      element.type = \"text/css\";\n",
       "      element.href = url;\n",
       "      console.debug(\"Bokeh: injecting link tag for BokehJS stylesheet: \", url);\n",
       "      document.body.appendChild(element);\n",
       "    }\n",
       "\n",
       "    var skip = [];\n",
       "    if (window.requirejs) {\n",
       "      window.requirejs.config({'packages': {}, 'paths': {'plotly': 'https://cdn.plot.ly/plotly-2.10.1.min', 'gridstack': 'https://cdn.jsdelivr.net/npm/gridstack@4.2.5/dist/gridstack-h5', 'notyf': 'https://cdn.jsdelivr.net/npm/notyf@3/notyf.min'}, 'shim': {'gridstack': {'exports': 'GridStack'}}});\n",
       "      require([\"plotly\"], function(Plotly) {\n",
       "\twindow.Plotly = Plotly\n",
       "\ton_load()\n",
       "      })\n",
       "      require([\"gridstack\"], function(GridStack) {\n",
       "\twindow.GridStack = GridStack\n",
       "\ton_load()\n",
       "      })\n",
       "      require([\"notyf\"], function() {\n",
       "\ton_load()\n",
       "      })\n",
       "      root._bokeh_is_loading = css_urls.length + 3;\n",
       "    } else {\n",
       "      root._bokeh_is_loading = css_urls.length + js_urls.length + js_modules.length;\n",
       "    }    if (((window['Plotly'] !== undefined) && (!(window['Plotly'] instanceof HTMLElement))) || window.requirejs) {\n",
       "      var urls = ['https://cdn.plot.ly/plotly-2.10.1.min.js'];\n",
       "      for (var i = 0; i < urls.length; i++) {\n",
       "        skip.push(urls[i])\n",
       "      }\n",
       "    }    if (((window['GridStack'] !== undefined) && (!(window['GridStack'] instanceof HTMLElement))) || window.requirejs) {\n",
       "      var urls = ['https://cdn.jsdelivr.net/npm/gridstack@4.2.5/dist/gridstack-h5.js'];\n",
       "      for (var i = 0; i < urls.length; i++) {\n",
       "        skip.push(urls[i])\n",
       "      }\n",
       "    }    if (((window['Notyf'] !== undefined) && (!(window['Notyf'] instanceof HTMLElement))) || window.requirejs) {\n",
       "      var urls = ['https://cdn.jsdelivr.net/npm/notyf@3/notyf.min.js'];\n",
       "      for (var i = 0; i < urls.length; i++) {\n",
       "        skip.push(urls[i])\n",
       "      }\n",
       "    }    for (var i = 0; i < js_urls.length; i++) {\n",
       "      var url = js_urls[i];\n",
       "      if (skip.indexOf(url) >= 0) {\n",
       "\tif (!window.requirejs) {\n",
       "\t  on_load();\n",
       "\t}\n",
       "\tcontinue;\n",
       "      }\n",
       "      var element = document.createElement('script');\n",
       "      element.onload = on_load;\n",
       "      element.onerror = on_error;\n",
       "      element.async = false;\n",
       "      element.src = url;\n",
       "      console.debug(\"Bokeh: injecting script tag for BokehJS library: \", url);\n",
       "      document.head.appendChild(element);\n",
       "    }\n",
       "    for (var i = 0; i < js_modules.length; i++) {\n",
       "      var url = js_modules[i];\n",
       "      if (skip.indexOf(url) >= 0) {\n",
       "\tif (!window.requirejs) {\n",
       "\t  on_load();\n",
       "\t}\n",
       "\tcontinue;\n",
       "      }\n",
       "      var element = document.createElement('script');\n",
       "      element.onload = on_load;\n",
       "      element.onerror = on_error;\n",
       "      element.async = false;\n",
       "      element.src = url;\n",
       "      element.type = \"module\";\n",
       "      console.debug(\"Bokeh: injecting script tag for BokehJS library: \", url);\n",
       "      document.head.appendChild(element);\n",
       "    }\n",
       "    if (!js_urls.length && !js_modules.length) {\n",
       "      on_load()\n",
       "    }\n",
       "  };\n",
       "\n",
       "  function inject_raw_css(css) {\n",
       "    const element = document.createElement(\"style\");\n",
       "    element.appendChild(document.createTextNode(css));\n",
       "    document.body.appendChild(element);\n",
       "  }\n",
       "\n",
       "  var js_urls = [\"https://cdn.jsdelivr.net/npm/jquery@3.5.1/dist/jquery.slim.min.js\", \"https://cdn.plot.ly/plotly-2.10.1.min.js\", \"https://cdn.bokeh.org/bokeh/release/bokeh-2.4.3.min.js\", \"https://cdn.bokeh.org/bokeh/release/bokeh-gl-2.4.3.min.js\", \"https://cdn.bokeh.org/bokeh/release/bokeh-widgets-2.4.3.min.js\", \"https://cdn.bokeh.org/bokeh/release/bokeh-tables-2.4.3.min.js\", \"https://cdn.bokeh.org/bokeh/release/bokeh-mathjax-2.4.3.min.js\", \"https://cdn.jsdelivr.net/npm/notyf@3/notyf.min.js\", \"https://unpkg.com/@holoviz/panel@0.13.1/dist/panel.min.js\"];\n",
       "  var js_modules = [];\n",
       "  var css_urls = [\"https://cdn.jsdelivr.net/npm/notyf@3/notyf.min.css\", \"https://cdnjs.cloudflare.com/ajax/libs/font-awesome/5.15.1/css/all.min.css\", \"https://unpkg.com/@holoviz/panel@0.13.1/dist/css/widgets.css\", \"https://unpkg.com/@holoviz/panel@0.13.1/dist/css/json.css\", \"https://unpkg.com/@holoviz/panel@0.13.1/dist/css/debugger.css\", \"https://unpkg.com/@holoviz/panel@0.13.1/dist/css/markdown.css\", \"https://unpkg.com/@holoviz/panel@0.13.1/dist/css/loading.css\", \"https://unpkg.com/@holoviz/panel@0.13.1/dist/css/card.css\", \"https://unpkg.com/@holoviz/panel@0.13.1/dist/css/dataframe.css\", \"https://unpkg.com/@holoviz/panel@0.13.1/dist/css/alerts.css\"];\n",
       "  var inline_js = [    function(Bokeh) {\n",
       "      inject_raw_css(\"\\n    .bk.pn-loading.arcs:before {\\n      background-image: url(\\\"data:image/svg+xml;base64,PHN2ZyB4bWxucz0iaHR0cDovL3d3dy53My5vcmcvMjAwMC9zdmciIHhtbG5zOnhsaW5rPSJodHRwOi8vd3d3LnczLm9yZy8xOTk5L3hsaW5rIiBzdHlsZT0ibWFyZ2luOiBhdXRvOyBiYWNrZ3JvdW5kOiBub25lOyBkaXNwbGF5OiBibG9jazsgc2hhcGUtcmVuZGVyaW5nOiBhdXRvOyIgdmlld0JveD0iMCAwIDEwMCAxMDAiIHByZXNlcnZlQXNwZWN0UmF0aW89InhNaWRZTWlkIj4gIDxjaXJjbGUgY3g9IjUwIiBjeT0iNTAiIHI9IjMyIiBzdHJva2Utd2lkdGg9IjgiIHN0cm9rZT0iI2MzYzNjMyIgc3Ryb2tlLWRhc2hhcnJheT0iNTAuMjY1NDgyNDU3NDM2NjkgNTAuMjY1NDgyNDU3NDM2NjkiIGZpbGw9Im5vbmUiIHN0cm9rZS1saW5lY2FwPSJyb3VuZCI+ICAgIDxhbmltYXRlVHJhbnNmb3JtIGF0dHJpYnV0ZU5hbWU9InRyYW5zZm9ybSIgdHlwZT0icm90YXRlIiByZXBlYXRDb3VudD0iaW5kZWZpbml0ZSIgZHVyPSIxcyIga2V5VGltZXM9IjA7MSIgdmFsdWVzPSIwIDUwIDUwOzM2MCA1MCA1MCI+PC9hbmltYXRlVHJhbnNmb3JtPiAgPC9jaXJjbGU+PC9zdmc+\\\");\\n      background-size: auto calc(min(50%, 400px));\\n    }\\n    \");\n",
       "    },    function(Bokeh) {\n",
       "      Bokeh.set_log_level(\"info\");\n",
       "    },\n",
       "function(Bokeh) {} // ensure no trailing comma for IE\n",
       "  ];\n",
       "\n",
       "  function run_inline_js() {\n",
       "    if ((root.Bokeh !== undefined) || (force === true)) {\n",
       "      for (var i = 0; i < inline_js.length; i++) {\n",
       "        inline_js[i].call(root, root.Bokeh);\n",
       "      }} else if (Date.now() < root._bokeh_timeout) {\n",
       "      setTimeout(run_inline_js, 100);\n",
       "    } else if (!root._bokeh_failed_load) {\n",
       "      console.log(\"Bokeh: BokehJS failed to load within specified timeout.\");\n",
       "      root._bokeh_failed_load = true;\n",
       "    }\n",
       "  }\n",
       "\n",
       "  if (root._bokeh_is_loading === 0) {\n",
       "    console.debug(\"Bokeh: BokehJS loaded, going straight to plotting\");\n",
       "    run_inline_js();\n",
       "  } else {\n",
       "    load_libs(css_urls, js_urls, js_modules, function() {\n",
       "      console.debug(\"Bokeh: BokehJS plotting callback run at\", now());\n",
       "      run_inline_js();\n",
       "    });\n",
       "  }\n",
       "}(window));"
      ],
      "application/vnd.holoviews_load.v0+json": "(function(root) {\n  function now() {\n    return new Date();\n  }\n\n  var force = true;\n\n  if (typeof root._bokeh_onload_callbacks === \"undefined\" || force === true) {\n    root._bokeh_onload_callbacks = [];\n    root._bokeh_is_loading = undefined;\n  }\n\n  if (typeof (root._bokeh_timeout) === \"undefined\" || force === true) {\n    root._bokeh_timeout = Date.now() + 5000;\n    root._bokeh_failed_load = false;\n  }\n\n  function run_callbacks() {\n    try {\n      root._bokeh_onload_callbacks.forEach(function(callback) {\n        if (callback != null)\n          callback();\n      });\n    } finally {\n      delete root._bokeh_onload_callbacks\n    }\n    console.debug(\"Bokeh: all callbacks have finished\");\n  }\n\n  function load_libs(css_urls, js_urls, js_modules, callback) {\n    if (css_urls == null) css_urls = [];\n    if (js_urls == null) js_urls = [];\n    if (js_modules == null) js_modules = [];\n\n    root._bokeh_onload_callbacks.push(callback);\n    if (root._bokeh_is_loading > 0) {\n      console.debug(\"Bokeh: BokehJS is being loaded, scheduling callback at\", now());\n      return null;\n    }\n    if (js_urls.length === 0 && js_modules.length === 0) {\n      run_callbacks();\n      return null;\n    }\n    console.debug(\"Bokeh: BokehJS not loaded, scheduling load and callback at\", now());\n\n    function on_load() {\n      root._bokeh_is_loading--;\n      if (root._bokeh_is_loading === 0) {\n        console.debug(\"Bokeh: all BokehJS libraries/stylesheets loaded\");\n        run_callbacks()\n      }\n    }\n\n    function on_error() {\n      console.error(\"failed to load \" + url);\n    }\n\n    for (var i = 0; i < css_urls.length; i++) {\n      var url = css_urls[i];\n      const element = document.createElement(\"link\");\n      element.onload = on_load;\n      element.onerror = on_error;\n      element.rel = \"stylesheet\";\n      element.type = \"text/css\";\n      element.href = url;\n      console.debug(\"Bokeh: injecting link tag for BokehJS stylesheet: \", url);\n      document.body.appendChild(element);\n    }\n\n    var skip = [];\n    if (window.requirejs) {\n      window.requirejs.config({'packages': {}, 'paths': {'plotly': 'https://cdn.plot.ly/plotly-2.10.1.min', 'gridstack': 'https://cdn.jsdelivr.net/npm/gridstack@4.2.5/dist/gridstack-h5', 'notyf': 'https://cdn.jsdelivr.net/npm/notyf@3/notyf.min'}, 'shim': {'gridstack': {'exports': 'GridStack'}}});\n      require([\"plotly\"], function(Plotly) {\n\twindow.Plotly = Plotly\n\ton_load()\n      })\n      require([\"gridstack\"], function(GridStack) {\n\twindow.GridStack = GridStack\n\ton_load()\n      })\n      require([\"notyf\"], function() {\n\ton_load()\n      })\n      root._bokeh_is_loading = css_urls.length + 3;\n    } else {\n      root._bokeh_is_loading = css_urls.length + js_urls.length + js_modules.length;\n    }    if (((window['Plotly'] !== undefined) && (!(window['Plotly'] instanceof HTMLElement))) || window.requirejs) {\n      var urls = ['https://cdn.plot.ly/plotly-2.10.1.min.js'];\n      for (var i = 0; i < urls.length; i++) {\n        skip.push(urls[i])\n      }\n    }    if (((window['GridStack'] !== undefined) && (!(window['GridStack'] instanceof HTMLElement))) || window.requirejs) {\n      var urls = ['https://cdn.jsdelivr.net/npm/gridstack@4.2.5/dist/gridstack-h5.js'];\n      for (var i = 0; i < urls.length; i++) {\n        skip.push(urls[i])\n      }\n    }    if (((window['Notyf'] !== undefined) && (!(window['Notyf'] instanceof HTMLElement))) || window.requirejs) {\n      var urls = ['https://cdn.jsdelivr.net/npm/notyf@3/notyf.min.js'];\n      for (var i = 0; i < urls.length; i++) {\n        skip.push(urls[i])\n      }\n    }    for (var i = 0; i < js_urls.length; i++) {\n      var url = js_urls[i];\n      if (skip.indexOf(url) >= 0) {\n\tif (!window.requirejs) {\n\t  on_load();\n\t}\n\tcontinue;\n      }\n      var element = document.createElement('script');\n      element.onload = on_load;\n      element.onerror = on_error;\n      element.async = false;\n      element.src = url;\n      console.debug(\"Bokeh: injecting script tag for BokehJS library: \", url);\n      document.head.appendChild(element);\n    }\n    for (var i = 0; i < js_modules.length; i++) {\n      var url = js_modules[i];\n      if (skip.indexOf(url) >= 0) {\n\tif (!window.requirejs) {\n\t  on_load();\n\t}\n\tcontinue;\n      }\n      var element = document.createElement('script');\n      element.onload = on_load;\n      element.onerror = on_error;\n      element.async = false;\n      element.src = url;\n      element.type = \"module\";\n      console.debug(\"Bokeh: injecting script tag for BokehJS library: \", url);\n      document.head.appendChild(element);\n    }\n    if (!js_urls.length && !js_modules.length) {\n      on_load()\n    }\n  };\n\n  function inject_raw_css(css) {\n    const element = document.createElement(\"style\");\n    element.appendChild(document.createTextNode(css));\n    document.body.appendChild(element);\n  }\n\n  var js_urls = [\"https://cdn.jsdelivr.net/npm/jquery@3.5.1/dist/jquery.slim.min.js\", \"https://cdn.plot.ly/plotly-2.10.1.min.js\", \"https://cdn.bokeh.org/bokeh/release/bokeh-2.4.3.min.js\", \"https://cdn.bokeh.org/bokeh/release/bokeh-gl-2.4.3.min.js\", \"https://cdn.bokeh.org/bokeh/release/bokeh-widgets-2.4.3.min.js\", \"https://cdn.bokeh.org/bokeh/release/bokeh-tables-2.4.3.min.js\", \"https://cdn.bokeh.org/bokeh/release/bokeh-mathjax-2.4.3.min.js\", \"https://cdn.jsdelivr.net/npm/notyf@3/notyf.min.js\", \"https://unpkg.com/@holoviz/panel@0.13.1/dist/panel.min.js\"];\n  var js_modules = [];\n  var css_urls = [\"https://cdn.jsdelivr.net/npm/notyf@3/notyf.min.css\", \"https://cdnjs.cloudflare.com/ajax/libs/font-awesome/5.15.1/css/all.min.css\", \"https://unpkg.com/@holoviz/panel@0.13.1/dist/css/widgets.css\", \"https://unpkg.com/@holoviz/panel@0.13.1/dist/css/json.css\", \"https://unpkg.com/@holoviz/panel@0.13.1/dist/css/debugger.css\", \"https://unpkg.com/@holoviz/panel@0.13.1/dist/css/markdown.css\", \"https://unpkg.com/@holoviz/panel@0.13.1/dist/css/loading.css\", \"https://unpkg.com/@holoviz/panel@0.13.1/dist/css/card.css\", \"https://unpkg.com/@holoviz/panel@0.13.1/dist/css/dataframe.css\", \"https://unpkg.com/@holoviz/panel@0.13.1/dist/css/alerts.css\"];\n  var inline_js = [    function(Bokeh) {\n      inject_raw_css(\"\\n    .bk.pn-loading.arcs:before {\\n      background-image: url(\\\"data:image/svg+xml;base64,PHN2ZyB4bWxucz0iaHR0cDovL3d3dy53My5vcmcvMjAwMC9zdmciIHhtbG5zOnhsaW5rPSJodHRwOi8vd3d3LnczLm9yZy8xOTk5L3hsaW5rIiBzdHlsZT0ibWFyZ2luOiBhdXRvOyBiYWNrZ3JvdW5kOiBub25lOyBkaXNwbGF5OiBibG9jazsgc2hhcGUtcmVuZGVyaW5nOiBhdXRvOyIgdmlld0JveD0iMCAwIDEwMCAxMDAiIHByZXNlcnZlQXNwZWN0UmF0aW89InhNaWRZTWlkIj4gIDxjaXJjbGUgY3g9IjUwIiBjeT0iNTAiIHI9IjMyIiBzdHJva2Utd2lkdGg9IjgiIHN0cm9rZT0iI2MzYzNjMyIgc3Ryb2tlLWRhc2hhcnJheT0iNTAuMjY1NDgyNDU3NDM2NjkgNTAuMjY1NDgyNDU3NDM2NjkiIGZpbGw9Im5vbmUiIHN0cm9rZS1saW5lY2FwPSJyb3VuZCI+ICAgIDxhbmltYXRlVHJhbnNmb3JtIGF0dHJpYnV0ZU5hbWU9InRyYW5zZm9ybSIgdHlwZT0icm90YXRlIiByZXBlYXRDb3VudD0iaW5kZWZpbml0ZSIgZHVyPSIxcyIga2V5VGltZXM9IjA7MSIgdmFsdWVzPSIwIDUwIDUwOzM2MCA1MCA1MCI+PC9hbmltYXRlVHJhbnNmb3JtPiAgPC9jaXJjbGU+PC9zdmc+\\\");\\n      background-size: auto calc(min(50%, 400px));\\n    }\\n    \");\n    },    function(Bokeh) {\n      Bokeh.set_log_level(\"info\");\n    },\nfunction(Bokeh) {} // ensure no trailing comma for IE\n  ];\n\n  function run_inline_js() {\n    if ((root.Bokeh !== undefined) || (force === true)) {\n      for (var i = 0; i < inline_js.length; i++) {\n        inline_js[i].call(root, root.Bokeh);\n      }} else if (Date.now() < root._bokeh_timeout) {\n      setTimeout(run_inline_js, 100);\n    } else if (!root._bokeh_failed_load) {\n      console.log(\"Bokeh: BokehJS failed to load within specified timeout.\");\n      root._bokeh_failed_load = true;\n    }\n  }\n\n  if (root._bokeh_is_loading === 0) {\n    console.debug(\"Bokeh: BokehJS loaded, going straight to plotting\");\n    run_inline_js();\n  } else {\n    load_libs(css_urls, js_urls, js_modules, function() {\n      console.debug(\"Bokeh: BokehJS plotting callback run at\", now());\n      run_inline_js();\n    });\n  }\n}(window));"
     },
     "metadata": {},
     "output_type": "display_data"
    },
    {
     "data": {
      "application/javascript": [
       "\n",
       "if ((window.PyViz === undefined) || (window.PyViz instanceof HTMLElement)) {\n",
       "  window.PyViz = {comms: {}, comm_status:{}, kernels:{}, receivers: {}, plot_index: []}\n",
       "}\n",
       "\n",
       "\n",
       "    function JupyterCommManager() {\n",
       "    }\n",
       "\n",
       "    JupyterCommManager.prototype.register_target = function(plot_id, comm_id, msg_handler) {\n",
       "      if (window.comm_manager || ((window.Jupyter !== undefined) && (Jupyter.notebook.kernel != null))) {\n",
       "        var comm_manager = window.comm_manager || Jupyter.notebook.kernel.comm_manager;\n",
       "        comm_manager.register_target(comm_id, function(comm) {\n",
       "          comm.on_msg(msg_handler);\n",
       "        });\n",
       "      } else if ((plot_id in window.PyViz.kernels) && (window.PyViz.kernels[plot_id])) {\n",
       "        window.PyViz.kernels[plot_id].registerCommTarget(comm_id, function(comm) {\n",
       "          comm.onMsg = msg_handler;\n",
       "        });\n",
       "      } else if (typeof google != 'undefined' && google.colab.kernel != null) {\n",
       "        google.colab.kernel.comms.registerTarget(comm_id, (comm) => {\n",
       "          var messages = comm.messages[Symbol.asyncIterator]();\n",
       "          function processIteratorResult(result) {\n",
       "            var message = result.value;\n",
       "            console.log(message)\n",
       "            var content = {data: message.data, comm_id};\n",
       "            var buffers = []\n",
       "            for (var buffer of message.buffers || []) {\n",
       "              buffers.push(new DataView(buffer))\n",
       "            }\n",
       "            var metadata = message.metadata || {};\n",
       "            var msg = {content, buffers, metadata}\n",
       "            msg_handler(msg);\n",
       "            return messages.next().then(processIteratorResult);\n",
       "          }\n",
       "          return messages.next().then(processIteratorResult);\n",
       "        })\n",
       "      }\n",
       "    }\n",
       "\n",
       "    JupyterCommManager.prototype.get_client_comm = function(plot_id, comm_id, msg_handler) {\n",
       "      if (comm_id in window.PyViz.comms) {\n",
       "        return window.PyViz.comms[comm_id];\n",
       "      } else if (window.comm_manager || ((window.Jupyter !== undefined) && (Jupyter.notebook.kernel != null))) {\n",
       "        var comm_manager = window.comm_manager || Jupyter.notebook.kernel.comm_manager;\n",
       "        var comm = comm_manager.new_comm(comm_id, {}, {}, {}, comm_id);\n",
       "        if (msg_handler) {\n",
       "          comm.on_msg(msg_handler);\n",
       "        }\n",
       "      } else if ((plot_id in window.PyViz.kernels) && (window.PyViz.kernels[plot_id])) {\n",
       "        var comm = window.PyViz.kernels[plot_id].connectToComm(comm_id);\n",
       "        comm.open();\n",
       "        if (msg_handler) {\n",
       "          comm.onMsg = msg_handler;\n",
       "        }\n",
       "      } else if (typeof google != 'undefined' && google.colab.kernel != null) {\n",
       "        var comm_promise = google.colab.kernel.comms.open(comm_id)\n",
       "        comm_promise.then((comm) => {\n",
       "          window.PyViz.comms[comm_id] = comm;\n",
       "          if (msg_handler) {\n",
       "            var messages = comm.messages[Symbol.asyncIterator]();\n",
       "            function processIteratorResult(result) {\n",
       "              var message = result.value;\n",
       "              var content = {data: message.data};\n",
       "              var metadata = message.metadata || {comm_id};\n",
       "              var msg = {content, metadata}\n",
       "              msg_handler(msg);\n",
       "              return messages.next().then(processIteratorResult);\n",
       "            }\n",
       "            return messages.next().then(processIteratorResult);\n",
       "          }\n",
       "        }) \n",
       "        var sendClosure = (data, metadata, buffers, disposeOnDone) => {\n",
       "          return comm_promise.then((comm) => {\n",
       "            comm.send(data, metadata, buffers, disposeOnDone);\n",
       "          });\n",
       "        };\n",
       "        var comm = {\n",
       "          send: sendClosure\n",
       "        };\n",
       "      }\n",
       "      window.PyViz.comms[comm_id] = comm;\n",
       "      return comm;\n",
       "    }\n",
       "    window.PyViz.comm_manager = new JupyterCommManager();\n",
       "    \n",
       "\n",
       "\n",
       "var JS_MIME_TYPE = 'application/javascript';\n",
       "var HTML_MIME_TYPE = 'text/html';\n",
       "var EXEC_MIME_TYPE = 'application/vnd.holoviews_exec.v0+json';\n",
       "var CLASS_NAME = 'output';\n",
       "\n",
       "/**\n",
       " * Render data to the DOM node\n",
       " */\n",
       "function render(props, node) {\n",
       "  var div = document.createElement(\"div\");\n",
       "  var script = document.createElement(\"script\");\n",
       "  node.appendChild(div);\n",
       "  node.appendChild(script);\n",
       "}\n",
       "\n",
       "/**\n",
       " * Handle when a new output is added\n",
       " */\n",
       "function handle_add_output(event, handle) {\n",
       "  var output_area = handle.output_area;\n",
       "  var output = handle.output;\n",
       "  if ((output.data == undefined) || (!output.data.hasOwnProperty(EXEC_MIME_TYPE))) {\n",
       "    return\n",
       "  }\n",
       "  var id = output.metadata[EXEC_MIME_TYPE][\"id\"];\n",
       "  var toinsert = output_area.element.find(\".\" + CLASS_NAME.split(' ')[0]);\n",
       "  if (id !== undefined) {\n",
       "    var nchildren = toinsert.length;\n",
       "    var html_node = toinsert[nchildren-1].children[0];\n",
       "    html_node.innerHTML = output.data[HTML_MIME_TYPE];\n",
       "    var scripts = [];\n",
       "    var nodelist = html_node.querySelectorAll(\"script\");\n",
       "    for (var i in nodelist) {\n",
       "      if (nodelist.hasOwnProperty(i)) {\n",
       "        scripts.push(nodelist[i])\n",
       "      }\n",
       "    }\n",
       "\n",
       "    scripts.forEach( function (oldScript) {\n",
       "      var newScript = document.createElement(\"script\");\n",
       "      var attrs = [];\n",
       "      var nodemap = oldScript.attributes;\n",
       "      for (var j in nodemap) {\n",
       "        if (nodemap.hasOwnProperty(j)) {\n",
       "          attrs.push(nodemap[j])\n",
       "        }\n",
       "      }\n",
       "      attrs.forEach(function(attr) { newScript.setAttribute(attr.name, attr.value) });\n",
       "      newScript.appendChild(document.createTextNode(oldScript.innerHTML));\n",
       "      oldScript.parentNode.replaceChild(newScript, oldScript);\n",
       "    });\n",
       "    if (JS_MIME_TYPE in output.data) {\n",
       "      toinsert[nchildren-1].children[1].textContent = output.data[JS_MIME_TYPE];\n",
       "    }\n",
       "    output_area._hv_plot_id = id;\n",
       "    if ((window.Bokeh !== undefined) && (id in Bokeh.index)) {\n",
       "      window.PyViz.plot_index[id] = Bokeh.index[id];\n",
       "    } else {\n",
       "      window.PyViz.plot_index[id] = null;\n",
       "    }\n",
       "  } else if (output.metadata[EXEC_MIME_TYPE][\"server_id\"] !== undefined) {\n",
       "    var bk_div = document.createElement(\"div\");\n",
       "    bk_div.innerHTML = output.data[HTML_MIME_TYPE];\n",
       "    var script_attrs = bk_div.children[0].attributes;\n",
       "    for (var i = 0; i < script_attrs.length; i++) {\n",
       "      toinsert[toinsert.length - 1].childNodes[1].setAttribute(script_attrs[i].name, script_attrs[i].value);\n",
       "    }\n",
       "    // store reference to server id on output_area\n",
       "    output_area._bokeh_server_id = output.metadata[EXEC_MIME_TYPE][\"server_id\"];\n",
       "  }\n",
       "}\n",
       "\n",
       "/**\n",
       " * Handle when an output is cleared or removed\n",
       " */\n",
       "function handle_clear_output(event, handle) {\n",
       "  var id = handle.cell.output_area._hv_plot_id;\n",
       "  var server_id = handle.cell.output_area._bokeh_server_id;\n",
       "  if (((id === undefined) || !(id in PyViz.plot_index)) && (server_id !== undefined)) { return; }\n",
       "  var comm = window.PyViz.comm_manager.get_client_comm(\"hv-extension-comm\", \"hv-extension-comm\", function () {});\n",
       "  if (server_id !== null) {\n",
       "    comm.send({event_type: 'server_delete', 'id': server_id});\n",
       "    return;\n",
       "  } else if (comm !== null) {\n",
       "    comm.send({event_type: 'delete', 'id': id});\n",
       "  }\n",
       "  delete PyViz.plot_index[id];\n",
       "  if ((window.Bokeh !== undefined) & (id in window.Bokeh.index)) {\n",
       "    var doc = window.Bokeh.index[id].model.document\n",
       "    doc.clear();\n",
       "    const i = window.Bokeh.documents.indexOf(doc);\n",
       "    if (i > -1) {\n",
       "      window.Bokeh.documents.splice(i, 1);\n",
       "    }\n",
       "  }\n",
       "}\n",
       "\n",
       "/**\n",
       " * Handle kernel restart event\n",
       " */\n",
       "function handle_kernel_cleanup(event, handle) {\n",
       "  delete PyViz.comms[\"hv-extension-comm\"];\n",
       "  window.PyViz.plot_index = {}\n",
       "}\n",
       "\n",
       "/**\n",
       " * Handle update_display_data messages\n",
       " */\n",
       "function handle_update_output(event, handle) {\n",
       "  handle_clear_output(event, {cell: {output_area: handle.output_area}})\n",
       "  handle_add_output(event, handle)\n",
       "}\n",
       "\n",
       "function register_renderer(events, OutputArea) {\n",
       "  function append_mime(data, metadata, element) {\n",
       "    // create a DOM node to render to\n",
       "    var toinsert = this.create_output_subarea(\n",
       "    metadata,\n",
       "    CLASS_NAME,\n",
       "    EXEC_MIME_TYPE\n",
       "    );\n",
       "    this.keyboard_manager.register_events(toinsert);\n",
       "    // Render to node\n",
       "    var props = {data: data, metadata: metadata[EXEC_MIME_TYPE]};\n",
       "    render(props, toinsert[0]);\n",
       "    element.append(toinsert);\n",
       "    return toinsert\n",
       "  }\n",
       "\n",
       "  events.on('output_added.OutputArea', handle_add_output);\n",
       "  events.on('output_updated.OutputArea', handle_update_output);\n",
       "  events.on('clear_output.CodeCell', handle_clear_output);\n",
       "  events.on('delete.Cell', handle_clear_output);\n",
       "  events.on('kernel_ready.Kernel', handle_kernel_cleanup);\n",
       "\n",
       "  OutputArea.prototype.register_mime_type(EXEC_MIME_TYPE, append_mime, {\n",
       "    safe: true,\n",
       "    index: 0\n",
       "  });\n",
       "}\n",
       "\n",
       "if (window.Jupyter !== undefined) {\n",
       "  try {\n",
       "    var events = require('base/js/events');\n",
       "    var OutputArea = require('notebook/js/outputarea').OutputArea;\n",
       "    if (OutputArea.prototype.mime_types().indexOf(EXEC_MIME_TYPE) == -1) {\n",
       "      register_renderer(events, OutputArea);\n",
       "    }\n",
       "  } catch(err) {\n",
       "  }\n",
       "}\n"
      ],
      "application/vnd.holoviews_load.v0+json": "\nif ((window.PyViz === undefined) || (window.PyViz instanceof HTMLElement)) {\n  window.PyViz = {comms: {}, comm_status:{}, kernels:{}, receivers: {}, plot_index: []}\n}\n\n\n    function JupyterCommManager() {\n    }\n\n    JupyterCommManager.prototype.register_target = function(plot_id, comm_id, msg_handler) {\n      if (window.comm_manager || ((window.Jupyter !== undefined) && (Jupyter.notebook.kernel != null))) {\n        var comm_manager = window.comm_manager || Jupyter.notebook.kernel.comm_manager;\n        comm_manager.register_target(comm_id, function(comm) {\n          comm.on_msg(msg_handler);\n        });\n      } else if ((plot_id in window.PyViz.kernels) && (window.PyViz.kernels[plot_id])) {\n        window.PyViz.kernels[plot_id].registerCommTarget(comm_id, function(comm) {\n          comm.onMsg = msg_handler;\n        });\n      } else if (typeof google != 'undefined' && google.colab.kernel != null) {\n        google.colab.kernel.comms.registerTarget(comm_id, (comm) => {\n          var messages = comm.messages[Symbol.asyncIterator]();\n          function processIteratorResult(result) {\n            var message = result.value;\n            console.log(message)\n            var content = {data: message.data, comm_id};\n            var buffers = []\n            for (var buffer of message.buffers || []) {\n              buffers.push(new DataView(buffer))\n            }\n            var metadata = message.metadata || {};\n            var msg = {content, buffers, metadata}\n            msg_handler(msg);\n            return messages.next().then(processIteratorResult);\n          }\n          return messages.next().then(processIteratorResult);\n        })\n      }\n    }\n\n    JupyterCommManager.prototype.get_client_comm = function(plot_id, comm_id, msg_handler) {\n      if (comm_id in window.PyViz.comms) {\n        return window.PyViz.comms[comm_id];\n      } else if (window.comm_manager || ((window.Jupyter !== undefined) && (Jupyter.notebook.kernel != null))) {\n        var comm_manager = window.comm_manager || Jupyter.notebook.kernel.comm_manager;\n        var comm = comm_manager.new_comm(comm_id, {}, {}, {}, comm_id);\n        if (msg_handler) {\n          comm.on_msg(msg_handler);\n        }\n      } else if ((plot_id in window.PyViz.kernels) && (window.PyViz.kernels[plot_id])) {\n        var comm = window.PyViz.kernels[plot_id].connectToComm(comm_id);\n        comm.open();\n        if (msg_handler) {\n          comm.onMsg = msg_handler;\n        }\n      } else if (typeof google != 'undefined' && google.colab.kernel != null) {\n        var comm_promise = google.colab.kernel.comms.open(comm_id)\n        comm_promise.then((comm) => {\n          window.PyViz.comms[comm_id] = comm;\n          if (msg_handler) {\n            var messages = comm.messages[Symbol.asyncIterator]();\n            function processIteratorResult(result) {\n              var message = result.value;\n              var content = {data: message.data};\n              var metadata = message.metadata || {comm_id};\n              var msg = {content, metadata}\n              msg_handler(msg);\n              return messages.next().then(processIteratorResult);\n            }\n            return messages.next().then(processIteratorResult);\n          }\n        }) \n        var sendClosure = (data, metadata, buffers, disposeOnDone) => {\n          return comm_promise.then((comm) => {\n            comm.send(data, metadata, buffers, disposeOnDone);\n          });\n        };\n        var comm = {\n          send: sendClosure\n        };\n      }\n      window.PyViz.comms[comm_id] = comm;\n      return comm;\n    }\n    window.PyViz.comm_manager = new JupyterCommManager();\n    \n\n\nvar JS_MIME_TYPE = 'application/javascript';\nvar HTML_MIME_TYPE = 'text/html';\nvar EXEC_MIME_TYPE = 'application/vnd.holoviews_exec.v0+json';\nvar CLASS_NAME = 'output';\n\n/**\n * Render data to the DOM node\n */\nfunction render(props, node) {\n  var div = document.createElement(\"div\");\n  var script = document.createElement(\"script\");\n  node.appendChild(div);\n  node.appendChild(script);\n}\n\n/**\n * Handle when a new output is added\n */\nfunction handle_add_output(event, handle) {\n  var output_area = handle.output_area;\n  var output = handle.output;\n  if ((output.data == undefined) || (!output.data.hasOwnProperty(EXEC_MIME_TYPE))) {\n    return\n  }\n  var id = output.metadata[EXEC_MIME_TYPE][\"id\"];\n  var toinsert = output_area.element.find(\".\" + CLASS_NAME.split(' ')[0]);\n  if (id !== undefined) {\n    var nchildren = toinsert.length;\n    var html_node = toinsert[nchildren-1].children[0];\n    html_node.innerHTML = output.data[HTML_MIME_TYPE];\n    var scripts = [];\n    var nodelist = html_node.querySelectorAll(\"script\");\n    for (var i in nodelist) {\n      if (nodelist.hasOwnProperty(i)) {\n        scripts.push(nodelist[i])\n      }\n    }\n\n    scripts.forEach( function (oldScript) {\n      var newScript = document.createElement(\"script\");\n      var attrs = [];\n      var nodemap = oldScript.attributes;\n      for (var j in nodemap) {\n        if (nodemap.hasOwnProperty(j)) {\n          attrs.push(nodemap[j])\n        }\n      }\n      attrs.forEach(function(attr) { newScript.setAttribute(attr.name, attr.value) });\n      newScript.appendChild(document.createTextNode(oldScript.innerHTML));\n      oldScript.parentNode.replaceChild(newScript, oldScript);\n    });\n    if (JS_MIME_TYPE in output.data) {\n      toinsert[nchildren-1].children[1].textContent = output.data[JS_MIME_TYPE];\n    }\n    output_area._hv_plot_id = id;\n    if ((window.Bokeh !== undefined) && (id in Bokeh.index)) {\n      window.PyViz.plot_index[id] = Bokeh.index[id];\n    } else {\n      window.PyViz.plot_index[id] = null;\n    }\n  } else if (output.metadata[EXEC_MIME_TYPE][\"server_id\"] !== undefined) {\n    var bk_div = document.createElement(\"div\");\n    bk_div.innerHTML = output.data[HTML_MIME_TYPE];\n    var script_attrs = bk_div.children[0].attributes;\n    for (var i = 0; i < script_attrs.length; i++) {\n      toinsert[toinsert.length - 1].childNodes[1].setAttribute(script_attrs[i].name, script_attrs[i].value);\n    }\n    // store reference to server id on output_area\n    output_area._bokeh_server_id = output.metadata[EXEC_MIME_TYPE][\"server_id\"];\n  }\n}\n\n/**\n * Handle when an output is cleared or removed\n */\nfunction handle_clear_output(event, handle) {\n  var id = handle.cell.output_area._hv_plot_id;\n  var server_id = handle.cell.output_area._bokeh_server_id;\n  if (((id === undefined) || !(id in PyViz.plot_index)) && (server_id !== undefined)) { return; }\n  var comm = window.PyViz.comm_manager.get_client_comm(\"hv-extension-comm\", \"hv-extension-comm\", function () {});\n  if (server_id !== null) {\n    comm.send({event_type: 'server_delete', 'id': server_id});\n    return;\n  } else if (comm !== null) {\n    comm.send({event_type: 'delete', 'id': id});\n  }\n  delete PyViz.plot_index[id];\n  if ((window.Bokeh !== undefined) & (id in window.Bokeh.index)) {\n    var doc = window.Bokeh.index[id].model.document\n    doc.clear();\n    const i = window.Bokeh.documents.indexOf(doc);\n    if (i > -1) {\n      window.Bokeh.documents.splice(i, 1);\n    }\n  }\n}\n\n/**\n * Handle kernel restart event\n */\nfunction handle_kernel_cleanup(event, handle) {\n  delete PyViz.comms[\"hv-extension-comm\"];\n  window.PyViz.plot_index = {}\n}\n\n/**\n * Handle update_display_data messages\n */\nfunction handle_update_output(event, handle) {\n  handle_clear_output(event, {cell: {output_area: handle.output_area}})\n  handle_add_output(event, handle)\n}\n\nfunction register_renderer(events, OutputArea) {\n  function append_mime(data, metadata, element) {\n    // create a DOM node to render to\n    var toinsert = this.create_output_subarea(\n    metadata,\n    CLASS_NAME,\n    EXEC_MIME_TYPE\n    );\n    this.keyboard_manager.register_events(toinsert);\n    // Render to node\n    var props = {data: data, metadata: metadata[EXEC_MIME_TYPE]};\n    render(props, toinsert[0]);\n    element.append(toinsert);\n    return toinsert\n  }\n\n  events.on('output_added.OutputArea', handle_add_output);\n  events.on('output_updated.OutputArea', handle_update_output);\n  events.on('clear_output.CodeCell', handle_clear_output);\n  events.on('delete.Cell', handle_clear_output);\n  events.on('kernel_ready.Kernel', handle_kernel_cleanup);\n\n  OutputArea.prototype.register_mime_type(EXEC_MIME_TYPE, append_mime, {\n    safe: true,\n    index: 0\n  });\n}\n\nif (window.Jupyter !== undefined) {\n  try {\n    var events = require('base/js/events');\n    var OutputArea = require('notebook/js/outputarea').OutputArea;\n    if (OutputArea.prototype.mime_types().indexOf(EXEC_MIME_TYPE) == -1) {\n      register_renderer(events, OutputArea);\n    }\n  } catch(err) {\n  }\n}\n"
     },
     "metadata": {},
     "output_type": "display_data"
    },
    {
     "data": {
      "text/html": [
       "<style>.bk-root, .bk-root .bk:before, .bk-root .bk:after {\n",
       "  font-family: var(--jp-ui-font-size1);\n",
       "  font-size: var(--jp-ui-font-size1);\n",
       "  color: var(--jp-ui-font-color1);\n",
       "}\n",
       "</style>"
      ]
     },
     "metadata": {},
     "output_type": "display_data"
    }
   ],
   "source": [
    "import panel as pn\n",
    "from final.weather_functions import get_weather, wkeys, StaNames\n",
    "from final.plot_functions import plot_forecasts\n",
    "\n",
    "pn.extension('plotly')"
   ]
  },
  {
   "cell_type": "markdown",
   "id": "ce0901d2",
   "metadata": {},
   "source": [
    "#### Požičané z notebooku <a href=\"03_Panel_ChooseMeteodata.ipynb\">03_Panel_ChooseMeteodata</a>"
   ]
  },
  {
   "cell_type": "code",
   "execution_count": 2,
   "id": "03dc9418",
   "metadata": {},
   "outputs": [],
   "source": [
    "observ_choice = pn.widgets.CheckBoxGroup(options=wkeys, value=['temp', 'clouds'], width=200)\n",
    "\n",
    "def set_observ(*events):  \n",
    "    for event in events:\n",
    "        if event.type == \"changed\" and(len(event.new) > 3 or len(event.new) == 0):\n",
    "            observ_choice.value = event.old\n",
    "            \n",
    "observ_watcher = observ_choice.param.watch(set_observ, ['value'], onlychanged=True)"
   ]
  },
  {
   "cell_type": "code",
   "execution_count": 3,
   "id": "0a95f577",
   "metadata": {},
   "outputs": [],
   "source": [
    "station_choice = pn.widgets.Select(name=\"Select a station\", options=StaNames, width=200)\n",
    "\n",
    "@pn.depends(station_choice, observ_choice)\n",
    "def view_hourly(station_choice, observ_choice):\n",
    "    data = get_weather(station_choice)\n",
    "    fig = plot_forecasts(data, 'hourly', values=observ_choice)\n",
    "    return fig\n",
    "\n",
    "\n",
    "m_options = pn.Column(station_choice, observ_choice)"
   ]
  },
  {
   "cell_type": "code",
   "execution_count": 4,
   "id": "864a61c4-07da-44f4-96d3-1076496965de",
   "metadata": {},
   "outputs": [
    {
     "data": {},
     "metadata": {},
     "output_type": "display_data"
    },
    {
     "data": {
      "application/vnd.holoviews_exec.v0+json": "",
      "text/html": [
       "<div id='1002'>\n",
       "  <div class=\"bk-root\" id=\"cd4056ee-8a07-480b-8b91-4cfa76b45647\" data-root-id=\"1002\"></div>\n",
       "</div>\n",
       "<script type=\"application/javascript\">(function(root) {\n",
       "  function embed_document(root) {\n",
       "    var docs_json = {\"dabfa030-9fb6-4b10-b629-53145ff10d22\":{\"defs\":[{\"extends\":null,\"module\":null,\"name\":\"ReactiveHTML1\",\"overrides\":[],\"properties\":[]},{\"extends\":null,\"module\":null,\"name\":\"FlexBox1\",\"overrides\":[],\"properties\":[{\"default\":\"flex-start\",\"kind\":null,\"name\":\"align_content\"},{\"default\":\"flex-start\",\"kind\":null,\"name\":\"align_items\"},{\"default\":\"row\",\"kind\":null,\"name\":\"flex_direction\"},{\"default\":\"wrap\",\"kind\":null,\"name\":\"flex_wrap\"},{\"default\":\"flex-start\",\"kind\":null,\"name\":\"justify_content\"}]},{\"extends\":null,\"module\":null,\"name\":\"GridStack1\",\"overrides\":[],\"properties\":[{\"default\":\"warn\",\"kind\":null,\"name\":\"mode\"},{\"default\":null,\"kind\":null,\"name\":\"ncols\"},{\"default\":null,\"kind\":null,\"name\":\"nrows\"},{\"default\":true,\"kind\":null,\"name\":\"allow_resize\"},{\"default\":true,\"kind\":null,\"name\":\"allow_drag\"},{\"default\":[],\"kind\":null,\"name\":\"state\"}]},{\"extends\":null,\"module\":null,\"name\":\"click1\",\"overrides\":[],\"properties\":[{\"default\":\"\",\"kind\":null,\"name\":\"terminal_output\"},{\"default\":\"\",\"kind\":null,\"name\":\"debug_name\"},{\"default\":0,\"kind\":null,\"name\":\"clears\"}]},{\"extends\":null,\"module\":null,\"name\":\"NotificationAreaBase1\",\"overrides\":[],\"properties\":[{\"default\":\"bottom-right\",\"kind\":null,\"name\":\"position\"},{\"default\":0,\"kind\":null,\"name\":\"_clear\"}]},{\"extends\":null,\"module\":null,\"name\":\"NotificationArea1\",\"overrides\":[],\"properties\":[{\"default\":[],\"kind\":null,\"name\":\"notifications\"},{\"default\":\"bottom-right\",\"kind\":null,\"name\":\"position\"},{\"default\":0,\"kind\":null,\"name\":\"_clear\"},{\"default\":[{\"background\":\"#ffc107\",\"icon\":{\"className\":\"fas fa-exclamation-triangle\",\"color\":\"white\",\"tagName\":\"i\"},\"type\":\"warning\"},{\"background\":\"#007bff\",\"icon\":{\"className\":\"fas fa-info-circle\",\"color\":\"white\",\"tagName\":\"i\"},\"type\":\"info\"}],\"kind\":null,\"name\":\"types\"}]},{\"extends\":null,\"module\":null,\"name\":\"Notification\",\"overrides\":[],\"properties\":[{\"default\":null,\"kind\":null,\"name\":\"background\"},{\"default\":3000,\"kind\":null,\"name\":\"duration\"},{\"default\":null,\"kind\":null,\"name\":\"icon\"},{\"default\":\"\",\"kind\":null,\"name\":\"message\"},{\"default\":null,\"kind\":null,\"name\":\"notification_type\"},{\"default\":false,\"kind\":null,\"name\":\"_destroyed\"}]},{\"extends\":null,\"module\":null,\"name\":\"TemplateActions1\",\"overrides\":[],\"properties\":[{\"default\":0,\"kind\":null,\"name\":\"open_modal\"},{\"default\":0,\"kind\":null,\"name\":\"close_modal\"}]},{\"extends\":null,\"module\":null,\"name\":\"MaterialTemplateActions1\",\"overrides\":[],\"properties\":[{\"default\":0,\"kind\":null,\"name\":\"open_modal\"},{\"default\":0,\"kind\":null,\"name\":\"close_modal\"}]}],\"roots\":{\"references\":[{\"attributes\":{\"children\":[{\"id\":\"1003\"},{\"id\":\"1006\"}],\"margin\":[0,0,0,0],\"name\":\"Row00111\"},\"id\":\"1002\",\"type\":\"Row\"},{\"attributes\":{},\"id\":\"1010\",\"type\":\"UnionRenderers\"},{\"attributes\":{\"margin\":[5,10,5,10],\"min_width\":200,\"options\":[\"Bansk\\u00e1 Bystrica\",\"Bansk\\u00e1 \\u0160tiavnica\",\"Bardejov\",\"Ba\\u0161ovce\",\"Bojnice\",\"Bo\\u013ekovce\",\"Bratislava\",\"Brezno\",\"Brezno - Zadn\\u00e9 Halny\",\"Brezov\\u00e1 pod Bradlom\",\"Byt\\u010da\",\"B\\u00e1novce nad Bebravou\",\"Chlmec\",\"Detva\",\"Dob\\u0161in\\u00e1\",\"Doln\\u00fd Kub\\u00edn\",\"Dubnica nad V\\u00e1hom\",\"Dunajsk\\u00e1 Streda\",\"D\\u00fabravka\",\"Fi\\u013eakovo\",\"Galanta\",\"Gbely\",\"Gelnica\",\"Gemersk\\u00e1 H\\u00f4rka\",\"Giraltovce\",\"Handlov\\u00e1\",\"Hlohovec\",\"Hn\\u00fa\\u0161\\u0165a\",\"Hody\",\"Hol\\u00ed\\u010d\",\"Hontianska Vrbica\",\"Hri\\u0148ov\\u00e1\",\"Humenn\\u00e9\",\"Hurbanovo\",\"Hybe\",\"Ilava\",\"Istebn\\u00edk\",\"Kamenica nad Cirochou\",\"Ke\\u017emarok\",\"Kol\\u00e1rovo\",\"Kom\\u00e1rno\",\"Kote\\u0161ov\\u00e1\",\"Ko\\u0161ice\",\"Kremnica\",\"Krompachy\",\"Krupina\",\"Kysuck\\u00e9 Nov\\u00e9 Mesto\",\"Leopoldov\",\"Levice\",\"Levo\\u010da\",\"Likavka\",\"Lipany\",\"Liptovsk\\u00fd Hr\\u00e1dok\",\"Liptovsk\\u00fd Mikul\\u00e1\\u0161\",\"Lovce\",\"Lu\\u010denec\",\"Malacky\",\"Martin\",\"Medzev\",\"Medzilaborce\",\"Michalovce\",\"Modra nad Cirochou\",\"Moldava nad Bodvou\",\"Most pri Bratislave\",\"Myjava\",\"Nem\\u0161ov\\u00e1\",\"Nitra\",\"Ni\\u017en\\u00e9 Nemeck\\u00e9\",\"Nov\\u00e1 Ba\\u0148a\",\"Nov\\u00e1 Dubnica\",\"Nov\\u00e1 Lesn\\u00e1\",\"Nov\\u00e1ky\",\"Nov\\u00e9 Mesto nad V\\u00e1hom\",\"Nov\\u00e9 Z\\u00e1mky\",\"N\\u00e1mestovo\",\"Oravsk\\u00e1 Lesn\\u00e1\",\"Pal\\u00fadzka\",\"Partiz\\u00e1nske\",\"Pezinok\",\"Pie\\u0161\\u0165any\",\"Podol\\u00ednec\",\"Polt\\u00e1r\",\"Poprad\",\"Pova\\u017esk\\u00e1 Bystrica\",\"Po\\u013en\\u00fd Kesov\",\"Pre\\u0161ov\",\"Pribylina\",\"Prievidza\",\"P\\u00fachov\",\"Rajec\",\"Rev\\u00faca\",\"Rimavsk\\u00e1 Sobota\",\"Ro\\u017e\\u0148ava\",\"Ro\\u017e\\u0148ov\\u00e9 Mitice\",\"Ru\\u017eindol\",\"Ru\\u017eomberok\",\"Sabinov\",\"Senec\",\"Senica\",\"Se\\u010dovce\",\"Skalica\",\"Sl\\u00e1dkovi\\u010dovo\",\"Smolenice\",\"Snina\",\"Sobrance\",\"Solo\\u0161nica\",\"Spi\\u0161sk\\u00e1 Bel\\u00e1\",\"Spi\\u0161sk\\u00e1 Nov\\u00e1 Ves\",\"Spi\\u0161sk\\u00e9 Podhradie\",\"Star\\u00e1 Tur\\u00e1\",\"Star\\u00e1 \\u013dubov\\u0148a\",\"Stropkov\",\"Str\\u00e1\\u0148any\",\"Str\\u00e1\\u017eske\",\"Stupava\",\"Svidn\\u00edk\",\"Svit\",\"Svod\\u00edn\",\"Sv\\u00e4t\\u00fd Jur\",\"Tisovec\",\"Tlma\\u010de\",\"Topo\\u013e\\u010dany\",\"Trebi\\u0161ov\",\"Tren\\u010dianske Teplice\",\"Tren\\u010d\\u00edn\",\"Trnava\",\"Trsten\\u00e1\",\"Turzovka\",\"Tur\\u010dianske Teplice\",\"Tvrdo\\u0161\\u00edn\",\"Ve\\u013ek\\u00fd Bysterec\",\"Ve\\u013ek\\u00fd Meder\",\"Vinn\\u00e9\",\"Vranov nad Top\\u013eou\",\"Vrbov\\u00e9\",\"Vr\\u00e1ble\",\"Vr\\u00fatky\",\"Vysok\\u00e9 Tatry\",\"Vysok\\u00e9 Tatry - Nov\\u00fd Smokovec\",\"Vy\\u0161n\\u00e9 Ru\\u017ebachy\",\"Zlat\\u00e9 Moravce\",\"Zliechov\",\"Zvolen\",\"Z\\u00e1vodie\",\"\\u010cachtice\",\"\\u010cadca\",\"\\u010cierna nad Tisou\",\"\\u013dubica\",\"\\u0160ahy\",\"\\u0160amor\\u00edn\",\"\\u0160a\\u013ea\",\"\\u0160trba\",\"\\u0160t\\u00farovo\",\"\\u0160urany\",\"\\u017darnovica\",\"\\u017ddiar\",\"\\u017deliezovce\",\"\\u017diar nad Hronom\",\"\\u017dilina\"],\"title\":\"Select a station\",\"value\":\"Bansk\\u00e1 Bystrica\",\"width\":200},\"id\":\"1004\",\"type\":\"panel.models.widgets.CustomSelect\"},{\"attributes\":{\"active\":[5,0],\"labels\":[\"clouds\",\"rain\",\"wind_speed\",\"humidity\",\"pressure\",\"temp\"],\"margin\":[5,10,5,10],\"min_width\":200,\"width\":200},\"id\":\"1005\",\"type\":\"CheckboxGroup\"},{\"attributes\":{\"reload\":false},\"id\":\"1035\",\"type\":\"panel.models.location.Location\"},{\"attributes\":{\"client_comm_id\":\"633e95a27641454ea5b999e79d0248b6\",\"comm_id\":\"477a7b79b94c4fabb056d650124a4a74\",\"plot_id\":\"1002\"},\"id\":\"1022\",\"type\":\"panel.models.comm_manager.CommManager\"},{\"attributes\":{\"children\":[{\"id\":\"1009\"}],\"margin\":[0,0,0,0],\"name\":\"Row00108\"},\"id\":\"1006\",\"type\":\"Row\"},{\"attributes\":{\"data\":{\"x\":[[\"2022-09-05 21:00:00\",\"2022-09-05 22:00:00\",\"2022-09-05 23:00:00\",\"2022-09-06 00:00:00\",\"2022-09-06 01:00:00\",\"2022-09-06 02:00:00\",\"2022-09-06 03:00:00\",\"2022-09-06 04:00:00\",\"2022-09-06 05:00:00\",\"2022-09-06 06:00:00\",\"2022-09-06 07:00:00\",\"2022-09-06 08:00:00\",\"2022-09-06 09:00:00\",\"2022-09-06 10:00:00\",\"2022-09-06 11:00:00\",\"2022-09-06 12:00:00\",\"2022-09-06 13:00:00\",\"2022-09-06 14:00:00\",\"2022-09-06 15:00:00\",\"2022-09-06 16:00:00\",\"2022-09-06 17:00:00\",\"2022-09-06 18:00:00\",\"2022-09-06 19:00:00\",\"2022-09-06 20:00:00\",\"2022-09-06 21:00:00\",\"2022-09-06 22:00:00\",\"2022-09-06 23:00:00\",\"2022-09-07 00:00:00\",\"2022-09-07 01:00:00\",\"2022-09-07 02:00:00\",\"2022-09-07 03:00:00\",\"2022-09-07 04:00:00\",\"2022-09-07 05:00:00\",\"2022-09-07 06:00:00\",\"2022-09-07 07:00:00\",\"2022-09-07 08:00:00\",\"2022-09-07 09:00:00\",\"2022-09-07 10:00:00\",\"2022-09-07 11:00:00\",\"2022-09-07 12:00:00\",\"2022-09-07 13:00:00\",\"2022-09-07 14:00:00\",\"2022-09-07 15:00:00\",\"2022-09-07 16:00:00\",\"2022-09-07 17:00:00\",\"2022-09-07 18:00:00\",\"2022-09-07 19:00:00\",\"2022-09-07 20:00:00\"]],\"y\":[[94,92,92,92,87,78,27,20,16,15,15,16,37,39,48,48,58,65,100,98,99,99,99,99,100,99,97,97,98,98,79,83,74,65,57,58,89,94,96,97,98,94,38,37,37,40,51,60]]},\"selected\":{\"id\":\"1013\"},\"selection_policy\":{\"id\":\"1012\"}},\"id\":\"1008\",\"type\":\"ColumnDataSource\"},{\"attributes\":{},\"id\":\"1013\",\"type\":\"Selection\"},{\"attributes\":{},\"id\":\"1012\",\"type\":\"UnionRenderers\"},{\"attributes\":{\"data\":{\"x\":[[\"2022-09-05 21:00:00\",\"2022-09-05 22:00:00\",\"2022-09-05 23:00:00\",\"2022-09-06 00:00:00\",\"2022-09-06 01:00:00\",\"2022-09-06 02:00:00\",\"2022-09-06 03:00:00\",\"2022-09-06 04:00:00\",\"2022-09-06 05:00:00\",\"2022-09-06 06:00:00\",\"2022-09-06 07:00:00\",\"2022-09-06 08:00:00\",\"2022-09-06 09:00:00\",\"2022-09-06 10:00:00\",\"2022-09-06 11:00:00\",\"2022-09-06 12:00:00\",\"2022-09-06 13:00:00\",\"2022-09-06 14:00:00\",\"2022-09-06 15:00:00\",\"2022-09-06 16:00:00\",\"2022-09-06 17:00:00\",\"2022-09-06 18:00:00\",\"2022-09-06 19:00:00\",\"2022-09-06 20:00:00\",\"2022-09-06 21:00:00\",\"2022-09-06 22:00:00\",\"2022-09-06 23:00:00\",\"2022-09-07 00:00:00\",\"2022-09-07 01:00:00\",\"2022-09-07 02:00:00\",\"2022-09-07 03:00:00\",\"2022-09-07 04:00:00\",\"2022-09-07 05:00:00\",\"2022-09-07 06:00:00\",\"2022-09-07 07:00:00\",\"2022-09-07 08:00:00\",\"2022-09-07 09:00:00\",\"2022-09-07 10:00:00\",\"2022-09-07 11:00:00\",\"2022-09-07 12:00:00\",\"2022-09-07 13:00:00\",\"2022-09-07 14:00:00\",\"2022-09-07 15:00:00\",\"2022-09-07 16:00:00\",\"2022-09-07 17:00:00\",\"2022-09-07 18:00:00\",\"2022-09-07 19:00:00\",\"2022-09-07 20:00:00\"]],\"y\":[{\"__ndarray__\":\"zczMzMxML0Bcj8L1KFwvQOxRuB6Fay9APQrXo3A9L0DNzMzMzMwtQPYoXI/CdSxAzczMzMzMKkCamZmZmRkqQIXrUbgehSlA16NwPQrXKEB7FK5H4foqQHE9CtejcDBAcT0K16PwMkAAAAAAAIA0QClcj8L1qDVAZmZmZmZmNkAAAAAAAAA2QClcj8L16DVAuB6F61H4NECuR+F6FO4zQFyPwvUoXDNAPQrXo3D9MUAfhetRuJ4wQClcj8L1qC9Aj8L1KFwPL0Bcj8L1KFwuQArXo3A9Ci5AMzMzMzMzLkAUrkfhehQuQOF6FK5H4S1AFK5H4XqULEC4HoXrUbgsQIXrUbgeBStAKVyPwvUoKkCF61G4HoUrQClcj8L1qC9A4XoUrkchMUCF61G4HgUyQK5H4XoUbjJAzczMzMwMNECF61G4HkU0QMP1KFyPgjZAj8L1KFyPN0AUrkfhepQ3QJqZmZmZGTdAw/UoXI+CNUCkcD0K12MyQI/C9ShcjzFA\",\"dtype\":\"float64\",\"order\":\"little\",\"shape\":[48]}]},\"selected\":{\"id\":\"1011\"},\"selection_policy\":{\"id\":\"1010\"}},\"id\":\"1007\",\"type\":\"ColumnDataSource\"},{\"attributes\":{},\"id\":\"1011\",\"type\":\"Selection\"},{\"attributes\":{\"children\":[{\"id\":\"1004\"},{\"id\":\"1005\"}],\"margin\":[0,0,0,0],\"name\":\"Column00103\"},\"id\":\"1003\",\"type\":\"Column\"},{\"attributes\":{\"data\":[{\"marker\":{\"color\":\"red\"},\"name\":\"temp\",\"type\":\"scatter\",\"xaxis\":\"x\",\"yaxis\":\"y\"},{\"marker\":{\"color\":\"green\"},\"name\":\"clouds\",\"type\":\"scatter\",\"xaxis\":\"x2\",\"yaxis\":\"y2\"}],\"data_sources\":[{\"id\":\"1007\"},{\"id\":\"1008\"}],\"layout\":{\"annotations\":[{\"font\":{\"size\":16},\"showarrow\":false,\"text\":\"temp\",\"x\":0.5,\"xanchor\":\"center\",\"xref\":\"paper\",\"y\":1.0,\"yanchor\":\"bottom\",\"yref\":\"paper\"},{\"font\":{\"size\":16},\"showarrow\":false,\"text\":\"clouds\",\"x\":0.5,\"xanchor\":\"center\",\"xref\":\"paper\",\"y\":0.375,\"yanchor\":\"bottom\",\"yref\":\"paper\"}],\"height\":500,\"showlegend\":false,\"template\":{\"data\":{\"bar\":[{\"error_x\":{\"color\":\"#2a3f5f\"},\"error_y\":{\"color\":\"#2a3f5f\"},\"marker\":{\"line\":{\"color\":\"#E5ECF6\",\"width\":0.5},\"pattern\":{\"fillmode\":\"overlay\",\"size\":10,\"solidity\":0.2}},\"type\":\"bar\"}],\"barpolar\":[{\"marker\":{\"line\":{\"color\":\"#E5ECF6\",\"width\":0.5},\"pattern\":{\"fillmode\":\"overlay\",\"size\":10,\"solidity\":0.2}},\"type\":\"barpolar\"}],\"carpet\":[{\"aaxis\":{\"endlinecolor\":\"#2a3f5f\",\"gridcolor\":\"white\",\"linecolor\":\"white\",\"minorgridcolor\":\"white\",\"startlinecolor\":\"#2a3f5f\"},\"baxis\":{\"endlinecolor\":\"#2a3f5f\",\"gridcolor\":\"white\",\"linecolor\":\"white\",\"minorgridcolor\":\"white\",\"startlinecolor\":\"#2a3f5f\"},\"type\":\"carpet\"}],\"choropleth\":[{\"colorbar\":{\"outlinewidth\":0,\"ticks\":\"\"},\"type\":\"choropleth\"}],\"contour\":[{\"colorbar\":{\"outlinewidth\":0,\"ticks\":\"\"},\"colorscale\":[[0.0,\"#0d0887\"],[0.1111111111111111,\"#46039f\"],[0.2222222222222222,\"#7201a8\"],[0.3333333333333333,\"#9c179e\"],[0.4444444444444444,\"#bd3786\"],[0.5555555555555556,\"#d8576b\"],[0.6666666666666666,\"#ed7953\"],[0.7777777777777778,\"#fb9f3a\"],[0.8888888888888888,\"#fdca26\"],[1.0,\"#f0f921\"]],\"type\":\"contour\"}],\"contourcarpet\":[{\"colorbar\":{\"outlinewidth\":0,\"ticks\":\"\"},\"type\":\"contourcarpet\"}],\"heatmap\":[{\"colorbar\":{\"outlinewidth\":0,\"ticks\":\"\"},\"colorscale\":[[0.0,\"#0d0887\"],[0.1111111111111111,\"#46039f\"],[0.2222222222222222,\"#7201a8\"],[0.3333333333333333,\"#9c179e\"],[0.4444444444444444,\"#bd3786\"],[0.5555555555555556,\"#d8576b\"],[0.6666666666666666,\"#ed7953\"],[0.7777777777777778,\"#fb9f3a\"],[0.8888888888888888,\"#fdca26\"],[1.0,\"#f0f921\"]],\"type\":\"heatmap\"}],\"heatmapgl\":[{\"colorbar\":{\"outlinewidth\":0,\"ticks\":\"\"},\"colorscale\":[[0.0,\"#0d0887\"],[0.1111111111111111,\"#46039f\"],[0.2222222222222222,\"#7201a8\"],[0.3333333333333333,\"#9c179e\"],[0.4444444444444444,\"#bd3786\"],[0.5555555555555556,\"#d8576b\"],[0.6666666666666666,\"#ed7953\"],[0.7777777777777778,\"#fb9f3a\"],[0.8888888888888888,\"#fdca26\"],[1.0,\"#f0f921\"]],\"type\":\"heatmapgl\"}],\"histogram\":[{\"marker\":{\"pattern\":{\"fillmode\":\"overlay\",\"size\":10,\"solidity\":0.2}},\"type\":\"histogram\"}],\"histogram2d\":[{\"colorbar\":{\"outlinewidth\":0,\"ticks\":\"\"},\"colorscale\":[[0.0,\"#0d0887\"],[0.1111111111111111,\"#46039f\"],[0.2222222222222222,\"#7201a8\"],[0.3333333333333333,\"#9c179e\"],[0.4444444444444444,\"#bd3786\"],[0.5555555555555556,\"#d8576b\"],[0.6666666666666666,\"#ed7953\"],[0.7777777777777778,\"#fb9f3a\"],[0.8888888888888888,\"#fdca26\"],[1.0,\"#f0f921\"]],\"type\":\"histogram2d\"}],\"histogram2dcontour\":[{\"colorbar\":{\"outlinewidth\":0,\"ticks\":\"\"},\"colorscale\":[[0.0,\"#0d0887\"],[0.1111111111111111,\"#46039f\"],[0.2222222222222222,\"#7201a8\"],[0.3333333333333333,\"#9c179e\"],[0.4444444444444444,\"#bd3786\"],[0.5555555555555556,\"#d8576b\"],[0.6666666666666666,\"#ed7953\"],[0.7777777777777778,\"#fb9f3a\"],[0.8888888888888888,\"#fdca26\"],[1.0,\"#f0f921\"]],\"type\":\"histogram2dcontour\"}],\"mesh3d\":[{\"colorbar\":{\"outlinewidth\":0,\"ticks\":\"\"},\"type\":\"mesh3d\"}],\"parcoords\":[{\"line\":{\"colorbar\":{\"outlinewidth\":0,\"ticks\":\"\"}},\"type\":\"parcoords\"}],\"pie\":[{\"automargin\":true,\"type\":\"pie\"}],\"scatter\":[{\"fillpattern\":{\"fillmode\":\"overlay\",\"size\":10,\"solidity\":0.2},\"type\":\"scatter\"}],\"scatter3d\":[{\"line\":{\"colorbar\":{\"outlinewidth\":0,\"ticks\":\"\"}},\"marker\":{\"colorbar\":{\"outlinewidth\":0,\"ticks\":\"\"}},\"type\":\"scatter3d\"}],\"scattercarpet\":[{\"marker\":{\"colorbar\":{\"outlinewidth\":0,\"ticks\":\"\"}},\"type\":\"scattercarpet\"}],\"scattergeo\":[{\"marker\":{\"colorbar\":{\"outlinewidth\":0,\"ticks\":\"\"}},\"type\":\"scattergeo\"}],\"scattergl\":[{\"marker\":{\"colorbar\":{\"outlinewidth\":0,\"ticks\":\"\"}},\"type\":\"scattergl\"}],\"scattermapbox\":[{\"marker\":{\"colorbar\":{\"outlinewidth\":0,\"ticks\":\"\"}},\"type\":\"scattermapbox\"}],\"scatterpolar\":[{\"marker\":{\"colorbar\":{\"outlinewidth\":0,\"ticks\":\"\"}},\"type\":\"scatterpolar\"}],\"scatterpolargl\":[{\"marker\":{\"colorbar\":{\"outlinewidth\":0,\"ticks\":\"\"}},\"type\":\"scatterpolargl\"}],\"scatterternary\":[{\"marker\":{\"colorbar\":{\"outlinewidth\":0,\"ticks\":\"\"}},\"type\":\"scatterternary\"}],\"surface\":[{\"colorbar\":{\"outlinewidth\":0,\"ticks\":\"\"},\"colorscale\":[[0.0,\"#0d0887\"],[0.1111111111111111,\"#46039f\"],[0.2222222222222222,\"#7201a8\"],[0.3333333333333333,\"#9c179e\"],[0.4444444444444444,\"#bd3786\"],[0.5555555555555556,\"#d8576b\"],[0.6666666666666666,\"#ed7953\"],[0.7777777777777778,\"#fb9f3a\"],[0.8888888888888888,\"#fdca26\"],[1.0,\"#f0f921\"]],\"type\":\"surface\"}],\"table\":[{\"cells\":{\"fill\":{\"color\":\"#EBF0F8\"},\"line\":{\"color\":\"white\"}},\"header\":{\"fill\":{\"color\":\"#C8D4E3\"},\"line\":{\"color\":\"white\"}},\"type\":\"table\"}]},\"layout\":{\"annotationdefaults\":{\"arrowcolor\":\"#2a3f5f\",\"arrowhead\":0,\"arrowwidth\":1},\"autotypenumbers\":\"strict\",\"coloraxis\":{\"colorbar\":{\"outlinewidth\":0,\"ticks\":\"\"}},\"colorscale\":{\"diverging\":[[0,\"#8e0152\"],[0.1,\"#c51b7d\"],[0.2,\"#de77ae\"],[0.3,\"#f1b6da\"],[0.4,\"#fde0ef\"],[0.5,\"#f7f7f7\"],[0.6,\"#e6f5d0\"],[0.7,\"#b8e186\"],[0.8,\"#7fbc41\"],[0.9,\"#4d9221\"],[1,\"#276419\"]],\"sequential\":[[0.0,\"#0d0887\"],[0.1111111111111111,\"#46039f\"],[0.2222222222222222,\"#7201a8\"],[0.3333333333333333,\"#9c179e\"],[0.4444444444444444,\"#bd3786\"],[0.5555555555555556,\"#d8576b\"],[0.6666666666666666,\"#ed7953\"],[0.7777777777777778,\"#fb9f3a\"],[0.8888888888888888,\"#fdca26\"],[1.0,\"#f0f921\"]],\"sequentialminus\":[[0.0,\"#0d0887\"],[0.1111111111111111,\"#46039f\"],[0.2222222222222222,\"#7201a8\"],[0.3333333333333333,\"#9c179e\"],[0.4444444444444444,\"#bd3786\"],[0.5555555555555556,\"#d8576b\"],[0.6666666666666666,\"#ed7953\"],[0.7777777777777778,\"#fb9f3a\"],[0.8888888888888888,\"#fdca26\"],[1.0,\"#f0f921\"]]},\"colorway\":[\"#636efa\",\"#EF553B\",\"#00cc96\",\"#ab63fa\",\"#FFA15A\",\"#19d3f3\",\"#FF6692\",\"#B6E880\",\"#FF97FF\",\"#FECB52\"],\"font\":{\"color\":\"#2a3f5f\"},\"geo\":{\"bgcolor\":\"white\",\"lakecolor\":\"white\",\"landcolor\":\"#E5ECF6\",\"showlakes\":true,\"showland\":true,\"subunitcolor\":\"white\"},\"hoverlabel\":{\"align\":\"left\"},\"hovermode\":\"closest\",\"mapbox\":{\"style\":\"light\"},\"paper_bgcolor\":\"white\",\"plot_bgcolor\":\"#E5ECF6\",\"polar\":{\"angularaxis\":{\"gridcolor\":\"white\",\"linecolor\":\"white\",\"ticks\":\"\"},\"bgcolor\":\"#E5ECF6\",\"radialaxis\":{\"gridcolor\":\"white\",\"linecolor\":\"white\",\"ticks\":\"\"}},\"scene\":{\"xaxis\":{\"backgroundcolor\":\"#E5ECF6\",\"gridcolor\":\"white\",\"gridwidth\":2,\"linecolor\":\"white\",\"showbackground\":true,\"ticks\":\"\",\"zerolinecolor\":\"white\"},\"yaxis\":{\"backgroundcolor\":\"#E5ECF6\",\"gridcolor\":\"white\",\"gridwidth\":2,\"linecolor\":\"white\",\"showbackground\":true,\"ticks\":\"\",\"zerolinecolor\":\"white\"},\"zaxis\":{\"backgroundcolor\":\"#E5ECF6\",\"gridcolor\":\"white\",\"gridwidth\":2,\"linecolor\":\"white\",\"showbackground\":true,\"ticks\":\"\",\"zerolinecolor\":\"white\"}},\"shapedefaults\":{\"line\":{\"color\":\"#2a3f5f\"}},\"ternary\":{\"aaxis\":{\"gridcolor\":\"white\",\"linecolor\":\"white\",\"ticks\":\"\"},\"baxis\":{\"gridcolor\":\"white\",\"linecolor\":\"white\",\"ticks\":\"\"},\"bgcolor\":\"#E5ECF6\",\"caxis\":{\"gridcolor\":\"white\",\"linecolor\":\"white\",\"ticks\":\"\"}},\"title\":{\"x\":0.05},\"xaxis\":{\"automargin\":true,\"gridcolor\":\"white\",\"linecolor\":\"white\",\"ticks\":\"\",\"title\":{\"standoff\":15},\"zerolinecolor\":\"white\",\"zerolinewidth\":2},\"yaxis\":{\"automargin\":true,\"gridcolor\":\"white\",\"linecolor\":\"white\",\"ticks\":\"\",\"title\":{\"standoff\":15},\"zerolinecolor\":\"white\",\"zerolinewidth\":2}}},\"width\":800,\"xaxis\":{\"anchor\":\"y\",\"domain\":[0.0,1.0],\"dtick\":10800000,\"tickformat\":\"%H\\n%e.%b\"},\"xaxis2\":{\"anchor\":\"y2\",\"domain\":[0.0,1.0],\"dtick\":10800000,\"tickformat\":\"%H\\n%e.%b\"},\"yaxis\":{\"anchor\":\"x\",\"domain\":[0.625,1.0]},\"yaxis2\":{\"anchor\":\"x2\",\"domain\":[0.0,0.375]}},\"margin\":[5,5,5,5],\"name\":\"ParamFunction00104\",\"viewport_update_throttle\":200},\"id\":\"1009\",\"type\":\"panel.models.plotly.PlotlyPlot\"}],\"root_ids\":[\"1002\",\"1022\",\"1035\"]},\"title\":\"Bokeh Application\",\"version\":\"2.4.3\"}};\n",
       "    var render_items = [{\"docid\":\"dabfa030-9fb6-4b10-b629-53145ff10d22\",\"root_ids\":[\"1002\"],\"roots\":{\"1002\":\"cd4056ee-8a07-480b-8b91-4cfa76b45647\"}}];\n",
       "    root.Bokeh.embed.embed_items_notebook(docs_json, render_items);\n",
       "  }\n",
       "  if (root.Bokeh !== undefined && root.Bokeh.Panel !== undefined && ( root['Plotly'] !== undefined)) {\n",
       "    embed_document(root);\n",
       "  } else {\n",
       "    var attempts = 0;\n",
       "    var timer = setInterval(function(root) {\n",
       "      if (root.Bokeh !== undefined && root.Bokeh.Panel !== undefined && (root['Plotly'] !== undefined)) {\n",
       "        clearInterval(timer);\n",
       "        embed_document(root);\n",
       "      } else if (document.readyState == \"complete\") {\n",
       "        attempts++;\n",
       "        if (attempts > 200) {\n",
       "          clearInterval(timer);\n",
       "          console.log(\"Bokeh: ERROR: Unable to run BokehJS code because BokehJS library is missing\");\n",
       "        }\n",
       "      }\n",
       "    }, 25, root)\n",
       "  }\n",
       "})(window);</script>"
      ],
      "text/plain": [
       "Row\n",
       "    [0] Column\n",
       "        [0] Select(options=['Banská Bystrica', ...], value='Banská Bystrica', width=200)\n",
       "        [1] CheckBoxGroup(options=['clouds', 'rain', ...], value=['temp', 'clouds'], width=200)\n",
       "    [1] ParamFunction(function)"
      ]
     },
     "execution_count": 4,
     "metadata": {
      "application/vnd.holoviews_exec.v0+json": {
       "id": "1002"
      }
     },
     "output_type": "execute_result"
    }
   ],
   "source": [
    "pn.Row(m_options, view_hourly)"
   ]
  },
  {
   "cell_type": "markdown",
   "id": "2e1a05db",
   "metadata": {},
   "source": [
    "#### Teraz by sme chceli zobraziť merania na nasledujúcich 8 dní\n",
    "#### Vďaka `plot_forecasts` to môžeme hravo vyriešiť"
   ]
  },
  {
   "cell_type": "code",
   "execution_count": 5,
   "id": "87c43b9e",
   "metadata": {},
   "outputs": [],
   "source": [
    "@pn.depends(station_choice, observ_choice)\n",
    "def view_daily(station_choice, observ_choice):\n",
    "    data = get_weather(station_choice)\n",
    "    fig = plot_forecasts(data, 'daily', values=observ_choice)\n",
    "    return fig"
   ]
  },
  {
   "cell_type": "code",
   "execution_count": 6,
   "id": "8e70f90a",
   "metadata": {},
   "outputs": [
    {
     "data": {},
     "metadata": {},
     "output_type": "display_data"
    },
    {
     "data": {
      "application/vnd.holoviews_exec.v0+json": "",
      "text/html": [
       "<div id='1048'>\n",
       "  <div class=\"bk-root\" id=\"701cb7e8-92f1-495d-9692-8c99887b7711\" data-root-id=\"1048\"></div>\n",
       "</div>\n",
       "<script type=\"application/javascript\">(function(root) {\n",
       "  function embed_document(root) {\n",
       "    var docs_json = {\"f40abf2d-a407-483c-a1ad-186e38a9ff86\":{\"defs\":[{\"extends\":null,\"module\":null,\"name\":\"ReactiveHTML1\",\"overrides\":[],\"properties\":[]},{\"extends\":null,\"module\":null,\"name\":\"FlexBox1\",\"overrides\":[],\"properties\":[{\"default\":\"flex-start\",\"kind\":null,\"name\":\"align_content\"},{\"default\":\"flex-start\",\"kind\":null,\"name\":\"align_items\"},{\"default\":\"row\",\"kind\":null,\"name\":\"flex_direction\"},{\"default\":\"wrap\",\"kind\":null,\"name\":\"flex_wrap\"},{\"default\":\"flex-start\",\"kind\":null,\"name\":\"justify_content\"}]},{\"extends\":null,\"module\":null,\"name\":\"GridStack1\",\"overrides\":[],\"properties\":[{\"default\":\"warn\",\"kind\":null,\"name\":\"mode\"},{\"default\":null,\"kind\":null,\"name\":\"ncols\"},{\"default\":null,\"kind\":null,\"name\":\"nrows\"},{\"default\":true,\"kind\":null,\"name\":\"allow_resize\"},{\"default\":true,\"kind\":null,\"name\":\"allow_drag\"},{\"default\":[],\"kind\":null,\"name\":\"state\"}]},{\"extends\":null,\"module\":null,\"name\":\"click1\",\"overrides\":[],\"properties\":[{\"default\":\"\",\"kind\":null,\"name\":\"terminal_output\"},{\"default\":\"\",\"kind\":null,\"name\":\"debug_name\"},{\"default\":0,\"kind\":null,\"name\":\"clears\"}]},{\"extends\":null,\"module\":null,\"name\":\"NotificationAreaBase1\",\"overrides\":[],\"properties\":[{\"default\":\"bottom-right\",\"kind\":null,\"name\":\"position\"},{\"default\":0,\"kind\":null,\"name\":\"_clear\"}]},{\"extends\":null,\"module\":null,\"name\":\"NotificationArea1\",\"overrides\":[],\"properties\":[{\"default\":[],\"kind\":null,\"name\":\"notifications\"},{\"default\":\"bottom-right\",\"kind\":null,\"name\":\"position\"},{\"default\":0,\"kind\":null,\"name\":\"_clear\"},{\"default\":[{\"background\":\"#ffc107\",\"icon\":{\"className\":\"fas fa-exclamation-triangle\",\"color\":\"white\",\"tagName\":\"i\"},\"type\":\"warning\"},{\"background\":\"#007bff\",\"icon\":{\"className\":\"fas fa-info-circle\",\"color\":\"white\",\"tagName\":\"i\"},\"type\":\"info\"}],\"kind\":null,\"name\":\"types\"}]},{\"extends\":null,\"module\":null,\"name\":\"Notification\",\"overrides\":[],\"properties\":[{\"default\":null,\"kind\":null,\"name\":\"background\"},{\"default\":3000,\"kind\":null,\"name\":\"duration\"},{\"default\":null,\"kind\":null,\"name\":\"icon\"},{\"default\":\"\",\"kind\":null,\"name\":\"message\"},{\"default\":null,\"kind\":null,\"name\":\"notification_type\"},{\"default\":false,\"kind\":null,\"name\":\"_destroyed\"}]},{\"extends\":null,\"module\":null,\"name\":\"TemplateActions1\",\"overrides\":[],\"properties\":[{\"default\":0,\"kind\":null,\"name\":\"open_modal\"},{\"default\":0,\"kind\":null,\"name\":\"close_modal\"}]},{\"extends\":null,\"module\":null,\"name\":\"MaterialTemplateActions1\",\"overrides\":[],\"properties\":[{\"default\":0,\"kind\":null,\"name\":\"open_modal\"},{\"default\":0,\"kind\":null,\"name\":\"close_modal\"}]}],\"roots\":{\"references\":[{\"attributes\":{\"children\":[{\"id\":\"1050\"},{\"id\":\"1051\"}],\"margin\":[0,0,0,0],\"name\":\"Column00103\"},\"id\":\"1049\",\"type\":\"Column\"},{\"attributes\":{\"data\":{\"x\":[[\"2022-09-05 12:00:00\",\"2022-09-06 12:00:00\",\"2022-09-07 12:00:00\",\"2022-09-08 12:00:00\",\"2022-09-09 12:00:00\",\"2022-09-10 12:00:00\",\"2022-09-11 12:00:00\",\"2022-09-12 12:00:00\"]],\"y\":[{\"__ndarray__\":\"FK5H4XpUNkBmZmZmZmY2QM3MzMzMDDRAPQrXo3D9OEDhehSuRyE1QClcj8L1qCtAKVyPwvXoMEAfhetRuJ4oQA==\",\"dtype\":\"float64\",\"order\":\"little\",\"shape\":[8]}]},\"selected\":{\"id\":\"1060\"},\"selection_policy\":{\"id\":\"1059\"}},\"id\":\"1053\",\"type\":\"ColumnDataSource\"},{\"attributes\":{},\"id\":\"1064\",\"type\":\"Selection\"},{\"attributes\":{\"data\":{\"x\":[[\"2022-09-05 12:00:00\",\"2022-09-06 12:00:00\",\"2022-09-07 12:00:00\",\"2022-09-08 12:00:00\",\"2022-09-09 12:00:00\",\"2022-09-10 12:00:00\",\"2022-09-11 12:00:00\",\"2022-09-12 12:00:00\"]],\"y\":[{\"__ndarray__\":\"MzMzMzMzKEDXo3A9CtcoQClcj8L1KCpAMzMzMzMzLEB7FK5H4XotQHsUrkfh+ilAH4XrUbieJUAAAAAAAAAkQA==\",\"dtype\":\"float64\",\"order\":\"little\",\"shape\":[8]}]},\"selected\":{\"id\":\"1066\"},\"selection_policy\":{\"id\":\"1065\"}},\"id\":\"1056\",\"type\":\"ColumnDataSource\"},{\"attributes\":{},\"id\":\"1065\",\"type\":\"UnionRenderers\"},{\"attributes\":{\"data\":{\"x\":[[\"2022-09-05 12:00:00\",\"2022-09-06 12:00:00\",\"2022-09-07 12:00:00\",\"2022-09-08 12:00:00\",\"2022-09-09 12:00:00\",\"2022-09-10 12:00:00\",\"2022-09-11 12:00:00\",\"2022-09-12 12:00:00\"]],\"y\":[{\"__ndarray__\":\"7FG4HoVrL0AK16NwPQouQPYoXI/C9S5A7FG4HoUrMUBcj8L1KFwwQHsUrkfh+ilAH4XrUbieJUCkcD0K1yMmQA==\",\"dtype\":\"float64\",\"order\":\"little\",\"shape\":[8]}]},\"selected\":{\"id\":\"1062\"},\"selection_policy\":{\"id\":\"1061\"}},\"id\":\"1054\",\"type\":\"ColumnDataSource\"},{\"attributes\":{},\"id\":\"1062\",\"type\":\"Selection\"},{\"attributes\":{},\"id\":\"1060\",\"type\":\"Selection\"},{\"attributes\":{},\"id\":\"1066\",\"type\":\"Selection\"},{\"attributes\":{\"client_comm_id\":\"81b0a36c2c8643cfb1ca2df9e7506a99\",\"comm_id\":\"0562bf6b74864aa1957b7c339a4954e9\",\"plot_id\":\"1048\"},\"id\":\"1089\",\"type\":\"panel.models.comm_manager.CommManager\"},{\"attributes\":{\"data\":{\"x\":[[\"2022-09-05 12:00:00\",\"2022-09-06 12:00:00\",\"2022-09-07 12:00:00\",\"2022-09-08 12:00:00\",\"2022-09-09 12:00:00\",\"2022-09-10 12:00:00\",\"2022-09-11 12:00:00\",\"2022-09-12 12:00:00\"]],\"y\":[{\"__ndarray__\":\"CtejcD2KNkBmZmZmZmY2QBSuR+F6lDdACtejcD1KOUBmZmZmZuY3QD0K16NwPS5ACtejcD0KMkDD9Shcj0IpQA==\",\"dtype\":\"float64\",\"order\":\"little\",\"shape\":[8]}]},\"selected\":{\"id\":\"1064\"},\"selection_policy\":{\"id\":\"1063\"}},\"id\":\"1055\",\"type\":\"ColumnDataSource\"},{\"attributes\":{},\"id\":\"1061\",\"type\":\"UnionRenderers\"},{\"attributes\":{},\"id\":\"1067\",\"type\":\"UnionRenderers\"},{\"attributes\":{},\"id\":\"1063\",\"type\":\"UnionRenderers\"},{\"attributes\":{\"active\":[5,0],\"labels\":[\"clouds\",\"rain\",\"wind_speed\",\"humidity\",\"pressure\",\"temp\"],\"margin\":[5,10,5,10],\"min_width\":200,\"width\":200},\"id\":\"1051\",\"type\":\"CheckboxGroup\"},{\"attributes\":{},\"id\":\"1059\",\"type\":\"UnionRenderers\"},{\"attributes\":{},\"id\":\"1068\",\"type\":\"Selection\"},{\"attributes\":{\"data\":[{\"marker\":{\"color\":\"green\"},\"name\":\"day\",\"type\":\"bar\",\"xaxis\":\"x\",\"yaxis\":\"y\"},{\"marker\":{\"color\":\"darkblue\"},\"name\":\"night\",\"type\":\"bar\",\"xaxis\":\"x\",\"yaxis\":\"y\"},{\"marker\":{\"color\":\"red\"},\"name\":\"max\",\"type\":\"bar\",\"xaxis\":\"x\",\"yaxis\":\"y\"},{\"marker\":{\"color\":\"blue\"},\"name\":\"min\",\"type\":\"bar\",\"xaxis\":\"x\",\"yaxis\":\"y\"},{\"marker\":{\"color\":\"green\"},\"name\":\"clouds\",\"type\":\"scatter\",\"xaxis\":\"x2\",\"yaxis\":\"y2\"}],\"data_sources\":[{\"id\":\"1053\"},{\"id\":\"1054\"},{\"id\":\"1055\"},{\"id\":\"1056\"},{\"id\":\"1057\"}],\"layout\":{\"annotations\":[{\"font\":{\"size\":16},\"showarrow\":false,\"text\":\"temp\",\"x\":0.5,\"xanchor\":\"center\",\"xref\":\"paper\",\"y\":1.0,\"yanchor\":\"bottom\",\"yref\":\"paper\"},{\"font\":{\"size\":16},\"showarrow\":false,\"text\":\"clouds\",\"x\":0.5,\"xanchor\":\"center\",\"xref\":\"paper\",\"y\":0.375,\"yanchor\":\"bottom\",\"yref\":\"paper\"}],\"height\":500,\"showlegend\":false,\"template\":{\"data\":{\"bar\":[{\"error_x\":{\"color\":\"#2a3f5f\"},\"error_y\":{\"color\":\"#2a3f5f\"},\"marker\":{\"line\":{\"color\":\"#E5ECF6\",\"width\":0.5},\"pattern\":{\"fillmode\":\"overlay\",\"size\":10,\"solidity\":0.2}},\"type\":\"bar\"}],\"barpolar\":[{\"marker\":{\"line\":{\"color\":\"#E5ECF6\",\"width\":0.5},\"pattern\":{\"fillmode\":\"overlay\",\"size\":10,\"solidity\":0.2}},\"type\":\"barpolar\"}],\"carpet\":[{\"aaxis\":{\"endlinecolor\":\"#2a3f5f\",\"gridcolor\":\"white\",\"linecolor\":\"white\",\"minorgridcolor\":\"white\",\"startlinecolor\":\"#2a3f5f\"},\"baxis\":{\"endlinecolor\":\"#2a3f5f\",\"gridcolor\":\"white\",\"linecolor\":\"white\",\"minorgridcolor\":\"white\",\"startlinecolor\":\"#2a3f5f\"},\"type\":\"carpet\"}],\"choropleth\":[{\"colorbar\":{\"outlinewidth\":0,\"ticks\":\"\"},\"type\":\"choropleth\"}],\"contour\":[{\"colorbar\":{\"outlinewidth\":0,\"ticks\":\"\"},\"colorscale\":[[0.0,\"#0d0887\"],[0.1111111111111111,\"#46039f\"],[0.2222222222222222,\"#7201a8\"],[0.3333333333333333,\"#9c179e\"],[0.4444444444444444,\"#bd3786\"],[0.5555555555555556,\"#d8576b\"],[0.6666666666666666,\"#ed7953\"],[0.7777777777777778,\"#fb9f3a\"],[0.8888888888888888,\"#fdca26\"],[1.0,\"#f0f921\"]],\"type\":\"contour\"}],\"contourcarpet\":[{\"colorbar\":{\"outlinewidth\":0,\"ticks\":\"\"},\"type\":\"contourcarpet\"}],\"heatmap\":[{\"colorbar\":{\"outlinewidth\":0,\"ticks\":\"\"},\"colorscale\":[[0.0,\"#0d0887\"],[0.1111111111111111,\"#46039f\"],[0.2222222222222222,\"#7201a8\"],[0.3333333333333333,\"#9c179e\"],[0.4444444444444444,\"#bd3786\"],[0.5555555555555556,\"#d8576b\"],[0.6666666666666666,\"#ed7953\"],[0.7777777777777778,\"#fb9f3a\"],[0.8888888888888888,\"#fdca26\"],[1.0,\"#f0f921\"]],\"type\":\"heatmap\"}],\"heatmapgl\":[{\"colorbar\":{\"outlinewidth\":0,\"ticks\":\"\"},\"colorscale\":[[0.0,\"#0d0887\"],[0.1111111111111111,\"#46039f\"],[0.2222222222222222,\"#7201a8\"],[0.3333333333333333,\"#9c179e\"],[0.4444444444444444,\"#bd3786\"],[0.5555555555555556,\"#d8576b\"],[0.6666666666666666,\"#ed7953\"],[0.7777777777777778,\"#fb9f3a\"],[0.8888888888888888,\"#fdca26\"],[1.0,\"#f0f921\"]],\"type\":\"heatmapgl\"}],\"histogram\":[{\"marker\":{\"pattern\":{\"fillmode\":\"overlay\",\"size\":10,\"solidity\":0.2}},\"type\":\"histogram\"}],\"histogram2d\":[{\"colorbar\":{\"outlinewidth\":0,\"ticks\":\"\"},\"colorscale\":[[0.0,\"#0d0887\"],[0.1111111111111111,\"#46039f\"],[0.2222222222222222,\"#7201a8\"],[0.3333333333333333,\"#9c179e\"],[0.4444444444444444,\"#bd3786\"],[0.5555555555555556,\"#d8576b\"],[0.6666666666666666,\"#ed7953\"],[0.7777777777777778,\"#fb9f3a\"],[0.8888888888888888,\"#fdca26\"],[1.0,\"#f0f921\"]],\"type\":\"histogram2d\"}],\"histogram2dcontour\":[{\"colorbar\":{\"outlinewidth\":0,\"ticks\":\"\"},\"colorscale\":[[0.0,\"#0d0887\"],[0.1111111111111111,\"#46039f\"],[0.2222222222222222,\"#7201a8\"],[0.3333333333333333,\"#9c179e\"],[0.4444444444444444,\"#bd3786\"],[0.5555555555555556,\"#d8576b\"],[0.6666666666666666,\"#ed7953\"],[0.7777777777777778,\"#fb9f3a\"],[0.8888888888888888,\"#fdca26\"],[1.0,\"#f0f921\"]],\"type\":\"histogram2dcontour\"}],\"mesh3d\":[{\"colorbar\":{\"outlinewidth\":0,\"ticks\":\"\"},\"type\":\"mesh3d\"}],\"parcoords\":[{\"line\":{\"colorbar\":{\"outlinewidth\":0,\"ticks\":\"\"}},\"type\":\"parcoords\"}],\"pie\":[{\"automargin\":true,\"type\":\"pie\"}],\"scatter\":[{\"fillpattern\":{\"fillmode\":\"overlay\",\"size\":10,\"solidity\":0.2},\"type\":\"scatter\"}],\"scatter3d\":[{\"line\":{\"colorbar\":{\"outlinewidth\":0,\"ticks\":\"\"}},\"marker\":{\"colorbar\":{\"outlinewidth\":0,\"ticks\":\"\"}},\"type\":\"scatter3d\"}],\"scattercarpet\":[{\"marker\":{\"colorbar\":{\"outlinewidth\":0,\"ticks\":\"\"}},\"type\":\"scattercarpet\"}],\"scattergeo\":[{\"marker\":{\"colorbar\":{\"outlinewidth\":0,\"ticks\":\"\"}},\"type\":\"scattergeo\"}],\"scattergl\":[{\"marker\":{\"colorbar\":{\"outlinewidth\":0,\"ticks\":\"\"}},\"type\":\"scattergl\"}],\"scattermapbox\":[{\"marker\":{\"colorbar\":{\"outlinewidth\":0,\"ticks\":\"\"}},\"type\":\"scattermapbox\"}],\"scatterpolar\":[{\"marker\":{\"colorbar\":{\"outlinewidth\":0,\"ticks\":\"\"}},\"type\":\"scatterpolar\"}],\"scatterpolargl\":[{\"marker\":{\"colorbar\":{\"outlinewidth\":0,\"ticks\":\"\"}},\"type\":\"scatterpolargl\"}],\"scatterternary\":[{\"marker\":{\"colorbar\":{\"outlinewidth\":0,\"ticks\":\"\"}},\"type\":\"scatterternary\"}],\"surface\":[{\"colorbar\":{\"outlinewidth\":0,\"ticks\":\"\"},\"colorscale\":[[0.0,\"#0d0887\"],[0.1111111111111111,\"#46039f\"],[0.2222222222222222,\"#7201a8\"],[0.3333333333333333,\"#9c179e\"],[0.4444444444444444,\"#bd3786\"],[0.5555555555555556,\"#d8576b\"],[0.6666666666666666,\"#ed7953\"],[0.7777777777777778,\"#fb9f3a\"],[0.8888888888888888,\"#fdca26\"],[1.0,\"#f0f921\"]],\"type\":\"surface\"}],\"table\":[{\"cells\":{\"fill\":{\"color\":\"#EBF0F8\"},\"line\":{\"color\":\"white\"}},\"header\":{\"fill\":{\"color\":\"#C8D4E3\"},\"line\":{\"color\":\"white\"}},\"type\":\"table\"}]},\"layout\":{\"annotationdefaults\":{\"arrowcolor\":\"#2a3f5f\",\"arrowhead\":0,\"arrowwidth\":1},\"autotypenumbers\":\"strict\",\"coloraxis\":{\"colorbar\":{\"outlinewidth\":0,\"ticks\":\"\"}},\"colorscale\":{\"diverging\":[[0,\"#8e0152\"],[0.1,\"#c51b7d\"],[0.2,\"#de77ae\"],[0.3,\"#f1b6da\"],[0.4,\"#fde0ef\"],[0.5,\"#f7f7f7\"],[0.6,\"#e6f5d0\"],[0.7,\"#b8e186\"],[0.8,\"#7fbc41\"],[0.9,\"#4d9221\"],[1,\"#276419\"]],\"sequential\":[[0.0,\"#0d0887\"],[0.1111111111111111,\"#46039f\"],[0.2222222222222222,\"#7201a8\"],[0.3333333333333333,\"#9c179e\"],[0.4444444444444444,\"#bd3786\"],[0.5555555555555556,\"#d8576b\"],[0.6666666666666666,\"#ed7953\"],[0.7777777777777778,\"#fb9f3a\"],[0.8888888888888888,\"#fdca26\"],[1.0,\"#f0f921\"]],\"sequentialminus\":[[0.0,\"#0d0887\"],[0.1111111111111111,\"#46039f\"],[0.2222222222222222,\"#7201a8\"],[0.3333333333333333,\"#9c179e\"],[0.4444444444444444,\"#bd3786\"],[0.5555555555555556,\"#d8576b\"],[0.6666666666666666,\"#ed7953\"],[0.7777777777777778,\"#fb9f3a\"],[0.8888888888888888,\"#fdca26\"],[1.0,\"#f0f921\"]]},\"colorway\":[\"#636efa\",\"#EF553B\",\"#00cc96\",\"#ab63fa\",\"#FFA15A\",\"#19d3f3\",\"#FF6692\",\"#B6E880\",\"#FF97FF\",\"#FECB52\"],\"font\":{\"color\":\"#2a3f5f\"},\"geo\":{\"bgcolor\":\"white\",\"lakecolor\":\"white\",\"landcolor\":\"#E5ECF6\",\"showlakes\":true,\"showland\":true,\"subunitcolor\":\"white\"},\"hoverlabel\":{\"align\":\"left\"},\"hovermode\":\"closest\",\"mapbox\":{\"style\":\"light\"},\"paper_bgcolor\":\"white\",\"plot_bgcolor\":\"#E5ECF6\",\"polar\":{\"angularaxis\":{\"gridcolor\":\"white\",\"linecolor\":\"white\",\"ticks\":\"\"},\"bgcolor\":\"#E5ECF6\",\"radialaxis\":{\"gridcolor\":\"white\",\"linecolor\":\"white\",\"ticks\":\"\"}},\"scene\":{\"xaxis\":{\"backgroundcolor\":\"#E5ECF6\",\"gridcolor\":\"white\",\"gridwidth\":2,\"linecolor\":\"white\",\"showbackground\":true,\"ticks\":\"\",\"zerolinecolor\":\"white\"},\"yaxis\":{\"backgroundcolor\":\"#E5ECF6\",\"gridcolor\":\"white\",\"gridwidth\":2,\"linecolor\":\"white\",\"showbackground\":true,\"ticks\":\"\",\"zerolinecolor\":\"white\"},\"zaxis\":{\"backgroundcolor\":\"#E5ECF6\",\"gridcolor\":\"white\",\"gridwidth\":2,\"linecolor\":\"white\",\"showbackground\":true,\"ticks\":\"\",\"zerolinecolor\":\"white\"}},\"shapedefaults\":{\"line\":{\"color\":\"#2a3f5f\"}},\"ternary\":{\"aaxis\":{\"gridcolor\":\"white\",\"linecolor\":\"white\",\"ticks\":\"\"},\"baxis\":{\"gridcolor\":\"white\",\"linecolor\":\"white\",\"ticks\":\"\"},\"bgcolor\":\"#E5ECF6\",\"caxis\":{\"gridcolor\":\"white\",\"linecolor\":\"white\",\"ticks\":\"\"}},\"title\":{\"x\":0.05},\"xaxis\":{\"automargin\":true,\"gridcolor\":\"white\",\"linecolor\":\"white\",\"ticks\":\"\",\"title\":{\"standoff\":15},\"zerolinecolor\":\"white\",\"zerolinewidth\":2},\"yaxis\":{\"automargin\":true,\"gridcolor\":\"white\",\"linecolor\":\"white\",\"ticks\":\"\",\"title\":{\"standoff\":15},\"zerolinecolor\":\"white\",\"zerolinewidth\":2}}},\"width\":800,\"xaxis\":{\"anchor\":\"y\",\"domain\":[0.0,1.0],\"tickformat\":\"%e.%b\",\"ticklabelmode\":\"period\"},\"xaxis2\":{\"anchor\":\"y2\",\"domain\":[0.0,1.0],\"tickformat\":\"%e.%b\",\"ticklabelmode\":\"period\"},\"yaxis\":{\"anchor\":\"x\",\"domain\":[0.625,1.0]},\"yaxis2\":{\"anchor\":\"x2\",\"domain\":[0.0,0.375]}},\"margin\":[5,5,5,5],\"name\":\"ParamFunction00115\",\"viewport_update_throttle\":200},\"id\":\"1058\",\"type\":\"panel.models.plotly.PlotlyPlot\"},{\"attributes\":{\"children\":[{\"id\":\"1049\"},{\"id\":\"1052\"}],\"margin\":[0,0,0,0],\"name\":\"Row00122\"},\"id\":\"1048\",\"type\":\"Row\"},{\"attributes\":{\"children\":[{\"id\":\"1058\"}],\"margin\":[0,0,0,0],\"name\":\"Row00119\"},\"id\":\"1052\",\"type\":\"Row\"},{\"attributes\":{\"margin\":[5,10,5,10],\"min_width\":200,\"options\":[\"Bansk\\u00e1 Bystrica\",\"Bansk\\u00e1 \\u0160tiavnica\",\"Bardejov\",\"Ba\\u0161ovce\",\"Bojnice\",\"Bo\\u013ekovce\",\"Bratislava\",\"Brezno\",\"Brezno - Zadn\\u00e9 Halny\",\"Brezov\\u00e1 pod Bradlom\",\"Byt\\u010da\",\"B\\u00e1novce nad Bebravou\",\"Chlmec\",\"Detva\",\"Dob\\u0161in\\u00e1\",\"Doln\\u00fd Kub\\u00edn\",\"Dubnica nad V\\u00e1hom\",\"Dunajsk\\u00e1 Streda\",\"D\\u00fabravka\",\"Fi\\u013eakovo\",\"Galanta\",\"Gbely\",\"Gelnica\",\"Gemersk\\u00e1 H\\u00f4rka\",\"Giraltovce\",\"Handlov\\u00e1\",\"Hlohovec\",\"Hn\\u00fa\\u0161\\u0165a\",\"Hody\",\"Hol\\u00ed\\u010d\",\"Hontianska Vrbica\",\"Hri\\u0148ov\\u00e1\",\"Humenn\\u00e9\",\"Hurbanovo\",\"Hybe\",\"Ilava\",\"Istebn\\u00edk\",\"Kamenica nad Cirochou\",\"Ke\\u017emarok\",\"Kol\\u00e1rovo\",\"Kom\\u00e1rno\",\"Kote\\u0161ov\\u00e1\",\"Ko\\u0161ice\",\"Kremnica\",\"Krompachy\",\"Krupina\",\"Kysuck\\u00e9 Nov\\u00e9 Mesto\",\"Leopoldov\",\"Levice\",\"Levo\\u010da\",\"Likavka\",\"Lipany\",\"Liptovsk\\u00fd Hr\\u00e1dok\",\"Liptovsk\\u00fd Mikul\\u00e1\\u0161\",\"Lovce\",\"Lu\\u010denec\",\"Malacky\",\"Martin\",\"Medzev\",\"Medzilaborce\",\"Michalovce\",\"Modra nad Cirochou\",\"Moldava nad Bodvou\",\"Most pri Bratislave\",\"Myjava\",\"Nem\\u0161ov\\u00e1\",\"Nitra\",\"Ni\\u017en\\u00e9 Nemeck\\u00e9\",\"Nov\\u00e1 Ba\\u0148a\",\"Nov\\u00e1 Dubnica\",\"Nov\\u00e1 Lesn\\u00e1\",\"Nov\\u00e1ky\",\"Nov\\u00e9 Mesto nad V\\u00e1hom\",\"Nov\\u00e9 Z\\u00e1mky\",\"N\\u00e1mestovo\",\"Oravsk\\u00e1 Lesn\\u00e1\",\"Pal\\u00fadzka\",\"Partiz\\u00e1nske\",\"Pezinok\",\"Pie\\u0161\\u0165any\",\"Podol\\u00ednec\",\"Polt\\u00e1r\",\"Poprad\",\"Pova\\u017esk\\u00e1 Bystrica\",\"Po\\u013en\\u00fd Kesov\",\"Pre\\u0161ov\",\"Pribylina\",\"Prievidza\",\"P\\u00fachov\",\"Rajec\",\"Rev\\u00faca\",\"Rimavsk\\u00e1 Sobota\",\"Ro\\u017e\\u0148ava\",\"Ro\\u017e\\u0148ov\\u00e9 Mitice\",\"Ru\\u017eindol\",\"Ru\\u017eomberok\",\"Sabinov\",\"Senec\",\"Senica\",\"Se\\u010dovce\",\"Skalica\",\"Sl\\u00e1dkovi\\u010dovo\",\"Smolenice\",\"Snina\",\"Sobrance\",\"Solo\\u0161nica\",\"Spi\\u0161sk\\u00e1 Bel\\u00e1\",\"Spi\\u0161sk\\u00e1 Nov\\u00e1 Ves\",\"Spi\\u0161sk\\u00e9 Podhradie\",\"Star\\u00e1 Tur\\u00e1\",\"Star\\u00e1 \\u013dubov\\u0148a\",\"Stropkov\",\"Str\\u00e1\\u0148any\",\"Str\\u00e1\\u017eske\",\"Stupava\",\"Svidn\\u00edk\",\"Svit\",\"Svod\\u00edn\",\"Sv\\u00e4t\\u00fd Jur\",\"Tisovec\",\"Tlma\\u010de\",\"Topo\\u013e\\u010dany\",\"Trebi\\u0161ov\",\"Tren\\u010dianske Teplice\",\"Tren\\u010d\\u00edn\",\"Trnava\",\"Trsten\\u00e1\",\"Turzovka\",\"Tur\\u010dianske Teplice\",\"Tvrdo\\u0161\\u00edn\",\"Ve\\u013ek\\u00fd Bysterec\",\"Ve\\u013ek\\u00fd Meder\",\"Vinn\\u00e9\",\"Vranov nad Top\\u013eou\",\"Vrbov\\u00e9\",\"Vr\\u00e1ble\",\"Vr\\u00fatky\",\"Vysok\\u00e9 Tatry\",\"Vysok\\u00e9 Tatry - Nov\\u00fd Smokovec\",\"Vy\\u0161n\\u00e9 Ru\\u017ebachy\",\"Zlat\\u00e9 Moravce\",\"Zliechov\",\"Zvolen\",\"Z\\u00e1vodie\",\"\\u010cachtice\",\"\\u010cadca\",\"\\u010cierna nad Tisou\",\"\\u013dubica\",\"\\u0160ahy\",\"\\u0160amor\\u00edn\",\"\\u0160a\\u013ea\",\"\\u0160trba\",\"\\u0160t\\u00farovo\",\"\\u0160urany\",\"\\u017darnovica\",\"\\u017ddiar\",\"\\u017deliezovce\",\"\\u017diar nad Hronom\",\"\\u017dilina\"],\"title\":\"Select a station\",\"value\":\"Bansk\\u00e1 Bystrica\",\"width\":200},\"id\":\"1050\",\"type\":\"panel.models.widgets.CustomSelect\"},{\"attributes\":{\"data\":{\"x\":[[\"2022-09-05 12:00:00\",\"2022-09-06 12:00:00\",\"2022-09-07 12:00:00\",\"2022-09-08 12:00:00\",\"2022-09-09 12:00:00\",\"2022-09-10 12:00:00\",\"2022-09-11 12:00:00\",\"2022-09-12 12:00:00\"]],\"y\":[[50,48,97,91,100,100,55,100]]},\"selected\":{\"id\":\"1068\"},\"selection_policy\":{\"id\":\"1067\"}},\"id\":\"1057\",\"type\":\"ColumnDataSource\"}],\"root_ids\":[\"1048\",\"1089\"]},\"title\":\"Bokeh Application\",\"version\":\"2.4.3\"}};\n",
       "    var render_items = [{\"docid\":\"f40abf2d-a407-483c-a1ad-186e38a9ff86\",\"root_ids\":[\"1048\"],\"roots\":{\"1048\":\"701cb7e8-92f1-495d-9692-8c99887b7711\"}}];\n",
       "    root.Bokeh.embed.embed_items_notebook(docs_json, render_items);\n",
       "  }\n",
       "  if (root.Bokeh !== undefined && root.Bokeh.Panel !== undefined && ( root['Plotly'] !== undefined)) {\n",
       "    embed_document(root);\n",
       "  } else {\n",
       "    var attempts = 0;\n",
       "    var timer = setInterval(function(root) {\n",
       "      if (root.Bokeh !== undefined && root.Bokeh.Panel !== undefined && (root['Plotly'] !== undefined)) {\n",
       "        clearInterval(timer);\n",
       "        embed_document(root);\n",
       "      } else if (document.readyState == \"complete\") {\n",
       "        attempts++;\n",
       "        if (attempts > 200) {\n",
       "          clearInterval(timer);\n",
       "          console.log(\"Bokeh: ERROR: Unable to run BokehJS code because BokehJS library is missing\");\n",
       "        }\n",
       "      }\n",
       "    }, 25, root)\n",
       "  }\n",
       "})(window);</script>"
      ],
      "text/plain": [
       "Row\n",
       "    [0] Column\n",
       "        [0] Select(options=['Banská Bystrica', ...], value='Banská Bystrica', width=200)\n",
       "        [1] CheckBoxGroup(options=['clouds', 'rain', ...], value=['temp', 'clouds'], width=200)\n",
       "    [1] ParamFunction(function)"
      ]
     },
     "execution_count": 6,
     "metadata": {
      "application/vnd.holoviews_exec.v0+json": {
       "id": "1048"
      }
     },
     "output_type": "execute_result"
    }
   ],
   "source": [
    "# we will use the same widgets for choosing station & observations\n",
    "pn.Row(m_options, view_daily)"
   ]
  },
  {
   "cell_type": "markdown",
   "id": "fe26daaa",
   "metadata": {},
   "source": [
    "#### Keďže zdieľame widgety pre hodinové aj denné zobrazenia, tak ak zmeníme napr. denné merania, zmenia sa aj hodinové, a naopak"
   ]
  },
  {
   "cell_type": "markdown",
   "id": "d418e56a",
   "metadata": {},
   "source": [
    "#### Ale ako ich teraz spojiť dokopy?\n",
    "#### Na to nám pomôže`Tabs`"
   ]
  },
  {
   "cell_type": "code",
   "execution_count": 13,
   "id": "0fcf0f4f",
   "metadata": {},
   "outputs": [],
   "source": [
    "# we define each tab with a tuple (tab name, widget to display)\n",
    "# we can also define tab with only a widget - panel gives it a name (but it is ugly)\n",
    "\n",
    "tabs = pn.Tabs(\n",
    "    (\"Hourly\", view_hourly),\n",
    "    (\"Daily\", view_daily),\n",
    "    pn.Row(pn.pane.Markdown(\"# Simple example of an 'ugly' tab name\")),\n",
    "    # dynamic=True,  # can prevent bugs (and headaches)\n",
    "    tabs_location='above'  # options: 'left', 'right', 'above'\n",
    ")"
   ]
  },
  {
   "cell_type": "code",
   "execution_count": 14,
   "id": "b4062cca-3a97-45ca-8ee0-0e85aa6acc25",
   "metadata": {},
   "outputs": [
    {
     "data": {},
     "metadata": {},
     "output_type": "display_data"
    },
    {
     "data": {
      "application/vnd.holoviews_exec.v0+json": "",
      "text/html": [
       "<div id='1889'>\n",
       "  <div class=\"bk-root\" id=\"a7addefd-d68f-4cd1-bb05-7b1f462837cb\" data-root-id=\"1889\"></div>\n",
       "</div>\n",
       "<script type=\"application/javascript\">(function(root) {\n",
       "  function embed_document(root) {\n",
       "    var docs_json = {\"0ca31bdb-1e0f-4725-ae2d-99099536c8e3\":{\"defs\":[{\"extends\":null,\"module\":null,\"name\":\"ReactiveHTML1\",\"overrides\":[],\"properties\":[]},{\"extends\":null,\"module\":null,\"name\":\"FlexBox1\",\"overrides\":[],\"properties\":[{\"default\":\"flex-start\",\"kind\":null,\"name\":\"align_content\"},{\"default\":\"flex-start\",\"kind\":null,\"name\":\"align_items\"},{\"default\":\"row\",\"kind\":null,\"name\":\"flex_direction\"},{\"default\":\"wrap\",\"kind\":null,\"name\":\"flex_wrap\"},{\"default\":\"flex-start\",\"kind\":null,\"name\":\"justify_content\"}]},{\"extends\":null,\"module\":null,\"name\":\"GridStack1\",\"overrides\":[],\"properties\":[{\"default\":\"warn\",\"kind\":null,\"name\":\"mode\"},{\"default\":null,\"kind\":null,\"name\":\"ncols\"},{\"default\":null,\"kind\":null,\"name\":\"nrows\"},{\"default\":true,\"kind\":null,\"name\":\"allow_resize\"},{\"default\":true,\"kind\":null,\"name\":\"allow_drag\"},{\"default\":[],\"kind\":null,\"name\":\"state\"}]},{\"extends\":null,\"module\":null,\"name\":\"click1\",\"overrides\":[],\"properties\":[{\"default\":\"\",\"kind\":null,\"name\":\"terminal_output\"},{\"default\":\"\",\"kind\":null,\"name\":\"debug_name\"},{\"default\":0,\"kind\":null,\"name\":\"clears\"}]},{\"extends\":null,\"module\":null,\"name\":\"NotificationAreaBase1\",\"overrides\":[],\"properties\":[{\"default\":\"bottom-right\",\"kind\":null,\"name\":\"position\"},{\"default\":0,\"kind\":null,\"name\":\"_clear\"}]},{\"extends\":null,\"module\":null,\"name\":\"NotificationArea1\",\"overrides\":[],\"properties\":[{\"default\":[],\"kind\":null,\"name\":\"notifications\"},{\"default\":\"bottom-right\",\"kind\":null,\"name\":\"position\"},{\"default\":0,\"kind\":null,\"name\":\"_clear\"},{\"default\":[{\"background\":\"#ffc107\",\"icon\":{\"className\":\"fas fa-exclamation-triangle\",\"color\":\"white\",\"tagName\":\"i\"},\"type\":\"warning\"},{\"background\":\"#007bff\",\"icon\":{\"className\":\"fas fa-info-circle\",\"color\":\"white\",\"tagName\":\"i\"},\"type\":\"info\"}],\"kind\":null,\"name\":\"types\"}]},{\"extends\":null,\"module\":null,\"name\":\"Notification\",\"overrides\":[],\"properties\":[{\"default\":null,\"kind\":null,\"name\":\"background\"},{\"default\":3000,\"kind\":null,\"name\":\"duration\"},{\"default\":null,\"kind\":null,\"name\":\"icon\"},{\"default\":\"\",\"kind\":null,\"name\":\"message\"},{\"default\":null,\"kind\":null,\"name\":\"notification_type\"},{\"default\":false,\"kind\":null,\"name\":\"_destroyed\"}]},{\"extends\":null,\"module\":null,\"name\":\"TemplateActions1\",\"overrides\":[],\"properties\":[{\"default\":0,\"kind\":null,\"name\":\"open_modal\"},{\"default\":0,\"kind\":null,\"name\":\"close_modal\"}]},{\"extends\":null,\"module\":null,\"name\":\"MaterialTemplateActions1\",\"overrides\":[],\"properties\":[{\"default\":0,\"kind\":null,\"name\":\"open_modal\"},{\"default\":0,\"kind\":null,\"name\":\"close_modal\"}]}],\"roots\":{\"references\":[{\"attributes\":{\"margin\":[0,0,0,0],\"tabs\":[{\"id\":\"1895\"},{\"id\":\"1897\"}]},\"id\":\"1889\",\"type\":\"panel.models.tabs.Tabs\"},{\"attributes\":{},\"id\":\"1898\",\"type\":\"UnionRenderers\"},{\"attributes\":{\"data\":[{\"marker\":{\"color\":\"green\"},\"name\":\"clouds\",\"type\":\"scatter\",\"xaxis\":\"x\",\"yaxis\":\"y\"},{\"marker\":{\"color\":\"darkgray\"},\"name\":\"pressure\",\"type\":\"scatter\",\"xaxis\":\"x2\",\"yaxis\":\"y2\"},{\"marker\":{\"color\":\"red\"},\"name\":\"temp\",\"type\":\"scatter\",\"xaxis\":\"x3\",\"yaxis\":\"y3\"}],\"data_sources\":[{\"id\":\"1891\"},{\"id\":\"1892\"},{\"id\":\"1893\"}],\"layout\":{\"annotations\":[{\"font\":{\"size\":16},\"showarrow\":false,\"text\":\"clouds\",\"x\":0.5,\"xanchor\":\"center\",\"xref\":\"paper\",\"y\":1.0,\"yanchor\":\"bottom\",\"yref\":\"paper\"},{\"font\":{\"size\":16},\"showarrow\":false,\"text\":\"pressure\",\"x\":0.5,\"xanchor\":\"center\",\"xref\":\"paper\",\"y\":0.6111111111111112,\"yanchor\":\"bottom\",\"yref\":\"paper\"},{\"font\":{\"size\":16},\"showarrow\":false,\"text\":\"temp\",\"x\":0.5,\"xanchor\":\"center\",\"xref\":\"paper\",\"y\":0.22222222222222224,\"yanchor\":\"bottom\",\"yref\":\"paper\"}],\"height\":750,\"showlegend\":false,\"template\":{\"data\":{\"bar\":[{\"error_x\":{\"color\":\"#2a3f5f\"},\"error_y\":{\"color\":\"#2a3f5f\"},\"marker\":{\"line\":{\"color\":\"#E5ECF6\",\"width\":0.5},\"pattern\":{\"fillmode\":\"overlay\",\"size\":10,\"solidity\":0.2}},\"type\":\"bar\"}],\"barpolar\":[{\"marker\":{\"line\":{\"color\":\"#E5ECF6\",\"width\":0.5},\"pattern\":{\"fillmode\":\"overlay\",\"size\":10,\"solidity\":0.2}},\"type\":\"barpolar\"}],\"carpet\":[{\"aaxis\":{\"endlinecolor\":\"#2a3f5f\",\"gridcolor\":\"white\",\"linecolor\":\"white\",\"minorgridcolor\":\"white\",\"startlinecolor\":\"#2a3f5f\"},\"baxis\":{\"endlinecolor\":\"#2a3f5f\",\"gridcolor\":\"white\",\"linecolor\":\"white\",\"minorgridcolor\":\"white\",\"startlinecolor\":\"#2a3f5f\"},\"type\":\"carpet\"}],\"choropleth\":[{\"colorbar\":{\"outlinewidth\":0,\"ticks\":\"\"},\"type\":\"choropleth\"}],\"contour\":[{\"colorbar\":{\"outlinewidth\":0,\"ticks\":\"\"},\"colorscale\":[[0.0,\"#0d0887\"],[0.1111111111111111,\"#46039f\"],[0.2222222222222222,\"#7201a8\"],[0.3333333333333333,\"#9c179e\"],[0.4444444444444444,\"#bd3786\"],[0.5555555555555556,\"#d8576b\"],[0.6666666666666666,\"#ed7953\"],[0.7777777777777778,\"#fb9f3a\"],[0.8888888888888888,\"#fdca26\"],[1.0,\"#f0f921\"]],\"type\":\"contour\"}],\"contourcarpet\":[{\"colorbar\":{\"outlinewidth\":0,\"ticks\":\"\"},\"type\":\"contourcarpet\"}],\"heatmap\":[{\"colorbar\":{\"outlinewidth\":0,\"ticks\":\"\"},\"colorscale\":[[0.0,\"#0d0887\"],[0.1111111111111111,\"#46039f\"],[0.2222222222222222,\"#7201a8\"],[0.3333333333333333,\"#9c179e\"],[0.4444444444444444,\"#bd3786\"],[0.5555555555555556,\"#d8576b\"],[0.6666666666666666,\"#ed7953\"],[0.7777777777777778,\"#fb9f3a\"],[0.8888888888888888,\"#fdca26\"],[1.0,\"#f0f921\"]],\"type\":\"heatmap\"}],\"heatmapgl\":[{\"colorbar\":{\"outlinewidth\":0,\"ticks\":\"\"},\"colorscale\":[[0.0,\"#0d0887\"],[0.1111111111111111,\"#46039f\"],[0.2222222222222222,\"#7201a8\"],[0.3333333333333333,\"#9c179e\"],[0.4444444444444444,\"#bd3786\"],[0.5555555555555556,\"#d8576b\"],[0.6666666666666666,\"#ed7953\"],[0.7777777777777778,\"#fb9f3a\"],[0.8888888888888888,\"#fdca26\"],[1.0,\"#f0f921\"]],\"type\":\"heatmapgl\"}],\"histogram\":[{\"marker\":{\"pattern\":{\"fillmode\":\"overlay\",\"size\":10,\"solidity\":0.2}},\"type\":\"histogram\"}],\"histogram2d\":[{\"colorbar\":{\"outlinewidth\":0,\"ticks\":\"\"},\"colorscale\":[[0.0,\"#0d0887\"],[0.1111111111111111,\"#46039f\"],[0.2222222222222222,\"#7201a8\"],[0.3333333333333333,\"#9c179e\"],[0.4444444444444444,\"#bd3786\"],[0.5555555555555556,\"#d8576b\"],[0.6666666666666666,\"#ed7953\"],[0.7777777777777778,\"#fb9f3a\"],[0.8888888888888888,\"#fdca26\"],[1.0,\"#f0f921\"]],\"type\":\"histogram2d\"}],\"histogram2dcontour\":[{\"colorbar\":{\"outlinewidth\":0,\"ticks\":\"\"},\"colorscale\":[[0.0,\"#0d0887\"],[0.1111111111111111,\"#46039f\"],[0.2222222222222222,\"#7201a8\"],[0.3333333333333333,\"#9c179e\"],[0.4444444444444444,\"#bd3786\"],[0.5555555555555556,\"#d8576b\"],[0.6666666666666666,\"#ed7953\"],[0.7777777777777778,\"#fb9f3a\"],[0.8888888888888888,\"#fdca26\"],[1.0,\"#f0f921\"]],\"type\":\"histogram2dcontour\"}],\"mesh3d\":[{\"colorbar\":{\"outlinewidth\":0,\"ticks\":\"\"},\"type\":\"mesh3d\"}],\"parcoords\":[{\"line\":{\"colorbar\":{\"outlinewidth\":0,\"ticks\":\"\"}},\"type\":\"parcoords\"}],\"pie\":[{\"automargin\":true,\"type\":\"pie\"}],\"scatter\":[{\"fillpattern\":{\"fillmode\":\"overlay\",\"size\":10,\"solidity\":0.2},\"type\":\"scatter\"}],\"scatter3d\":[{\"line\":{\"colorbar\":{\"outlinewidth\":0,\"ticks\":\"\"}},\"marker\":{\"colorbar\":{\"outlinewidth\":0,\"ticks\":\"\"}},\"type\":\"scatter3d\"}],\"scattercarpet\":[{\"marker\":{\"colorbar\":{\"outlinewidth\":0,\"ticks\":\"\"}},\"type\":\"scattercarpet\"}],\"scattergeo\":[{\"marker\":{\"colorbar\":{\"outlinewidth\":0,\"ticks\":\"\"}},\"type\":\"scattergeo\"}],\"scattergl\":[{\"marker\":{\"colorbar\":{\"outlinewidth\":0,\"ticks\":\"\"}},\"type\":\"scattergl\"}],\"scattermapbox\":[{\"marker\":{\"colorbar\":{\"outlinewidth\":0,\"ticks\":\"\"}},\"type\":\"scattermapbox\"}],\"scatterpolar\":[{\"marker\":{\"colorbar\":{\"outlinewidth\":0,\"ticks\":\"\"}},\"type\":\"scatterpolar\"}],\"scatterpolargl\":[{\"marker\":{\"colorbar\":{\"outlinewidth\":0,\"ticks\":\"\"}},\"type\":\"scatterpolargl\"}],\"scatterternary\":[{\"marker\":{\"colorbar\":{\"outlinewidth\":0,\"ticks\":\"\"}},\"type\":\"scatterternary\"}],\"surface\":[{\"colorbar\":{\"outlinewidth\":0,\"ticks\":\"\"},\"colorscale\":[[0.0,\"#0d0887\"],[0.1111111111111111,\"#46039f\"],[0.2222222222222222,\"#7201a8\"],[0.3333333333333333,\"#9c179e\"],[0.4444444444444444,\"#bd3786\"],[0.5555555555555556,\"#d8576b\"],[0.6666666666666666,\"#ed7953\"],[0.7777777777777778,\"#fb9f3a\"],[0.8888888888888888,\"#fdca26\"],[1.0,\"#f0f921\"]],\"type\":\"surface\"}],\"table\":[{\"cells\":{\"fill\":{\"color\":\"#EBF0F8\"},\"line\":{\"color\":\"white\"}},\"header\":{\"fill\":{\"color\":\"#C8D4E3\"},\"line\":{\"color\":\"white\"}},\"type\":\"table\"}]},\"layout\":{\"annotationdefaults\":{\"arrowcolor\":\"#2a3f5f\",\"arrowhead\":0,\"arrowwidth\":1},\"autotypenumbers\":\"strict\",\"coloraxis\":{\"colorbar\":{\"outlinewidth\":0,\"ticks\":\"\"}},\"colorscale\":{\"diverging\":[[0,\"#8e0152\"],[0.1,\"#c51b7d\"],[0.2,\"#de77ae\"],[0.3,\"#f1b6da\"],[0.4,\"#fde0ef\"],[0.5,\"#f7f7f7\"],[0.6,\"#e6f5d0\"],[0.7,\"#b8e186\"],[0.8,\"#7fbc41\"],[0.9,\"#4d9221\"],[1,\"#276419\"]],\"sequential\":[[0.0,\"#0d0887\"],[0.1111111111111111,\"#46039f\"],[0.2222222222222222,\"#7201a8\"],[0.3333333333333333,\"#9c179e\"],[0.4444444444444444,\"#bd3786\"],[0.5555555555555556,\"#d8576b\"],[0.6666666666666666,\"#ed7953\"],[0.7777777777777778,\"#fb9f3a\"],[0.8888888888888888,\"#fdca26\"],[1.0,\"#f0f921\"]],\"sequentialminus\":[[0.0,\"#0d0887\"],[0.1111111111111111,\"#46039f\"],[0.2222222222222222,\"#7201a8\"],[0.3333333333333333,\"#9c179e\"],[0.4444444444444444,\"#bd3786\"],[0.5555555555555556,\"#d8576b\"],[0.6666666666666666,\"#ed7953\"],[0.7777777777777778,\"#fb9f3a\"],[0.8888888888888888,\"#fdca26\"],[1.0,\"#f0f921\"]]},\"colorway\":[\"#636efa\",\"#EF553B\",\"#00cc96\",\"#ab63fa\",\"#FFA15A\",\"#19d3f3\",\"#FF6692\",\"#B6E880\",\"#FF97FF\",\"#FECB52\"],\"font\":{\"color\":\"#2a3f5f\"},\"geo\":{\"bgcolor\":\"white\",\"lakecolor\":\"white\",\"landcolor\":\"#E5ECF6\",\"showlakes\":true,\"showland\":true,\"subunitcolor\":\"white\"},\"hoverlabel\":{\"align\":\"left\"},\"hovermode\":\"closest\",\"mapbox\":{\"style\":\"light\"},\"paper_bgcolor\":\"white\",\"plot_bgcolor\":\"#E5ECF6\",\"polar\":{\"angularaxis\":{\"gridcolor\":\"white\",\"linecolor\":\"white\",\"ticks\":\"\"},\"bgcolor\":\"#E5ECF6\",\"radialaxis\":{\"gridcolor\":\"white\",\"linecolor\":\"white\",\"ticks\":\"\"}},\"scene\":{\"xaxis\":{\"backgroundcolor\":\"#E5ECF6\",\"gridcolor\":\"white\",\"gridwidth\":2,\"linecolor\":\"white\",\"showbackground\":true,\"ticks\":\"\",\"zerolinecolor\":\"white\"},\"yaxis\":{\"backgroundcolor\":\"#E5ECF6\",\"gridcolor\":\"white\",\"gridwidth\":2,\"linecolor\":\"white\",\"showbackground\":true,\"ticks\":\"\",\"zerolinecolor\":\"white\"},\"zaxis\":{\"backgroundcolor\":\"#E5ECF6\",\"gridcolor\":\"white\",\"gridwidth\":2,\"linecolor\":\"white\",\"showbackground\":true,\"ticks\":\"\",\"zerolinecolor\":\"white\"}},\"shapedefaults\":{\"line\":{\"color\":\"#2a3f5f\"}},\"ternary\":{\"aaxis\":{\"gridcolor\":\"white\",\"linecolor\":\"white\",\"ticks\":\"\"},\"baxis\":{\"gridcolor\":\"white\",\"linecolor\":\"white\",\"ticks\":\"\"},\"bgcolor\":\"#E5ECF6\",\"caxis\":{\"gridcolor\":\"white\",\"linecolor\":\"white\",\"ticks\":\"\"}},\"title\":{\"x\":0.05},\"xaxis\":{\"automargin\":true,\"gridcolor\":\"white\",\"linecolor\":\"white\",\"ticks\":\"\",\"title\":{\"standoff\":15},\"zerolinecolor\":\"white\",\"zerolinewidth\":2},\"yaxis\":{\"automargin\":true,\"gridcolor\":\"white\",\"linecolor\":\"white\",\"ticks\":\"\",\"title\":{\"standoff\":15},\"zerolinecolor\":\"white\",\"zerolinewidth\":2}}},\"width\":800,\"xaxis\":{\"anchor\":\"y\",\"domain\":[0.0,1.0],\"dtick\":10800000,\"tickformat\":\"%H\\n%e.%b\"},\"xaxis2\":{\"anchor\":\"y2\",\"domain\":[0.0,1.0],\"dtick\":10800000,\"tickformat\":\"%H\\n%e.%b\"},\"xaxis3\":{\"anchor\":\"y3\",\"domain\":[0.0,1.0],\"dtick\":10800000,\"tickformat\":\"%H\\n%e.%b\"},\"yaxis\":{\"anchor\":\"x\",\"domain\":[0.7777777777777778,1.0]},\"yaxis2\":{\"anchor\":\"x2\",\"domain\":[0.3888888888888889,0.6111111111111112]},\"yaxis3\":{\"anchor\":\"x3\",\"domain\":[0.0,0.22222222222222224]}},\"margin\":[5,5,5,5],\"name\":\"Hourly\",\"viewport_update_throttle\":200},\"id\":\"1894\",\"type\":\"panel.models.plotly.PlotlyPlot\"},{\"attributes\":{},\"id\":\"1902\",\"type\":\"UnionRenderers\"},{\"attributes\":{\"client_comm_id\":\"75c84a7078c64f0c873e5bed9bc937c7\",\"comm_id\":\"3ce5efe88b1b493c870a80b14a6f891f\",\"plot_id\":\"1889\"},\"id\":\"1916\",\"type\":\"panel.models.comm_manager.CommManager\"},{\"attributes\":{\"data\":{\"x\":[[\"2022-09-05 21:00:00\",\"2022-09-05 22:00:00\",\"2022-09-05 23:00:00\",\"2022-09-06 00:00:00\",\"2022-09-06 01:00:00\",\"2022-09-06 02:00:00\",\"2022-09-06 03:00:00\",\"2022-09-06 04:00:00\",\"2022-09-06 05:00:00\",\"2022-09-06 06:00:00\",\"2022-09-06 07:00:00\",\"2022-09-06 08:00:00\",\"2022-09-06 09:00:00\",\"2022-09-06 10:00:00\",\"2022-09-06 11:00:00\",\"2022-09-06 12:00:00\",\"2022-09-06 13:00:00\",\"2022-09-06 14:00:00\",\"2022-09-06 15:00:00\",\"2022-09-06 16:00:00\",\"2022-09-06 17:00:00\",\"2022-09-06 18:00:00\",\"2022-09-06 19:00:00\",\"2022-09-06 20:00:00\",\"2022-09-06 21:00:00\",\"2022-09-06 22:00:00\",\"2022-09-06 23:00:00\",\"2022-09-07 00:00:00\",\"2022-09-07 01:00:00\",\"2022-09-07 02:00:00\",\"2022-09-07 03:00:00\",\"2022-09-07 04:00:00\",\"2022-09-07 05:00:00\",\"2022-09-07 06:00:00\",\"2022-09-07 07:00:00\",\"2022-09-07 08:00:00\",\"2022-09-07 09:00:00\",\"2022-09-07 10:00:00\",\"2022-09-07 11:00:00\",\"2022-09-07 12:00:00\",\"2022-09-07 13:00:00\",\"2022-09-07 14:00:00\",\"2022-09-07 15:00:00\",\"2022-09-07 16:00:00\",\"2022-09-07 17:00:00\",\"2022-09-07 18:00:00\",\"2022-09-07 19:00:00\",\"2022-09-07 20:00:00\"]],\"y\":[{\"__ndarray__\":\"9ihcj8L1LkCPwvUoXA8vQClcj8L1qC5AuB6F61E4LkC4HoXrUTgtQOF6FK5H4SpA4XoUrkdhKECkcD0K16MnQM3MzMzMTCdAuB6F61E4KEAK16NwPYorQClcj8L1KC1ArkfhehQuLkAzMzMzMzMvQEjhehSuRzBAhetRuB7FMUBmZmZmZqYyQB+F61G4XjRAexSuR+G6NEAzMzMzM3MzQEjhehSuxzBAw/UoXI/CLkAK16NwPYosQFK4HoXr0StAZmZmZmZmK0DhehSuR2ErQLgehetROCpA4XoUrkfhKUApXI/C9SgpQEjhehSuRytAzczMzMzMK0BI4XoUrscrQEjhehSuRytAMzMzMzMzK0AzMzMzMzMsQHsUrkfhei5AMzMzMzOzMECkcD0K16MxQM3MzMzMTDJAAAAAAAAAM0ApXI/C9egzQKRwPQrXYzRAFK5H4XrUNUBcj8L1KFw2QBSuR+F6FDZAZmZmZmamNEDsUbgehSsxQMP1KFyPwi9A\",\"dtype\":\"float64\",\"order\":\"little\",\"shape\":[48]}]},\"selected\":{\"id\":\"1903\"},\"selection_policy\":{\"id\":\"1902\"}},\"id\":\"1893\",\"type\":\"ColumnDataSource\"},{\"attributes\":{\"margin\":[5,5,5,5],\"name\":\"Daily\",\"tags\":[\"hidden\"]},\"id\":\"1896\",\"type\":\"Spacer\"},{\"attributes\":{\"child\":{\"id\":\"1890\"},\"name\":\"Hourly\",\"title\":\"Hourly\"},\"id\":\"1895\",\"type\":\"Panel\"},{\"attributes\":{\"children\":[{\"id\":\"1894\"}],\"margin\":[0,0,0,0],\"name\":\"Hourly\"},\"id\":\"1890\",\"type\":\"Row\"},{\"attributes\":{},\"id\":\"1903\",\"type\":\"Selection\"},{\"attributes\":{\"data\":{\"x\":[[\"2022-09-05 21:00:00\",\"2022-09-05 22:00:00\",\"2022-09-05 23:00:00\",\"2022-09-06 00:00:00\",\"2022-09-06 01:00:00\",\"2022-09-06 02:00:00\",\"2022-09-06 03:00:00\",\"2022-09-06 04:00:00\",\"2022-09-06 05:00:00\",\"2022-09-06 06:00:00\",\"2022-09-06 07:00:00\",\"2022-09-06 08:00:00\",\"2022-09-06 09:00:00\",\"2022-09-06 10:00:00\",\"2022-09-06 11:00:00\",\"2022-09-06 12:00:00\",\"2022-09-06 13:00:00\",\"2022-09-06 14:00:00\",\"2022-09-06 15:00:00\",\"2022-09-06 16:00:00\",\"2022-09-06 17:00:00\",\"2022-09-06 18:00:00\",\"2022-09-06 19:00:00\",\"2022-09-06 20:00:00\",\"2022-09-06 21:00:00\",\"2022-09-06 22:00:00\",\"2022-09-06 23:00:00\",\"2022-09-07 00:00:00\",\"2022-09-07 01:00:00\",\"2022-09-07 02:00:00\",\"2022-09-07 03:00:00\",\"2022-09-07 04:00:00\",\"2022-09-07 05:00:00\",\"2022-09-07 06:00:00\",\"2022-09-07 07:00:00\",\"2022-09-07 08:00:00\",\"2022-09-07 09:00:00\",\"2022-09-07 10:00:00\",\"2022-09-07 11:00:00\",\"2022-09-07 12:00:00\",\"2022-09-07 13:00:00\",\"2022-09-07 14:00:00\",\"2022-09-07 15:00:00\",\"2022-09-07 16:00:00\",\"2022-09-07 17:00:00\",\"2022-09-07 18:00:00\",\"2022-09-07 19:00:00\",\"2022-09-07 20:00:00\"]],\"y\":[[98,98,97,96,93,85,37,35,30,39,50,58,100,100,100,100,99,99,100,100,100,100,100,100,100,100,95,95,91,92,100,99,98,97,98,97,78,75,82,86,87,87,57,47,50,55,62,67]]},\"selected\":{\"id\":\"1899\"},\"selection_policy\":{\"id\":\"1898\"}},\"id\":\"1891\",\"type\":\"ColumnDataSource\"},{\"attributes\":{},\"id\":\"1899\",\"type\":\"Selection\"},{\"attributes\":{},\"id\":\"1901\",\"type\":\"Selection\"},{\"attributes\":{},\"id\":\"1900\",\"type\":\"UnionRenderers\"},{\"attributes\":{\"data\":{\"x\":[[\"2022-09-05 21:00:00\",\"2022-09-05 22:00:00\",\"2022-09-05 23:00:00\",\"2022-09-06 00:00:00\",\"2022-09-06 01:00:00\",\"2022-09-06 02:00:00\",\"2022-09-06 03:00:00\",\"2022-09-06 04:00:00\",\"2022-09-06 05:00:00\",\"2022-09-06 06:00:00\",\"2022-09-06 07:00:00\",\"2022-09-06 08:00:00\",\"2022-09-06 09:00:00\",\"2022-09-06 10:00:00\",\"2022-09-06 11:00:00\",\"2022-09-06 12:00:00\",\"2022-09-06 13:00:00\",\"2022-09-06 14:00:00\",\"2022-09-06 15:00:00\",\"2022-09-06 16:00:00\",\"2022-09-06 17:00:00\",\"2022-09-06 18:00:00\",\"2022-09-06 19:00:00\",\"2022-09-06 20:00:00\",\"2022-09-06 21:00:00\",\"2022-09-06 22:00:00\",\"2022-09-06 23:00:00\",\"2022-09-07 00:00:00\",\"2022-09-07 01:00:00\",\"2022-09-07 02:00:00\",\"2022-09-07 03:00:00\",\"2022-09-07 04:00:00\",\"2022-09-07 05:00:00\",\"2022-09-07 06:00:00\",\"2022-09-07 07:00:00\",\"2022-09-07 08:00:00\",\"2022-09-07 09:00:00\",\"2022-09-07 10:00:00\",\"2022-09-07 11:00:00\",\"2022-09-07 12:00:00\",\"2022-09-07 13:00:00\",\"2022-09-07 14:00:00\",\"2022-09-07 15:00:00\",\"2022-09-07 16:00:00\",\"2022-09-07 17:00:00\",\"2022-09-07 18:00:00\",\"2022-09-07 19:00:00\",\"2022-09-07 20:00:00\"]],\"y\":[[1024,1024,1024,1024,1024,1024,1024,1024,1024,1023,1023,1023,1023,1023,1023,1023,1022,1022,1021,1021,1021,1021,1021,1022,1022,1021,1021,1021,1021,1020,1020,1020,1019,1019,1019,1019,1019,1019,1019,1019,1019,1018,1018,1017,1017,1017,1017,1018]]},\"selected\":{\"id\":\"1901\"},\"selection_policy\":{\"id\":\"1900\"}},\"id\":\"1892\",\"type\":\"ColumnDataSource\"},{\"attributes\":{\"child\":{\"id\":\"1896\"},\"name\":\"Daily\",\"title\":\"Daily\"},\"id\":\"1897\",\"type\":\"Panel\"}],\"root_ids\":[\"1889\",\"1916\"]},\"title\":\"Bokeh Application\",\"version\":\"2.4.3\"}};\n",
       "    var render_items = [{\"docid\":\"0ca31bdb-1e0f-4725-ae2d-99099536c8e3\",\"root_ids\":[\"1889\"],\"roots\":{\"1889\":\"a7addefd-d68f-4cd1-bb05-7b1f462837cb\"}}];\n",
       "    root.Bokeh.embed.embed_items_notebook(docs_json, render_items);\n",
       "  }\n",
       "  if (root.Bokeh !== undefined && root.Bokeh.Panel !== undefined && ( root['Plotly'] !== undefined)) {\n",
       "    embed_document(root);\n",
       "  } else {\n",
       "    var attempts = 0;\n",
       "    var timer = setInterval(function(root) {\n",
       "      if (root.Bokeh !== undefined && root.Bokeh.Panel !== undefined && (root['Plotly'] !== undefined)) {\n",
       "        clearInterval(timer);\n",
       "        embed_document(root);\n",
       "      } else if (document.readyState == \"complete\") {\n",
       "        attempts++;\n",
       "        if (attempts > 200) {\n",
       "          clearInterval(timer);\n",
       "          console.log(\"Bokeh: ERROR: Unable to run BokehJS code because BokehJS library is missing\");\n",
       "        }\n",
       "      }\n",
       "    }, 25, root)\n",
       "  }\n",
       "})(window);</script>"
      ],
      "text/plain": [
       "Tabs(dynamic=True)\n",
       "    [0] ParamFunction(function, name='Hourly')\n",
       "    [1] ParamFunction(function, name='Daily')"
      ]
     },
     "execution_count": 14,
     "metadata": {
      "application/vnd.holoviews_exec.v0+json": {
       "id": "1889"
      }
     },
     "output_type": "execute_result"
    }
   ],
   "source": [
    "tabs"
   ]
  },
  {
   "cell_type": "markdown",
   "id": "8652c7b0",
   "metadata": {},
   "source": [
    "#### Aj s `Tabs` môžeme odchytávať udalosti, budeme to využívať v nasledujúcom notebooku."
   ]
  },
  {
   "cell_type": "code",
   "execution_count": 15,
   "id": "378ebaf0",
   "metadata": {},
   "outputs": [],
   "source": [
    "def print_observ(*events):\n",
    "    for event in events:\n",
    "        active_tab = event.new\n",
    "        if active_tab == 0:\n",
    "            print(\"Observing hourly forecast, Tab 0\")\n",
    "        else:\n",
    "            print(\"Observing daily forecast, Tab 1\")\n",
    "\n",
    "            \n",
    "# now we do not want 'value' , we want 'active'\n",
    "tabs_watcher = tabs.param.watch(print_observ, 'active', onlychanged=True)"
   ]
  },
  {
   "cell_type": "code",
   "execution_count": 16,
   "id": "47083491-0cc6-42d0-80f7-60c285f560de",
   "metadata": {},
   "outputs": [
    {
     "data": {
      "text/html": [
       "Observing daily forecast, Tab 1</br>\n",
       "Observing hourly forecast, Tab 0</br>\n",
       "Observing daily forecast, Tab 1</br>\n",
       "Observing hourly forecast, Tab 0</br>\n",
       "Observing daily forecast, Tab 1</br>\n",
       "Observing hourly forecast, Tab 0</br>"
      ]
     },
     "metadata": {},
     "output_type": "display_data"
    },
    {
     "data": {
      "application/vnd.holoviews_exec.v0+json": "",
      "text/html": [
       "<div id='2053'>\n",
       "  <div class=\"bk-root\" id=\"dfc055c5-ae6f-4a6f-b706-bc28509bedaf\" data-root-id=\"2053\"></div>\n",
       "</div>\n",
       "<script type=\"application/javascript\">(function(root) {\n",
       "  function embed_document(root) {\n",
       "    var docs_json = {\"f6180b25-e4f1-44d4-9b62-c44a2d61822f\":{\"defs\":[{\"extends\":null,\"module\":null,\"name\":\"ReactiveHTML1\",\"overrides\":[],\"properties\":[]},{\"extends\":null,\"module\":null,\"name\":\"FlexBox1\",\"overrides\":[],\"properties\":[{\"default\":\"flex-start\",\"kind\":null,\"name\":\"align_content\"},{\"default\":\"flex-start\",\"kind\":null,\"name\":\"align_items\"},{\"default\":\"row\",\"kind\":null,\"name\":\"flex_direction\"},{\"default\":\"wrap\",\"kind\":null,\"name\":\"flex_wrap\"},{\"default\":\"flex-start\",\"kind\":null,\"name\":\"justify_content\"}]},{\"extends\":null,\"module\":null,\"name\":\"GridStack1\",\"overrides\":[],\"properties\":[{\"default\":\"warn\",\"kind\":null,\"name\":\"mode\"},{\"default\":null,\"kind\":null,\"name\":\"ncols\"},{\"default\":null,\"kind\":null,\"name\":\"nrows\"},{\"default\":true,\"kind\":null,\"name\":\"allow_resize\"},{\"default\":true,\"kind\":null,\"name\":\"allow_drag\"},{\"default\":[],\"kind\":null,\"name\":\"state\"}]},{\"extends\":null,\"module\":null,\"name\":\"click1\",\"overrides\":[],\"properties\":[{\"default\":\"\",\"kind\":null,\"name\":\"terminal_output\"},{\"default\":\"\",\"kind\":null,\"name\":\"debug_name\"},{\"default\":0,\"kind\":null,\"name\":\"clears\"}]},{\"extends\":null,\"module\":null,\"name\":\"NotificationAreaBase1\",\"overrides\":[],\"properties\":[{\"default\":\"bottom-right\",\"kind\":null,\"name\":\"position\"},{\"default\":0,\"kind\":null,\"name\":\"_clear\"}]},{\"extends\":null,\"module\":null,\"name\":\"NotificationArea1\",\"overrides\":[],\"properties\":[{\"default\":[],\"kind\":null,\"name\":\"notifications\"},{\"default\":\"bottom-right\",\"kind\":null,\"name\":\"position\"},{\"default\":0,\"kind\":null,\"name\":\"_clear\"},{\"default\":[{\"background\":\"#ffc107\",\"icon\":{\"className\":\"fas fa-exclamation-triangle\",\"color\":\"white\",\"tagName\":\"i\"},\"type\":\"warning\"},{\"background\":\"#007bff\",\"icon\":{\"className\":\"fas fa-info-circle\",\"color\":\"white\",\"tagName\":\"i\"},\"type\":\"info\"}],\"kind\":null,\"name\":\"types\"}]},{\"extends\":null,\"module\":null,\"name\":\"Notification\",\"overrides\":[],\"properties\":[{\"default\":null,\"kind\":null,\"name\":\"background\"},{\"default\":3000,\"kind\":null,\"name\":\"duration\"},{\"default\":null,\"kind\":null,\"name\":\"icon\"},{\"default\":\"\",\"kind\":null,\"name\":\"message\"},{\"default\":null,\"kind\":null,\"name\":\"notification_type\"},{\"default\":false,\"kind\":null,\"name\":\"_destroyed\"}]},{\"extends\":null,\"module\":null,\"name\":\"TemplateActions1\",\"overrides\":[],\"properties\":[{\"default\":0,\"kind\":null,\"name\":\"open_modal\"},{\"default\":0,\"kind\":null,\"name\":\"close_modal\"}]},{\"extends\":null,\"module\":null,\"name\":\"MaterialTemplateActions1\",\"overrides\":[],\"properties\":[{\"default\":0,\"kind\":null,\"name\":\"open_modal\"},{\"default\":0,\"kind\":null,\"name\":\"close_modal\"}]}],\"roots\":{\"references\":[{\"attributes\":{\"child\":{\"id\":\"2060\"},\"name\":\"Daily\",\"title\":\"Daily\"},\"id\":\"2061\",\"type\":\"Panel\"},{\"attributes\":{\"child\":{\"id\":\"2054\"},\"name\":\"Hourly\",\"title\":\"Hourly\"},\"id\":\"2059\",\"type\":\"Panel\"},{\"attributes\":{\"margin\":[5,5,5,5],\"name\":\"Daily\",\"tags\":[\"hidden\"]},\"id\":\"2060\",\"type\":\"Spacer\"},{\"attributes\":{\"client_comm_id\":\"c61526f765f54f299e61b06ed1ef7113\",\"comm_id\":\"e46933cb7e9e4748bab60cbee59b3334\",\"plot_id\":\"2053\"},\"id\":\"2080\",\"type\":\"panel.models.comm_manager.CommManager\"},{\"attributes\":{},\"id\":\"2066\",\"type\":\"UnionRenderers\"},{\"attributes\":{\"data\":{\"x\":[[\"2022-09-05 21:00:00\",\"2022-09-05 22:00:00\",\"2022-09-05 23:00:00\",\"2022-09-06 00:00:00\",\"2022-09-06 01:00:00\",\"2022-09-06 02:00:00\",\"2022-09-06 03:00:00\",\"2022-09-06 04:00:00\",\"2022-09-06 05:00:00\",\"2022-09-06 06:00:00\",\"2022-09-06 07:00:00\",\"2022-09-06 08:00:00\",\"2022-09-06 09:00:00\",\"2022-09-06 10:00:00\",\"2022-09-06 11:00:00\",\"2022-09-06 12:00:00\",\"2022-09-06 13:00:00\",\"2022-09-06 14:00:00\",\"2022-09-06 15:00:00\",\"2022-09-06 16:00:00\",\"2022-09-06 17:00:00\",\"2022-09-06 18:00:00\",\"2022-09-06 19:00:00\",\"2022-09-06 20:00:00\",\"2022-09-06 21:00:00\",\"2022-09-06 22:00:00\",\"2022-09-06 23:00:00\",\"2022-09-07 00:00:00\",\"2022-09-07 01:00:00\",\"2022-09-07 02:00:00\",\"2022-09-07 03:00:00\",\"2022-09-07 04:00:00\",\"2022-09-07 05:00:00\",\"2022-09-07 06:00:00\",\"2022-09-07 07:00:00\",\"2022-09-07 08:00:00\",\"2022-09-07 09:00:00\",\"2022-09-07 10:00:00\",\"2022-09-07 11:00:00\",\"2022-09-07 12:00:00\",\"2022-09-07 13:00:00\",\"2022-09-07 14:00:00\",\"2022-09-07 15:00:00\",\"2022-09-07 16:00:00\",\"2022-09-07 17:00:00\",\"2022-09-07 18:00:00\",\"2022-09-07 19:00:00\",\"2022-09-07 20:00:00\"]],\"y\":[{\"__ndarray__\":\"9ihcj8L1LkCPwvUoXA8vQClcj8L1qC5AuB6F61E4LkC4HoXrUTgtQOF6FK5H4SpA4XoUrkdhKECkcD0K16MnQM3MzMzMTCdAuB6F61E4KEAK16NwPYorQClcj8L1KC1ArkfhehQuLkAzMzMzMzMvQEjhehSuRzBAhetRuB7FMUBmZmZmZqYyQB+F61G4XjRAexSuR+G6NEAzMzMzM3MzQEjhehSuxzBAw/UoXI/CLkAK16NwPYosQFK4HoXr0StAZmZmZmZmK0DhehSuR2ErQLgehetROCpA4XoUrkfhKUApXI/C9SgpQEjhehSuRytAzczMzMzMK0BI4XoUrscrQEjhehSuRytAMzMzMzMzK0AzMzMzMzMsQHsUrkfhei5AMzMzMzOzMECkcD0K16MxQM3MzMzMTDJAAAAAAAAAM0ApXI/C9egzQKRwPQrXYzRAFK5H4XrUNUBcj8L1KFw2QBSuR+F6FDZAZmZmZmamNEDsUbgehSsxQMP1KFyPwi9A\",\"dtype\":\"float64\",\"order\":\"little\",\"shape\":[48]}]},\"selected\":{\"id\":\"2067\"},\"selection_policy\":{\"id\":\"2066\"}},\"id\":\"2057\",\"type\":\"ColumnDataSource\"},{\"attributes\":{\"data\":[{\"marker\":{\"color\":\"green\"},\"name\":\"clouds\",\"type\":\"scatter\",\"xaxis\":\"x\",\"yaxis\":\"y\"},{\"marker\":{\"color\":\"darkgray\"},\"name\":\"pressure\",\"type\":\"scatter\",\"xaxis\":\"x2\",\"yaxis\":\"y2\"},{\"marker\":{\"color\":\"red\"},\"name\":\"temp\",\"type\":\"scatter\",\"xaxis\":\"x3\",\"yaxis\":\"y3\"}],\"data_sources\":[{\"id\":\"2055\"},{\"id\":\"2056\"},{\"id\":\"2057\"}],\"layout\":{\"annotations\":[{\"font\":{\"size\":16},\"showarrow\":false,\"text\":\"clouds\",\"x\":0.5,\"xanchor\":\"center\",\"xref\":\"paper\",\"y\":1.0,\"yanchor\":\"bottom\",\"yref\":\"paper\"},{\"font\":{\"size\":16},\"showarrow\":false,\"text\":\"pressure\",\"x\":0.5,\"xanchor\":\"center\",\"xref\":\"paper\",\"y\":0.6111111111111112,\"yanchor\":\"bottom\",\"yref\":\"paper\"},{\"font\":{\"size\":16},\"showarrow\":false,\"text\":\"temp\",\"x\":0.5,\"xanchor\":\"center\",\"xref\":\"paper\",\"y\":0.22222222222222224,\"yanchor\":\"bottom\",\"yref\":\"paper\"}],\"height\":750,\"showlegend\":false,\"template\":{\"data\":{\"bar\":[{\"error_x\":{\"color\":\"#2a3f5f\"},\"error_y\":{\"color\":\"#2a3f5f\"},\"marker\":{\"line\":{\"color\":\"#E5ECF6\",\"width\":0.5},\"pattern\":{\"fillmode\":\"overlay\",\"size\":10,\"solidity\":0.2}},\"type\":\"bar\"}],\"barpolar\":[{\"marker\":{\"line\":{\"color\":\"#E5ECF6\",\"width\":0.5},\"pattern\":{\"fillmode\":\"overlay\",\"size\":10,\"solidity\":0.2}},\"type\":\"barpolar\"}],\"carpet\":[{\"aaxis\":{\"endlinecolor\":\"#2a3f5f\",\"gridcolor\":\"white\",\"linecolor\":\"white\",\"minorgridcolor\":\"white\",\"startlinecolor\":\"#2a3f5f\"},\"baxis\":{\"endlinecolor\":\"#2a3f5f\",\"gridcolor\":\"white\",\"linecolor\":\"white\",\"minorgridcolor\":\"white\",\"startlinecolor\":\"#2a3f5f\"},\"type\":\"carpet\"}],\"choropleth\":[{\"colorbar\":{\"outlinewidth\":0,\"ticks\":\"\"},\"type\":\"choropleth\"}],\"contour\":[{\"colorbar\":{\"outlinewidth\":0,\"ticks\":\"\"},\"colorscale\":[[0.0,\"#0d0887\"],[0.1111111111111111,\"#46039f\"],[0.2222222222222222,\"#7201a8\"],[0.3333333333333333,\"#9c179e\"],[0.4444444444444444,\"#bd3786\"],[0.5555555555555556,\"#d8576b\"],[0.6666666666666666,\"#ed7953\"],[0.7777777777777778,\"#fb9f3a\"],[0.8888888888888888,\"#fdca26\"],[1.0,\"#f0f921\"]],\"type\":\"contour\"}],\"contourcarpet\":[{\"colorbar\":{\"outlinewidth\":0,\"ticks\":\"\"},\"type\":\"contourcarpet\"}],\"heatmap\":[{\"colorbar\":{\"outlinewidth\":0,\"ticks\":\"\"},\"colorscale\":[[0.0,\"#0d0887\"],[0.1111111111111111,\"#46039f\"],[0.2222222222222222,\"#7201a8\"],[0.3333333333333333,\"#9c179e\"],[0.4444444444444444,\"#bd3786\"],[0.5555555555555556,\"#d8576b\"],[0.6666666666666666,\"#ed7953\"],[0.7777777777777778,\"#fb9f3a\"],[0.8888888888888888,\"#fdca26\"],[1.0,\"#f0f921\"]],\"type\":\"heatmap\"}],\"heatmapgl\":[{\"colorbar\":{\"outlinewidth\":0,\"ticks\":\"\"},\"colorscale\":[[0.0,\"#0d0887\"],[0.1111111111111111,\"#46039f\"],[0.2222222222222222,\"#7201a8\"],[0.3333333333333333,\"#9c179e\"],[0.4444444444444444,\"#bd3786\"],[0.5555555555555556,\"#d8576b\"],[0.6666666666666666,\"#ed7953\"],[0.7777777777777778,\"#fb9f3a\"],[0.8888888888888888,\"#fdca26\"],[1.0,\"#f0f921\"]],\"type\":\"heatmapgl\"}],\"histogram\":[{\"marker\":{\"pattern\":{\"fillmode\":\"overlay\",\"size\":10,\"solidity\":0.2}},\"type\":\"histogram\"}],\"histogram2d\":[{\"colorbar\":{\"outlinewidth\":0,\"ticks\":\"\"},\"colorscale\":[[0.0,\"#0d0887\"],[0.1111111111111111,\"#46039f\"],[0.2222222222222222,\"#7201a8\"],[0.3333333333333333,\"#9c179e\"],[0.4444444444444444,\"#bd3786\"],[0.5555555555555556,\"#d8576b\"],[0.6666666666666666,\"#ed7953\"],[0.7777777777777778,\"#fb9f3a\"],[0.8888888888888888,\"#fdca26\"],[1.0,\"#f0f921\"]],\"type\":\"histogram2d\"}],\"histogram2dcontour\":[{\"colorbar\":{\"outlinewidth\":0,\"ticks\":\"\"},\"colorscale\":[[0.0,\"#0d0887\"],[0.1111111111111111,\"#46039f\"],[0.2222222222222222,\"#7201a8\"],[0.3333333333333333,\"#9c179e\"],[0.4444444444444444,\"#bd3786\"],[0.5555555555555556,\"#d8576b\"],[0.6666666666666666,\"#ed7953\"],[0.7777777777777778,\"#fb9f3a\"],[0.8888888888888888,\"#fdca26\"],[1.0,\"#f0f921\"]],\"type\":\"histogram2dcontour\"}],\"mesh3d\":[{\"colorbar\":{\"outlinewidth\":0,\"ticks\":\"\"},\"type\":\"mesh3d\"}],\"parcoords\":[{\"line\":{\"colorbar\":{\"outlinewidth\":0,\"ticks\":\"\"}},\"type\":\"parcoords\"}],\"pie\":[{\"automargin\":true,\"type\":\"pie\"}],\"scatter\":[{\"fillpattern\":{\"fillmode\":\"overlay\",\"size\":10,\"solidity\":0.2},\"type\":\"scatter\"}],\"scatter3d\":[{\"line\":{\"colorbar\":{\"outlinewidth\":0,\"ticks\":\"\"}},\"marker\":{\"colorbar\":{\"outlinewidth\":0,\"ticks\":\"\"}},\"type\":\"scatter3d\"}],\"scattercarpet\":[{\"marker\":{\"colorbar\":{\"outlinewidth\":0,\"ticks\":\"\"}},\"type\":\"scattercarpet\"}],\"scattergeo\":[{\"marker\":{\"colorbar\":{\"outlinewidth\":0,\"ticks\":\"\"}},\"type\":\"scattergeo\"}],\"scattergl\":[{\"marker\":{\"colorbar\":{\"outlinewidth\":0,\"ticks\":\"\"}},\"type\":\"scattergl\"}],\"scattermapbox\":[{\"marker\":{\"colorbar\":{\"outlinewidth\":0,\"ticks\":\"\"}},\"type\":\"scattermapbox\"}],\"scatterpolar\":[{\"marker\":{\"colorbar\":{\"outlinewidth\":0,\"ticks\":\"\"}},\"type\":\"scatterpolar\"}],\"scatterpolargl\":[{\"marker\":{\"colorbar\":{\"outlinewidth\":0,\"ticks\":\"\"}},\"type\":\"scatterpolargl\"}],\"scatterternary\":[{\"marker\":{\"colorbar\":{\"outlinewidth\":0,\"ticks\":\"\"}},\"type\":\"scatterternary\"}],\"surface\":[{\"colorbar\":{\"outlinewidth\":0,\"ticks\":\"\"},\"colorscale\":[[0.0,\"#0d0887\"],[0.1111111111111111,\"#46039f\"],[0.2222222222222222,\"#7201a8\"],[0.3333333333333333,\"#9c179e\"],[0.4444444444444444,\"#bd3786\"],[0.5555555555555556,\"#d8576b\"],[0.6666666666666666,\"#ed7953\"],[0.7777777777777778,\"#fb9f3a\"],[0.8888888888888888,\"#fdca26\"],[1.0,\"#f0f921\"]],\"type\":\"surface\"}],\"table\":[{\"cells\":{\"fill\":{\"color\":\"#EBF0F8\"},\"line\":{\"color\":\"white\"}},\"header\":{\"fill\":{\"color\":\"#C8D4E3\"},\"line\":{\"color\":\"white\"}},\"type\":\"table\"}]},\"layout\":{\"annotationdefaults\":{\"arrowcolor\":\"#2a3f5f\",\"arrowhead\":0,\"arrowwidth\":1},\"autotypenumbers\":\"strict\",\"coloraxis\":{\"colorbar\":{\"outlinewidth\":0,\"ticks\":\"\"}},\"colorscale\":{\"diverging\":[[0,\"#8e0152\"],[0.1,\"#c51b7d\"],[0.2,\"#de77ae\"],[0.3,\"#f1b6da\"],[0.4,\"#fde0ef\"],[0.5,\"#f7f7f7\"],[0.6,\"#e6f5d0\"],[0.7,\"#b8e186\"],[0.8,\"#7fbc41\"],[0.9,\"#4d9221\"],[1,\"#276419\"]],\"sequential\":[[0.0,\"#0d0887\"],[0.1111111111111111,\"#46039f\"],[0.2222222222222222,\"#7201a8\"],[0.3333333333333333,\"#9c179e\"],[0.4444444444444444,\"#bd3786\"],[0.5555555555555556,\"#d8576b\"],[0.6666666666666666,\"#ed7953\"],[0.7777777777777778,\"#fb9f3a\"],[0.8888888888888888,\"#fdca26\"],[1.0,\"#f0f921\"]],\"sequentialminus\":[[0.0,\"#0d0887\"],[0.1111111111111111,\"#46039f\"],[0.2222222222222222,\"#7201a8\"],[0.3333333333333333,\"#9c179e\"],[0.4444444444444444,\"#bd3786\"],[0.5555555555555556,\"#d8576b\"],[0.6666666666666666,\"#ed7953\"],[0.7777777777777778,\"#fb9f3a\"],[0.8888888888888888,\"#fdca26\"],[1.0,\"#f0f921\"]]},\"colorway\":[\"#636efa\",\"#EF553B\",\"#00cc96\",\"#ab63fa\",\"#FFA15A\",\"#19d3f3\",\"#FF6692\",\"#B6E880\",\"#FF97FF\",\"#FECB52\"],\"font\":{\"color\":\"#2a3f5f\"},\"geo\":{\"bgcolor\":\"white\",\"lakecolor\":\"white\",\"landcolor\":\"#E5ECF6\",\"showlakes\":true,\"showland\":true,\"subunitcolor\":\"white\"},\"hoverlabel\":{\"align\":\"left\"},\"hovermode\":\"closest\",\"mapbox\":{\"style\":\"light\"},\"paper_bgcolor\":\"white\",\"plot_bgcolor\":\"#E5ECF6\",\"polar\":{\"angularaxis\":{\"gridcolor\":\"white\",\"linecolor\":\"white\",\"ticks\":\"\"},\"bgcolor\":\"#E5ECF6\",\"radialaxis\":{\"gridcolor\":\"white\",\"linecolor\":\"white\",\"ticks\":\"\"}},\"scene\":{\"xaxis\":{\"backgroundcolor\":\"#E5ECF6\",\"gridcolor\":\"white\",\"gridwidth\":2,\"linecolor\":\"white\",\"showbackground\":true,\"ticks\":\"\",\"zerolinecolor\":\"white\"},\"yaxis\":{\"backgroundcolor\":\"#E5ECF6\",\"gridcolor\":\"white\",\"gridwidth\":2,\"linecolor\":\"white\",\"showbackground\":true,\"ticks\":\"\",\"zerolinecolor\":\"white\"},\"zaxis\":{\"backgroundcolor\":\"#E5ECF6\",\"gridcolor\":\"white\",\"gridwidth\":2,\"linecolor\":\"white\",\"showbackground\":true,\"ticks\":\"\",\"zerolinecolor\":\"white\"}},\"shapedefaults\":{\"line\":{\"color\":\"#2a3f5f\"}},\"ternary\":{\"aaxis\":{\"gridcolor\":\"white\",\"linecolor\":\"white\",\"ticks\":\"\"},\"baxis\":{\"gridcolor\":\"white\",\"linecolor\":\"white\",\"ticks\":\"\"},\"bgcolor\":\"#E5ECF6\",\"caxis\":{\"gridcolor\":\"white\",\"linecolor\":\"white\",\"ticks\":\"\"}},\"title\":{\"x\":0.05},\"xaxis\":{\"automargin\":true,\"gridcolor\":\"white\",\"linecolor\":\"white\",\"ticks\":\"\",\"title\":{\"standoff\":15},\"zerolinecolor\":\"white\",\"zerolinewidth\":2},\"yaxis\":{\"automargin\":true,\"gridcolor\":\"white\",\"linecolor\":\"white\",\"ticks\":\"\",\"title\":{\"standoff\":15},\"zerolinecolor\":\"white\",\"zerolinewidth\":2}}},\"width\":800,\"xaxis\":{\"anchor\":\"y\",\"domain\":[0.0,1.0],\"dtick\":10800000,\"tickformat\":\"%H\\n%e.%b\"},\"xaxis2\":{\"anchor\":\"y2\",\"domain\":[0.0,1.0],\"dtick\":10800000,\"tickformat\":\"%H\\n%e.%b\"},\"xaxis3\":{\"anchor\":\"y3\",\"domain\":[0.0,1.0],\"dtick\":10800000,\"tickformat\":\"%H\\n%e.%b\"},\"yaxis\":{\"anchor\":\"x\",\"domain\":[0.7777777777777778,1.0]},\"yaxis2\":{\"anchor\":\"x2\",\"domain\":[0.3888888888888889,0.6111111111111112]},\"yaxis3\":{\"anchor\":\"x3\",\"domain\":[0.0,0.22222222222222224]}},\"margin\":[5,5,5,5],\"name\":\"Hourly\",\"viewport\":{\"xaxis.range\":[\"2022-09-05 21:00\",\"2022-09-07 20:00\"],\"xaxis2.range\":[\"2022-09-05 21:00\",\"2022-09-07 20:00\"],\"xaxis3.range\":[\"2022-09-05 21:00\",\"2022-09-07 20:00\"],\"yaxis.range\":[26.11111111111111,103.88888888888889],\"yaxis2.range\":[1016.6111111111111,1024.388888888889],\"yaxis3.range\":[11.055,22.955]},\"viewport_update_throttle\":200},\"id\":\"2058\",\"type\":\"panel.models.plotly.PlotlyPlot\"},{\"attributes\":{},\"id\":\"2064\",\"type\":\"UnionRenderers\"},{\"attributes\":{},\"id\":\"2063\",\"type\":\"Selection\"},{\"attributes\":{},\"id\":\"2065\",\"type\":\"Selection\"},{\"attributes\":{},\"id\":\"2067\",\"type\":\"Selection\"},{\"attributes\":{\"margin\":[0,0,0,0],\"tabs\":[{\"id\":\"2059\"},{\"id\":\"2061\"}]},\"id\":\"2053\",\"type\":\"panel.models.tabs.Tabs\"},{\"attributes\":{\"data\":{\"x\":[[\"2022-09-05 21:00:00\",\"2022-09-05 22:00:00\",\"2022-09-05 23:00:00\",\"2022-09-06 00:00:00\",\"2022-09-06 01:00:00\",\"2022-09-06 02:00:00\",\"2022-09-06 03:00:00\",\"2022-09-06 04:00:00\",\"2022-09-06 05:00:00\",\"2022-09-06 06:00:00\",\"2022-09-06 07:00:00\",\"2022-09-06 08:00:00\",\"2022-09-06 09:00:00\",\"2022-09-06 10:00:00\",\"2022-09-06 11:00:00\",\"2022-09-06 12:00:00\",\"2022-09-06 13:00:00\",\"2022-09-06 14:00:00\",\"2022-09-06 15:00:00\",\"2022-09-06 16:00:00\",\"2022-09-06 17:00:00\",\"2022-09-06 18:00:00\",\"2022-09-06 19:00:00\",\"2022-09-06 20:00:00\",\"2022-09-06 21:00:00\",\"2022-09-06 22:00:00\",\"2022-09-06 23:00:00\",\"2022-09-07 00:00:00\",\"2022-09-07 01:00:00\",\"2022-09-07 02:00:00\",\"2022-09-07 03:00:00\",\"2022-09-07 04:00:00\",\"2022-09-07 05:00:00\",\"2022-09-07 06:00:00\",\"2022-09-07 07:00:00\",\"2022-09-07 08:00:00\",\"2022-09-07 09:00:00\",\"2022-09-07 10:00:00\",\"2022-09-07 11:00:00\",\"2022-09-07 12:00:00\",\"2022-09-07 13:00:00\",\"2022-09-07 14:00:00\",\"2022-09-07 15:00:00\",\"2022-09-07 16:00:00\",\"2022-09-07 17:00:00\",\"2022-09-07 18:00:00\",\"2022-09-07 19:00:00\",\"2022-09-07 20:00:00\"]],\"y\":[[1024,1024,1024,1024,1024,1024,1024,1024,1024,1023,1023,1023,1023,1023,1023,1023,1022,1022,1021,1021,1021,1021,1021,1022,1022,1021,1021,1021,1021,1020,1020,1020,1019,1019,1019,1019,1019,1019,1019,1019,1019,1018,1018,1017,1017,1017,1017,1018]]},\"selected\":{\"id\":\"2065\"},\"selection_policy\":{\"id\":\"2064\"}},\"id\":\"2056\",\"type\":\"ColumnDataSource\"},{\"attributes\":{\"children\":[{\"id\":\"2058\"}],\"margin\":[0,0,0,0],\"name\":\"Hourly\"},\"id\":\"2054\",\"type\":\"Row\"},{\"attributes\":{},\"id\":\"2062\",\"type\":\"UnionRenderers\"},{\"attributes\":{\"data\":{\"x\":[[\"2022-09-05 21:00:00\",\"2022-09-05 22:00:00\",\"2022-09-05 23:00:00\",\"2022-09-06 00:00:00\",\"2022-09-06 01:00:00\",\"2022-09-06 02:00:00\",\"2022-09-06 03:00:00\",\"2022-09-06 04:00:00\",\"2022-09-06 05:00:00\",\"2022-09-06 06:00:00\",\"2022-09-06 07:00:00\",\"2022-09-06 08:00:00\",\"2022-09-06 09:00:00\",\"2022-09-06 10:00:00\",\"2022-09-06 11:00:00\",\"2022-09-06 12:00:00\",\"2022-09-06 13:00:00\",\"2022-09-06 14:00:00\",\"2022-09-06 15:00:00\",\"2022-09-06 16:00:00\",\"2022-09-06 17:00:00\",\"2022-09-06 18:00:00\",\"2022-09-06 19:00:00\",\"2022-09-06 20:00:00\",\"2022-09-06 21:00:00\",\"2022-09-06 22:00:00\",\"2022-09-06 23:00:00\",\"2022-09-07 00:00:00\",\"2022-09-07 01:00:00\",\"2022-09-07 02:00:00\",\"2022-09-07 03:00:00\",\"2022-09-07 04:00:00\",\"2022-09-07 05:00:00\",\"2022-09-07 06:00:00\",\"2022-09-07 07:00:00\",\"2022-09-07 08:00:00\",\"2022-09-07 09:00:00\",\"2022-09-07 10:00:00\",\"2022-09-07 11:00:00\",\"2022-09-07 12:00:00\",\"2022-09-07 13:00:00\",\"2022-09-07 14:00:00\",\"2022-09-07 15:00:00\",\"2022-09-07 16:00:00\",\"2022-09-07 17:00:00\",\"2022-09-07 18:00:00\",\"2022-09-07 19:00:00\",\"2022-09-07 20:00:00\"]],\"y\":[[98,98,97,96,93,85,37,35,30,39,50,58,100,100,100,100,99,99,100,100,100,100,100,100,100,100,95,95,91,92,100,99,98,97,98,97,78,75,82,86,87,87,57,47,50,55,62,67]]},\"selected\":{\"id\":\"2063\"},\"selection_policy\":{\"id\":\"2062\"}},\"id\":\"2055\",\"type\":\"ColumnDataSource\"}],\"root_ids\":[\"2053\",\"2080\"]},\"title\":\"Bokeh Application\",\"version\":\"2.4.3\"}};\n",
       "    var render_items = [{\"docid\":\"f6180b25-e4f1-44d4-9b62-c44a2d61822f\",\"root_ids\":[\"2053\"],\"roots\":{\"2053\":\"dfc055c5-ae6f-4a6f-b706-bc28509bedaf\"}}];\n",
       "    root.Bokeh.embed.embed_items_notebook(docs_json, render_items);\n",
       "  }\n",
       "  if (root.Bokeh !== undefined && root.Bokeh.Panel !== undefined && ( root['Plotly'] !== undefined)) {\n",
       "    embed_document(root);\n",
       "  } else {\n",
       "    var attempts = 0;\n",
       "    var timer = setInterval(function(root) {\n",
       "      if (root.Bokeh !== undefined && root.Bokeh.Panel !== undefined && (root['Plotly'] !== undefined)) {\n",
       "        clearInterval(timer);\n",
       "        embed_document(root);\n",
       "      } else if (document.readyState == \"complete\") {\n",
       "        attempts++;\n",
       "        if (attempts > 200) {\n",
       "          clearInterval(timer);\n",
       "          console.log(\"Bokeh: ERROR: Unable to run BokehJS code because BokehJS library is missing\");\n",
       "        }\n",
       "      }\n",
       "    }, 25, root)\n",
       "  }\n",
       "})(window);</script>"
      ],
      "text/plain": [
       "Tabs(dynamic=True)\n",
       "    [0] ParamFunction(function, name='Hourly')\n",
       "    [1] ParamFunction(function, name='Daily')"
      ]
     },
     "execution_count": 16,
     "metadata": {
      "application/vnd.holoviews_exec.v0+json": {
       "id": "2053"
      }
     },
     "output_type": "execute_result"
    }
   ],
   "source": [
    "tabs"
   ]
  },
  {
   "cell_type": "code",
   "execution_count": 17,
   "id": "498ab21b",
   "metadata": {},
   "outputs": [],
   "source": [
    "tabs.param.unwatch(tabs_watcher)"
   ]
  },
  {
   "cell_type": "markdown",
   "id": "bb51b7e0",
   "metadata": {},
   "source": [
    "#### A ešte aby sme nezabudli na aktuálne počasie"
   ]
  },
  {
   "cell_type": "code",
   "execution_count": 18,
   "id": "09fabe7b",
   "metadata": {},
   "outputs": [],
   "source": [
    "@pn.depends(station_choice)\n",
    "def view_current(station_choice):\n",
    "    df = get_weather(station_choice)['current']  # we want only the current weather\n",
    "    float_format_function = lambda s: '%.1f' %s  # or f\"{x:.1}\"\n",
    "    return pn.pane.DataFrame(df, justify='center', width=240, float_format=float_format_function)"
   ]
  },
  {
   "cell_type": "code",
   "execution_count": 19,
   "id": "298db855",
   "metadata": {},
   "outputs": [
    {
     "data": {},
     "metadata": {},
     "output_type": "display_data"
    },
    {
     "data": {
      "application/vnd.holoviews_exec.v0+json": "",
      "text/html": [
       "<div id='2717'>\n",
       "  <div class=\"bk-root\" id=\"c0ac07c2-db40-4544-9822-bb359b3da90d\" data-root-id=\"2717\"></div>\n",
       "</div>\n",
       "<script type=\"application/javascript\">(function(root) {\n",
       "  function embed_document(root) {\n",
       "    var docs_json = {\"690b198d-c5b0-46a6-a355-61991d71d84b\":{\"defs\":[{\"extends\":null,\"module\":null,\"name\":\"ReactiveHTML1\",\"overrides\":[],\"properties\":[]},{\"extends\":null,\"module\":null,\"name\":\"FlexBox1\",\"overrides\":[],\"properties\":[{\"default\":\"flex-start\",\"kind\":null,\"name\":\"align_content\"},{\"default\":\"flex-start\",\"kind\":null,\"name\":\"align_items\"},{\"default\":\"row\",\"kind\":null,\"name\":\"flex_direction\"},{\"default\":\"wrap\",\"kind\":null,\"name\":\"flex_wrap\"},{\"default\":\"flex-start\",\"kind\":null,\"name\":\"justify_content\"}]},{\"extends\":null,\"module\":null,\"name\":\"GridStack1\",\"overrides\":[],\"properties\":[{\"default\":\"warn\",\"kind\":null,\"name\":\"mode\"},{\"default\":null,\"kind\":null,\"name\":\"ncols\"},{\"default\":null,\"kind\":null,\"name\":\"nrows\"},{\"default\":true,\"kind\":null,\"name\":\"allow_resize\"},{\"default\":true,\"kind\":null,\"name\":\"allow_drag\"},{\"default\":[],\"kind\":null,\"name\":\"state\"}]},{\"extends\":null,\"module\":null,\"name\":\"click1\",\"overrides\":[],\"properties\":[{\"default\":\"\",\"kind\":null,\"name\":\"terminal_output\"},{\"default\":\"\",\"kind\":null,\"name\":\"debug_name\"},{\"default\":0,\"kind\":null,\"name\":\"clears\"}]},{\"extends\":null,\"module\":null,\"name\":\"NotificationAreaBase1\",\"overrides\":[],\"properties\":[{\"default\":\"bottom-right\",\"kind\":null,\"name\":\"position\"},{\"default\":0,\"kind\":null,\"name\":\"_clear\"}]},{\"extends\":null,\"module\":null,\"name\":\"NotificationArea1\",\"overrides\":[],\"properties\":[{\"default\":[],\"kind\":null,\"name\":\"notifications\"},{\"default\":\"bottom-right\",\"kind\":null,\"name\":\"position\"},{\"default\":0,\"kind\":null,\"name\":\"_clear\"},{\"default\":[{\"background\":\"#ffc107\",\"icon\":{\"className\":\"fas fa-exclamation-triangle\",\"color\":\"white\",\"tagName\":\"i\"},\"type\":\"warning\"},{\"background\":\"#007bff\",\"icon\":{\"className\":\"fas fa-info-circle\",\"color\":\"white\",\"tagName\":\"i\"},\"type\":\"info\"}],\"kind\":null,\"name\":\"types\"}]},{\"extends\":null,\"module\":null,\"name\":\"Notification\",\"overrides\":[],\"properties\":[{\"default\":null,\"kind\":null,\"name\":\"background\"},{\"default\":3000,\"kind\":null,\"name\":\"duration\"},{\"default\":null,\"kind\":null,\"name\":\"icon\"},{\"default\":\"\",\"kind\":null,\"name\":\"message\"},{\"default\":null,\"kind\":null,\"name\":\"notification_type\"},{\"default\":false,\"kind\":null,\"name\":\"_destroyed\"}]},{\"extends\":null,\"module\":null,\"name\":\"TemplateActions1\",\"overrides\":[],\"properties\":[{\"default\":0,\"kind\":null,\"name\":\"open_modal\"},{\"default\":0,\"kind\":null,\"name\":\"close_modal\"}]},{\"extends\":null,\"module\":null,\"name\":\"MaterialTemplateActions1\",\"overrides\":[],\"properties\":[{\"default\":0,\"kind\":null,\"name\":\"open_modal\"},{\"default\":0,\"kind\":null,\"name\":\"close_modal\"}]}],\"roots\":{\"references\":[{\"attributes\":{\"children\":[{\"id\":\"2718\"},{\"id\":\"2721\"}],\"margin\":[0,0,0,0],\"name\":\"Column00205\"},\"id\":\"2717\",\"type\":\"Column\"},{\"attributes\":{\"client_comm_id\":\"d2cc4ac9289d4fa5bedec4b5c808573a\",\"comm_id\":\"70fce8f88d2f4fa2ac9cc613e41fd849\",\"plot_id\":\"2717\"},\"id\":\"2723\",\"type\":\"panel.models.comm_manager.CommManager\"},{\"attributes\":{\"active\":[0,4,5],\"labels\":[\"clouds\",\"rain\",\"wind_speed\",\"humidity\",\"pressure\",\"temp\"],\"margin\":[5,10,5,10],\"min_width\":200,\"width\":200},\"id\":\"2720\",\"type\":\"CheckboxGroup\"},{\"attributes\":{\"children\":[{\"id\":\"2719\"},{\"id\":\"2720\"}],\"margin\":[0,0,0,0],\"name\":\"Column00103\"},\"id\":\"2718\",\"type\":\"Column\"},{\"attributes\":{\"margin\":[5,10,5,10],\"min_width\":200,\"options\":[\"Bansk\\u00e1 Bystrica\",\"Bansk\\u00e1 \\u0160tiavnica\",\"Bardejov\",\"Ba\\u0161ovce\",\"Bojnice\",\"Bo\\u013ekovce\",\"Bratislava\",\"Brezno\",\"Brezno - Zadn\\u00e9 Halny\",\"Brezov\\u00e1 pod Bradlom\",\"Byt\\u010da\",\"B\\u00e1novce nad Bebravou\",\"Chlmec\",\"Detva\",\"Dob\\u0161in\\u00e1\",\"Doln\\u00fd Kub\\u00edn\",\"Dubnica nad V\\u00e1hom\",\"Dunajsk\\u00e1 Streda\",\"D\\u00fabravka\",\"Fi\\u013eakovo\",\"Galanta\",\"Gbely\",\"Gelnica\",\"Gemersk\\u00e1 H\\u00f4rka\",\"Giraltovce\",\"Handlov\\u00e1\",\"Hlohovec\",\"Hn\\u00fa\\u0161\\u0165a\",\"Hody\",\"Hol\\u00ed\\u010d\",\"Hontianska Vrbica\",\"Hri\\u0148ov\\u00e1\",\"Humenn\\u00e9\",\"Hurbanovo\",\"Hybe\",\"Ilava\",\"Istebn\\u00edk\",\"Kamenica nad Cirochou\",\"Ke\\u017emarok\",\"Kol\\u00e1rovo\",\"Kom\\u00e1rno\",\"Kote\\u0161ov\\u00e1\",\"Ko\\u0161ice\",\"Kremnica\",\"Krompachy\",\"Krupina\",\"Kysuck\\u00e9 Nov\\u00e9 Mesto\",\"Leopoldov\",\"Levice\",\"Levo\\u010da\",\"Likavka\",\"Lipany\",\"Liptovsk\\u00fd Hr\\u00e1dok\",\"Liptovsk\\u00fd Mikul\\u00e1\\u0161\",\"Lovce\",\"Lu\\u010denec\",\"Malacky\",\"Martin\",\"Medzev\",\"Medzilaborce\",\"Michalovce\",\"Modra nad Cirochou\",\"Moldava nad Bodvou\",\"Most pri Bratislave\",\"Myjava\",\"Nem\\u0161ov\\u00e1\",\"Nitra\",\"Ni\\u017en\\u00e9 Nemeck\\u00e9\",\"Nov\\u00e1 Ba\\u0148a\",\"Nov\\u00e1 Dubnica\",\"Nov\\u00e1 Lesn\\u00e1\",\"Nov\\u00e1ky\",\"Nov\\u00e9 Mesto nad V\\u00e1hom\",\"Nov\\u00e9 Z\\u00e1mky\",\"N\\u00e1mestovo\",\"Oravsk\\u00e1 Lesn\\u00e1\",\"Pal\\u00fadzka\",\"Partiz\\u00e1nske\",\"Pezinok\",\"Pie\\u0161\\u0165any\",\"Podol\\u00ednec\",\"Polt\\u00e1r\",\"Poprad\",\"Pova\\u017esk\\u00e1 Bystrica\",\"Po\\u013en\\u00fd Kesov\",\"Pre\\u0161ov\",\"Pribylina\",\"Prievidza\",\"P\\u00fachov\",\"Rajec\",\"Rev\\u00faca\",\"Rimavsk\\u00e1 Sobota\",\"Ro\\u017e\\u0148ava\",\"Ro\\u017e\\u0148ov\\u00e9 Mitice\",\"Ru\\u017eindol\",\"Ru\\u017eomberok\",\"Sabinov\",\"Senec\",\"Senica\",\"Se\\u010dovce\",\"Skalica\",\"Sl\\u00e1dkovi\\u010dovo\",\"Smolenice\",\"Snina\",\"Sobrance\",\"Solo\\u0161nica\",\"Spi\\u0161sk\\u00e1 Bel\\u00e1\",\"Spi\\u0161sk\\u00e1 Nov\\u00e1 Ves\",\"Spi\\u0161sk\\u00e9 Podhradie\",\"Star\\u00e1 Tur\\u00e1\",\"Star\\u00e1 \\u013dubov\\u0148a\",\"Stropkov\",\"Str\\u00e1\\u0148any\",\"Str\\u00e1\\u017eske\",\"Stupava\",\"Svidn\\u00edk\",\"Svit\",\"Svod\\u00edn\",\"Sv\\u00e4t\\u00fd Jur\",\"Tisovec\",\"Tlma\\u010de\",\"Topo\\u013e\\u010dany\",\"Trebi\\u0161ov\",\"Tren\\u010dianske Teplice\",\"Tren\\u010d\\u00edn\",\"Trnava\",\"Trsten\\u00e1\",\"Turzovka\",\"Tur\\u010dianske Teplice\",\"Tvrdo\\u0161\\u00edn\",\"Ve\\u013ek\\u00fd Bysterec\",\"Ve\\u013ek\\u00fd Meder\",\"Vinn\\u00e9\",\"Vranov nad Top\\u013eou\",\"Vrbov\\u00e9\",\"Vr\\u00e1ble\",\"Vr\\u00fatky\",\"Vysok\\u00e9 Tatry\",\"Vysok\\u00e9 Tatry - Nov\\u00fd Smokovec\",\"Vy\\u0161n\\u00e9 Ru\\u017ebachy\",\"Zlat\\u00e9 Moravce\",\"Zliechov\",\"Zvolen\",\"Z\\u00e1vodie\",\"\\u010cachtice\",\"\\u010cadca\",\"\\u010cierna nad Tisou\",\"\\u013dubica\",\"\\u0160ahy\",\"\\u0160amor\\u00edn\",\"\\u0160a\\u013ea\",\"\\u0160trba\",\"\\u0160t\\u00farovo\",\"\\u0160urany\",\"\\u017darnovica\",\"\\u017ddiar\",\"\\u017deliezovce\",\"\\u017diar nad Hronom\",\"\\u017dilina\"],\"title\":\"Select a station\",\"value\":\"Dob\\u0161in\\u00e1\",\"width\":200},\"id\":\"2719\",\"type\":\"panel.models.widgets.CustomSelect\"},{\"attributes\":{\"margin\":[5,5,5,5],\"name\":\"DataFrame00203\",\"text\":\"&lt;table border=&quot;0&quot; class=&quot;dataframe panel-df&quot;&gt;\\n  &lt;thead&gt;\\n    &lt;tr style=&quot;text-align: center;&quot;&gt;\\n      &lt;th&gt;&lt;/th&gt;\\n      &lt;th&gt;Aktu\\u00e1lne po\\u010dasie&lt;/th&gt;\\n    &lt;/tr&gt;\\n  &lt;/thead&gt;\\n  &lt;tbody&gt;\\n    &lt;tr&gt;\\n      &lt;th&gt;clouds&lt;/th&gt;\\n      &lt;td&gt;98&lt;/td&gt;\\n    &lt;/tr&gt;\\n    &lt;tr&gt;\\n      &lt;th&gt;rain&lt;/th&gt;\\n      &lt;td&gt;0&lt;/td&gt;\\n    &lt;/tr&gt;\\n    &lt;tr&gt;\\n      &lt;th&gt;wind_speed&lt;/th&gt;\\n      &lt;td&gt;1.2&lt;/td&gt;\\n    &lt;/tr&gt;\\n    &lt;tr&gt;\\n      &lt;th&gt;humidity&lt;/th&gt;\\n      &lt;td&gt;71&lt;/td&gt;\\n    &lt;/tr&gt;\\n    &lt;tr&gt;\\n      &lt;th&gt;pressure&lt;/th&gt;\\n      &lt;td&gt;1024&lt;/td&gt;\\n    &lt;/tr&gt;\\n    &lt;tr&gt;\\n      &lt;th&gt;temp&lt;/th&gt;\\n      &lt;td&gt;15.5&lt;/td&gt;\\n    &lt;/tr&gt;\\n    &lt;tr&gt;\\n      &lt;th&gt;time&lt;/th&gt;\\n      &lt;td&gt;5.Sep 21:52&lt;/td&gt;\\n    &lt;/tr&gt;\\n  &lt;/tbody&gt;\\n&lt;/table&gt;\",\"width\":240},\"id\":\"2722\",\"type\":\"panel.models.markup.HTML\"},{\"attributes\":{\"children\":[{\"id\":\"2722\"}],\"margin\":[0,0,0,0],\"name\":\"Row00202\"},\"id\":\"2721\",\"type\":\"Row\"}],\"root_ids\":[\"2717\",\"2723\"]},\"title\":\"Bokeh Application\",\"version\":\"2.4.3\"}};\n",
       "    var render_items = [{\"docid\":\"690b198d-c5b0-46a6-a355-61991d71d84b\",\"root_ids\":[\"2717\"],\"roots\":{\"2717\":\"c0ac07c2-db40-4544-9822-bb359b3da90d\"}}];\n",
       "    root.Bokeh.embed.embed_items_notebook(docs_json, render_items);\n",
       "  }\n",
       "  if (root.Bokeh !== undefined && root.Bokeh.Panel !== undefined && ( root['Plotly'] !== undefined)) {\n",
       "    embed_document(root);\n",
       "  } else {\n",
       "    var attempts = 0;\n",
       "    var timer = setInterval(function(root) {\n",
       "      if (root.Bokeh !== undefined && root.Bokeh.Panel !== undefined && (root['Plotly'] !== undefined)) {\n",
       "        clearInterval(timer);\n",
       "        embed_document(root);\n",
       "      } else if (document.readyState == \"complete\") {\n",
       "        attempts++;\n",
       "        if (attempts > 200) {\n",
       "          clearInterval(timer);\n",
       "          console.log(\"Bokeh: ERROR: Unable to run BokehJS code because BokehJS library is missing\");\n",
       "        }\n",
       "      }\n",
       "    }, 25, root)\n",
       "  }\n",
       "})(window);</script>"
      ],
      "text/plain": [
       "Column\n",
       "    [0] Column\n",
       "        [0] Select(options=['Banská Bystrica', ...], value='Dobšiná', width=200)\n",
       "        [1] CheckBoxGroup(options=['clouds', 'rain', ...], value=['clouds', 'pressure', ...], width=200)\n",
       "    [1] ParamFunction(function)"
      ]
     },
     "execution_count": 19,
     "metadata": {
      "application/vnd.holoviews_exec.v0+json": {
       "id": "2717"
      }
     },
     "output_type": "execute_result"
    }
   ],
   "source": [
    "widgets = pn.Column(m_options, view_current)\n",
    "widgets"
   ]
  },
  {
   "cell_type": "markdown",
   "id": "c32042ad",
   "metadata": {},
   "source": [
    "#### A nakoniec to spojiť dokopy"
   ]
  },
  {
   "cell_type": "code",
   "execution_count": 20,
   "id": "187b0942",
   "metadata": {},
   "outputs": [
    {
     "data": {},
     "metadata": {},
     "output_type": "display_data"
    },
    {
     "data": {
      "application/vnd.holoviews_exec.v0+json": "",
      "text/html": [
       "<div id='2844'>\n",
       "  <div class=\"bk-root\" id=\"b06f84c3-593d-4646-9474-93792dc74cb1\" data-root-id=\"2844\"></div>\n",
       "</div>\n",
       "<script type=\"application/javascript\">(function(root) {\n",
       "  function embed_document(root) {\n",
       "    var docs_json = {\"6dfc3e6d-84c5-456e-82de-06437bc97aa7\":{\"defs\":[{\"extends\":null,\"module\":null,\"name\":\"ReactiveHTML1\",\"overrides\":[],\"properties\":[]},{\"extends\":null,\"module\":null,\"name\":\"FlexBox1\",\"overrides\":[],\"properties\":[{\"default\":\"flex-start\",\"kind\":null,\"name\":\"align_content\"},{\"default\":\"flex-start\",\"kind\":null,\"name\":\"align_items\"},{\"default\":\"row\",\"kind\":null,\"name\":\"flex_direction\"},{\"default\":\"wrap\",\"kind\":null,\"name\":\"flex_wrap\"},{\"default\":\"flex-start\",\"kind\":null,\"name\":\"justify_content\"}]},{\"extends\":null,\"module\":null,\"name\":\"GridStack1\",\"overrides\":[],\"properties\":[{\"default\":\"warn\",\"kind\":null,\"name\":\"mode\"},{\"default\":null,\"kind\":null,\"name\":\"ncols\"},{\"default\":null,\"kind\":null,\"name\":\"nrows\"},{\"default\":true,\"kind\":null,\"name\":\"allow_resize\"},{\"default\":true,\"kind\":null,\"name\":\"allow_drag\"},{\"default\":[],\"kind\":null,\"name\":\"state\"}]},{\"extends\":null,\"module\":null,\"name\":\"click1\",\"overrides\":[],\"properties\":[{\"default\":\"\",\"kind\":null,\"name\":\"terminal_output\"},{\"default\":\"\",\"kind\":null,\"name\":\"debug_name\"},{\"default\":0,\"kind\":null,\"name\":\"clears\"}]},{\"extends\":null,\"module\":null,\"name\":\"NotificationAreaBase1\",\"overrides\":[],\"properties\":[{\"default\":\"bottom-right\",\"kind\":null,\"name\":\"position\"},{\"default\":0,\"kind\":null,\"name\":\"_clear\"}]},{\"extends\":null,\"module\":null,\"name\":\"NotificationArea1\",\"overrides\":[],\"properties\":[{\"default\":[],\"kind\":null,\"name\":\"notifications\"},{\"default\":\"bottom-right\",\"kind\":null,\"name\":\"position\"},{\"default\":0,\"kind\":null,\"name\":\"_clear\"},{\"default\":[{\"background\":\"#ffc107\",\"icon\":{\"className\":\"fas fa-exclamation-triangle\",\"color\":\"white\",\"tagName\":\"i\"},\"type\":\"warning\"},{\"background\":\"#007bff\",\"icon\":{\"className\":\"fas fa-info-circle\",\"color\":\"white\",\"tagName\":\"i\"},\"type\":\"info\"}],\"kind\":null,\"name\":\"types\"}]},{\"extends\":null,\"module\":null,\"name\":\"Notification\",\"overrides\":[],\"properties\":[{\"default\":null,\"kind\":null,\"name\":\"background\"},{\"default\":3000,\"kind\":null,\"name\":\"duration\"},{\"default\":null,\"kind\":null,\"name\":\"icon\"},{\"default\":\"\",\"kind\":null,\"name\":\"message\"},{\"default\":null,\"kind\":null,\"name\":\"notification_type\"},{\"default\":false,\"kind\":null,\"name\":\"_destroyed\"}]},{\"extends\":null,\"module\":null,\"name\":\"TemplateActions1\",\"overrides\":[],\"properties\":[{\"default\":0,\"kind\":null,\"name\":\"open_modal\"},{\"default\":0,\"kind\":null,\"name\":\"close_modal\"}]},{\"extends\":null,\"module\":null,\"name\":\"MaterialTemplateActions1\",\"overrides\":[],\"properties\":[{\"default\":0,\"kind\":null,\"name\":\"open_modal\"},{\"default\":0,\"kind\":null,\"name\":\"close_modal\"}]}],\"roots\":{\"references\":[{\"attributes\":{\"data\":{\"x\":[[\"2022-09-05 22:00:00\",\"2022-09-05 23:00:00\",\"2022-09-06 00:00:00\",\"2022-09-06 01:00:00\",\"2022-09-06 02:00:00\",\"2022-09-06 03:00:00\",\"2022-09-06 04:00:00\",\"2022-09-06 05:00:00\",\"2022-09-06 06:00:00\",\"2022-09-06 07:00:00\",\"2022-09-06 08:00:00\",\"2022-09-06 09:00:00\",\"2022-09-06 10:00:00\",\"2022-09-06 11:00:00\",\"2022-09-06 12:00:00\",\"2022-09-06 13:00:00\",\"2022-09-06 14:00:00\",\"2022-09-06 15:00:00\",\"2022-09-06 16:00:00\",\"2022-09-06 17:00:00\",\"2022-09-06 18:00:00\",\"2022-09-06 19:00:00\",\"2022-09-06 20:00:00\",\"2022-09-06 21:00:00\",\"2022-09-06 22:00:00\",\"2022-09-06 23:00:00\",\"2022-09-07 00:00:00\",\"2022-09-07 01:00:00\",\"2022-09-07 02:00:00\",\"2022-09-07 03:00:00\",\"2022-09-07 04:00:00\",\"2022-09-07 05:00:00\",\"2022-09-07 06:00:00\",\"2022-09-07 07:00:00\",\"2022-09-07 08:00:00\",\"2022-09-07 09:00:00\",\"2022-09-07 10:00:00\",\"2022-09-07 11:00:00\",\"2022-09-07 12:00:00\",\"2022-09-07 13:00:00\",\"2022-09-07 14:00:00\",\"2022-09-07 15:00:00\",\"2022-09-07 16:00:00\",\"2022-09-07 17:00:00\",\"2022-09-07 18:00:00\",\"2022-09-07 19:00:00\",\"2022-09-07 20:00:00\",\"2022-09-07 21:00:00\"]],\"y\":[{\"__ndarray__\":\"mpmZmZkZL0CuR+F6FC4vQFyPwvUoXC5ASOF6FK5HLUCF61G4HgUsQClcj8L1qCpAH4XrUbgeKkCuR+F6FK4pQOF6FK5HYSlArkfhehQuK0AzMzMzM3MwQHE9CtejcDJA16NwPQoXM0BxPQrXo7A0QNejcD0KFzdAH4XrUbheN0Bcj8L1KNw2QClcj8L1KDZAhetRuB6FNkB7FK5H4To1QHE9CtejsDNAAAAAAACAMkAUrkfhepQxQHE9CtejMDFA16NwPQrXMEBcj8L1KJwwQDMzMzMzczBAhetRuB4FMEA9CtejcD0vQPYoXI/C9S1A16NwPQrXLEA9CtejcD0rQBSuR+F6lCpAw/UoXI9CLUD2KFyPwnUwQClcj8L1KDFA16NwPQqXMkBmZmZmZmY1QIXrUbgexTZAZmZmZmZmN0DXo3A9Chc5QLgehetReDlACtejcD0KOUBcj8L1KBw4QLgehetReDZAhetRuB7FM0AzMzMzM3MyQArXo3A9ijFA\",\"dtype\":\"float64\",\"order\":\"little\",\"shape\":[48]}]},\"selected\":{\"id\":\"2865\"},\"selection_policy\":{\"id\":\"2864\"}},\"id\":\"2855\",\"type\":\"ColumnDataSource\"},{\"attributes\":{\"data\":{\"x\":[[\"2022-09-05 22:00:00\",\"2022-09-05 23:00:00\",\"2022-09-06 00:00:00\",\"2022-09-06 01:00:00\",\"2022-09-06 02:00:00\",\"2022-09-06 03:00:00\",\"2022-09-06 04:00:00\",\"2022-09-06 05:00:00\",\"2022-09-06 06:00:00\",\"2022-09-06 07:00:00\",\"2022-09-06 08:00:00\",\"2022-09-06 09:00:00\",\"2022-09-06 10:00:00\",\"2022-09-06 11:00:00\",\"2022-09-06 12:00:00\",\"2022-09-06 13:00:00\",\"2022-09-06 14:00:00\",\"2022-09-06 15:00:00\",\"2022-09-06 16:00:00\",\"2022-09-06 17:00:00\",\"2022-09-06 18:00:00\",\"2022-09-06 19:00:00\",\"2022-09-06 20:00:00\",\"2022-09-06 21:00:00\",\"2022-09-06 22:00:00\",\"2022-09-06 23:00:00\",\"2022-09-07 00:00:00\",\"2022-09-07 01:00:00\",\"2022-09-07 02:00:00\",\"2022-09-07 03:00:00\",\"2022-09-07 04:00:00\",\"2022-09-07 05:00:00\",\"2022-09-07 06:00:00\",\"2022-09-07 07:00:00\",\"2022-09-07 08:00:00\",\"2022-09-07 09:00:00\",\"2022-09-07 10:00:00\",\"2022-09-07 11:00:00\",\"2022-09-07 12:00:00\",\"2022-09-07 13:00:00\",\"2022-09-07 14:00:00\",\"2022-09-07 15:00:00\",\"2022-09-07 16:00:00\",\"2022-09-07 17:00:00\",\"2022-09-07 18:00:00\",\"2022-09-07 19:00:00\",\"2022-09-07 20:00:00\",\"2022-09-07 21:00:00\"]],\"y\":[[1023,1023,1023,1023,1023,1023,1023,1023,1023,1022,1022,1022,1022,1022,1021,1020,1020,1020,1019,1019,1019,1019,1019,1019,1019,1019,1019,1019,1019,1019,1019,1018,1018,1018,1018,1018,1018,1018,1018,1018,1017,1016,1016,1016,1016,1016,1016,1016]]},\"selected\":{\"id\":\"2863\"},\"selection_policy\":{\"id\":\"2862\"}},\"id\":\"2854\",\"type\":\"ColumnDataSource\"},{\"attributes\":{},\"id\":\"2865\",\"type\":\"Selection\"},{\"attributes\":{\"active\":[0,4,5],\"labels\":[\"clouds\",\"rain\",\"wind_speed\",\"humidity\",\"pressure\",\"temp\"],\"margin\":[5,10,5,10],\"min_width\":200,\"width\":200},\"id\":\"2848\",\"type\":\"CheckboxGroup\"},{\"attributes\":{},\"id\":\"2864\",\"type\":\"UnionRenderers\"},{\"attributes\":{},\"id\":\"2863\",\"type\":\"Selection\"},{\"attributes\":{\"children\":[{\"id\":\"2850\"}],\"margin\":[0,0,0,0],\"name\":\"Row00202\"},\"id\":\"2849\",\"type\":\"Row\"},{\"attributes\":{\"data\":[{\"marker\":{\"color\":\"green\"},\"name\":\"clouds\",\"type\":\"scatter\",\"xaxis\":\"x\",\"yaxis\":\"y\"},{\"marker\":{\"color\":\"darkgray\"},\"name\":\"pressure\",\"type\":\"scatter\",\"xaxis\":\"x2\",\"yaxis\":\"y2\"},{\"marker\":{\"color\":\"red\"},\"name\":\"temp\",\"type\":\"scatter\",\"xaxis\":\"x3\",\"yaxis\":\"y3\"}],\"data_sources\":[{\"id\":\"2853\"},{\"id\":\"2854\"},{\"id\":\"2855\"}],\"layout\":{\"annotations\":[{\"font\":{\"size\":16},\"showarrow\":false,\"text\":\"clouds\",\"x\":0.5,\"xanchor\":\"center\",\"xref\":\"paper\",\"y\":1.0,\"yanchor\":\"bottom\",\"yref\":\"paper\"},{\"font\":{\"size\":16},\"showarrow\":false,\"text\":\"pressure\",\"x\":0.5,\"xanchor\":\"center\",\"xref\":\"paper\",\"y\":0.6111111111111112,\"yanchor\":\"bottom\",\"yref\":\"paper\"},{\"font\":{\"size\":16},\"showarrow\":false,\"text\":\"temp\",\"x\":0.5,\"xanchor\":\"center\",\"xref\":\"paper\",\"y\":0.22222222222222224,\"yanchor\":\"bottom\",\"yref\":\"paper\"}],\"height\":750,\"showlegend\":false,\"template\":{\"data\":{\"bar\":[{\"error_x\":{\"color\":\"#2a3f5f\"},\"error_y\":{\"color\":\"#2a3f5f\"},\"marker\":{\"line\":{\"color\":\"#E5ECF6\",\"width\":0.5},\"pattern\":{\"fillmode\":\"overlay\",\"size\":10,\"solidity\":0.2}},\"type\":\"bar\"}],\"barpolar\":[{\"marker\":{\"line\":{\"color\":\"#E5ECF6\",\"width\":0.5},\"pattern\":{\"fillmode\":\"overlay\",\"size\":10,\"solidity\":0.2}},\"type\":\"barpolar\"}],\"carpet\":[{\"aaxis\":{\"endlinecolor\":\"#2a3f5f\",\"gridcolor\":\"white\",\"linecolor\":\"white\",\"minorgridcolor\":\"white\",\"startlinecolor\":\"#2a3f5f\"},\"baxis\":{\"endlinecolor\":\"#2a3f5f\",\"gridcolor\":\"white\",\"linecolor\":\"white\",\"minorgridcolor\":\"white\",\"startlinecolor\":\"#2a3f5f\"},\"type\":\"carpet\"}],\"choropleth\":[{\"colorbar\":{\"outlinewidth\":0,\"ticks\":\"\"},\"type\":\"choropleth\"}],\"contour\":[{\"colorbar\":{\"outlinewidth\":0,\"ticks\":\"\"},\"colorscale\":[[0.0,\"#0d0887\"],[0.1111111111111111,\"#46039f\"],[0.2222222222222222,\"#7201a8\"],[0.3333333333333333,\"#9c179e\"],[0.4444444444444444,\"#bd3786\"],[0.5555555555555556,\"#d8576b\"],[0.6666666666666666,\"#ed7953\"],[0.7777777777777778,\"#fb9f3a\"],[0.8888888888888888,\"#fdca26\"],[1.0,\"#f0f921\"]],\"type\":\"contour\"}],\"contourcarpet\":[{\"colorbar\":{\"outlinewidth\":0,\"ticks\":\"\"},\"type\":\"contourcarpet\"}],\"heatmap\":[{\"colorbar\":{\"outlinewidth\":0,\"ticks\":\"\"},\"colorscale\":[[0.0,\"#0d0887\"],[0.1111111111111111,\"#46039f\"],[0.2222222222222222,\"#7201a8\"],[0.3333333333333333,\"#9c179e\"],[0.4444444444444444,\"#bd3786\"],[0.5555555555555556,\"#d8576b\"],[0.6666666666666666,\"#ed7953\"],[0.7777777777777778,\"#fb9f3a\"],[0.8888888888888888,\"#fdca26\"],[1.0,\"#f0f921\"]],\"type\":\"heatmap\"}],\"heatmapgl\":[{\"colorbar\":{\"outlinewidth\":0,\"ticks\":\"\"},\"colorscale\":[[0.0,\"#0d0887\"],[0.1111111111111111,\"#46039f\"],[0.2222222222222222,\"#7201a8\"],[0.3333333333333333,\"#9c179e\"],[0.4444444444444444,\"#bd3786\"],[0.5555555555555556,\"#d8576b\"],[0.6666666666666666,\"#ed7953\"],[0.7777777777777778,\"#fb9f3a\"],[0.8888888888888888,\"#fdca26\"],[1.0,\"#f0f921\"]],\"type\":\"heatmapgl\"}],\"histogram\":[{\"marker\":{\"pattern\":{\"fillmode\":\"overlay\",\"size\":10,\"solidity\":0.2}},\"type\":\"histogram\"}],\"histogram2d\":[{\"colorbar\":{\"outlinewidth\":0,\"ticks\":\"\"},\"colorscale\":[[0.0,\"#0d0887\"],[0.1111111111111111,\"#46039f\"],[0.2222222222222222,\"#7201a8\"],[0.3333333333333333,\"#9c179e\"],[0.4444444444444444,\"#bd3786\"],[0.5555555555555556,\"#d8576b\"],[0.6666666666666666,\"#ed7953\"],[0.7777777777777778,\"#fb9f3a\"],[0.8888888888888888,\"#fdca26\"],[1.0,\"#f0f921\"]],\"type\":\"histogram2d\"}],\"histogram2dcontour\":[{\"colorbar\":{\"outlinewidth\":0,\"ticks\":\"\"},\"colorscale\":[[0.0,\"#0d0887\"],[0.1111111111111111,\"#46039f\"],[0.2222222222222222,\"#7201a8\"],[0.3333333333333333,\"#9c179e\"],[0.4444444444444444,\"#bd3786\"],[0.5555555555555556,\"#d8576b\"],[0.6666666666666666,\"#ed7953\"],[0.7777777777777778,\"#fb9f3a\"],[0.8888888888888888,\"#fdca26\"],[1.0,\"#f0f921\"]],\"type\":\"histogram2dcontour\"}],\"mesh3d\":[{\"colorbar\":{\"outlinewidth\":0,\"ticks\":\"\"},\"type\":\"mesh3d\"}],\"parcoords\":[{\"line\":{\"colorbar\":{\"outlinewidth\":0,\"ticks\":\"\"}},\"type\":\"parcoords\"}],\"pie\":[{\"automargin\":true,\"type\":\"pie\"}],\"scatter\":[{\"fillpattern\":{\"fillmode\":\"overlay\",\"size\":10,\"solidity\":0.2},\"type\":\"scatter\"}],\"scatter3d\":[{\"line\":{\"colorbar\":{\"outlinewidth\":0,\"ticks\":\"\"}},\"marker\":{\"colorbar\":{\"outlinewidth\":0,\"ticks\":\"\"}},\"type\":\"scatter3d\"}],\"scattercarpet\":[{\"marker\":{\"colorbar\":{\"outlinewidth\":0,\"ticks\":\"\"}},\"type\":\"scattercarpet\"}],\"scattergeo\":[{\"marker\":{\"colorbar\":{\"outlinewidth\":0,\"ticks\":\"\"}},\"type\":\"scattergeo\"}],\"scattergl\":[{\"marker\":{\"colorbar\":{\"outlinewidth\":0,\"ticks\":\"\"}},\"type\":\"scattergl\"}],\"scattermapbox\":[{\"marker\":{\"colorbar\":{\"outlinewidth\":0,\"ticks\":\"\"}},\"type\":\"scattermapbox\"}],\"scatterpolar\":[{\"marker\":{\"colorbar\":{\"outlinewidth\":0,\"ticks\":\"\"}},\"type\":\"scatterpolar\"}],\"scatterpolargl\":[{\"marker\":{\"colorbar\":{\"outlinewidth\":0,\"ticks\":\"\"}},\"type\":\"scatterpolargl\"}],\"scatterternary\":[{\"marker\":{\"colorbar\":{\"outlinewidth\":0,\"ticks\":\"\"}},\"type\":\"scatterternary\"}],\"surface\":[{\"colorbar\":{\"outlinewidth\":0,\"ticks\":\"\"},\"colorscale\":[[0.0,\"#0d0887\"],[0.1111111111111111,\"#46039f\"],[0.2222222222222222,\"#7201a8\"],[0.3333333333333333,\"#9c179e\"],[0.4444444444444444,\"#bd3786\"],[0.5555555555555556,\"#d8576b\"],[0.6666666666666666,\"#ed7953\"],[0.7777777777777778,\"#fb9f3a\"],[0.8888888888888888,\"#fdca26\"],[1.0,\"#f0f921\"]],\"type\":\"surface\"}],\"table\":[{\"cells\":{\"fill\":{\"color\":\"#EBF0F8\"},\"line\":{\"color\":\"white\"}},\"header\":{\"fill\":{\"color\":\"#C8D4E3\"},\"line\":{\"color\":\"white\"}},\"type\":\"table\"}]},\"layout\":{\"annotationdefaults\":{\"arrowcolor\":\"#2a3f5f\",\"arrowhead\":0,\"arrowwidth\":1},\"autotypenumbers\":\"strict\",\"coloraxis\":{\"colorbar\":{\"outlinewidth\":0,\"ticks\":\"\"}},\"colorscale\":{\"diverging\":[[0,\"#8e0152\"],[0.1,\"#c51b7d\"],[0.2,\"#de77ae\"],[0.3,\"#f1b6da\"],[0.4,\"#fde0ef\"],[0.5,\"#f7f7f7\"],[0.6,\"#e6f5d0\"],[0.7,\"#b8e186\"],[0.8,\"#7fbc41\"],[0.9,\"#4d9221\"],[1,\"#276419\"]],\"sequential\":[[0.0,\"#0d0887\"],[0.1111111111111111,\"#46039f\"],[0.2222222222222222,\"#7201a8\"],[0.3333333333333333,\"#9c179e\"],[0.4444444444444444,\"#bd3786\"],[0.5555555555555556,\"#d8576b\"],[0.6666666666666666,\"#ed7953\"],[0.7777777777777778,\"#fb9f3a\"],[0.8888888888888888,\"#fdca26\"],[1.0,\"#f0f921\"]],\"sequentialminus\":[[0.0,\"#0d0887\"],[0.1111111111111111,\"#46039f\"],[0.2222222222222222,\"#7201a8\"],[0.3333333333333333,\"#9c179e\"],[0.4444444444444444,\"#bd3786\"],[0.5555555555555556,\"#d8576b\"],[0.6666666666666666,\"#ed7953\"],[0.7777777777777778,\"#fb9f3a\"],[0.8888888888888888,\"#fdca26\"],[1.0,\"#f0f921\"]]},\"colorway\":[\"#636efa\",\"#EF553B\",\"#00cc96\",\"#ab63fa\",\"#FFA15A\",\"#19d3f3\",\"#FF6692\",\"#B6E880\",\"#FF97FF\",\"#FECB52\"],\"font\":{\"color\":\"#2a3f5f\"},\"geo\":{\"bgcolor\":\"white\",\"lakecolor\":\"white\",\"landcolor\":\"#E5ECF6\",\"showlakes\":true,\"showland\":true,\"subunitcolor\":\"white\"},\"hoverlabel\":{\"align\":\"left\"},\"hovermode\":\"closest\",\"mapbox\":{\"style\":\"light\"},\"paper_bgcolor\":\"white\",\"plot_bgcolor\":\"#E5ECF6\",\"polar\":{\"angularaxis\":{\"gridcolor\":\"white\",\"linecolor\":\"white\",\"ticks\":\"\"},\"bgcolor\":\"#E5ECF6\",\"radialaxis\":{\"gridcolor\":\"white\",\"linecolor\":\"white\",\"ticks\":\"\"}},\"scene\":{\"xaxis\":{\"backgroundcolor\":\"#E5ECF6\",\"gridcolor\":\"white\",\"gridwidth\":2,\"linecolor\":\"white\",\"showbackground\":true,\"ticks\":\"\",\"zerolinecolor\":\"white\"},\"yaxis\":{\"backgroundcolor\":\"#E5ECF6\",\"gridcolor\":\"white\",\"gridwidth\":2,\"linecolor\":\"white\",\"showbackground\":true,\"ticks\":\"\",\"zerolinecolor\":\"white\"},\"zaxis\":{\"backgroundcolor\":\"#E5ECF6\",\"gridcolor\":\"white\",\"gridwidth\":2,\"linecolor\":\"white\",\"showbackground\":true,\"ticks\":\"\",\"zerolinecolor\":\"white\"}},\"shapedefaults\":{\"line\":{\"color\":\"#2a3f5f\"}},\"ternary\":{\"aaxis\":{\"gridcolor\":\"white\",\"linecolor\":\"white\",\"ticks\":\"\"},\"baxis\":{\"gridcolor\":\"white\",\"linecolor\":\"white\",\"ticks\":\"\"},\"bgcolor\":\"#E5ECF6\",\"caxis\":{\"gridcolor\":\"white\",\"linecolor\":\"white\",\"ticks\":\"\"}},\"title\":{\"x\":0.05},\"xaxis\":{\"automargin\":true,\"gridcolor\":\"white\",\"linecolor\":\"white\",\"ticks\":\"\",\"title\":{\"standoff\":15},\"zerolinecolor\":\"white\",\"zerolinewidth\":2},\"yaxis\":{\"automargin\":true,\"gridcolor\":\"white\",\"linecolor\":\"white\",\"ticks\":\"\",\"title\":{\"standoff\":15},\"zerolinecolor\":\"white\",\"zerolinewidth\":2}}},\"width\":800,\"xaxis\":{\"anchor\":\"y\",\"domain\":[0.0,1.0],\"dtick\":10800000,\"tickformat\":\"%H\\n%e.%b\"},\"xaxis2\":{\"anchor\":\"y2\",\"domain\":[0.0,1.0],\"dtick\":10800000,\"tickformat\":\"%H\\n%e.%b\"},\"xaxis3\":{\"anchor\":\"y3\",\"domain\":[0.0,1.0],\"dtick\":10800000,\"tickformat\":\"%H\\n%e.%b\"},\"yaxis\":{\"anchor\":\"x\",\"domain\":[0.7777777777777778,1.0]},\"yaxis2\":{\"anchor\":\"x2\",\"domain\":[0.3888888888888889,0.6111111111111112]},\"yaxis3\":{\"anchor\":\"x3\",\"domain\":[0.0,0.22222222222222224]}},\"margin\":[5,5,5,5],\"name\":\"Hourly\",\"viewport\":{\"xaxis.range\":[\"2022-09-05 22:00\",\"2022-09-07 21:00\"],\"xaxis2.range\":[\"2022-09-05 22:00\",\"2022-09-07 21:00\"],\"xaxis3.range\":[\"2022-09-05 22:00\",\"2022-09-07 21:00\"],\"yaxis.range\":[-1.333333333333333,105.33333333333333],\"yaxis2.range\":[1015.6111111111111,1023.3888888888889],\"yaxis3.range\":[11.98,26.18]},\"viewport_update_throttle\":200},\"id\":\"2856\",\"type\":\"panel.models.plotly.PlotlyPlot\"},{\"attributes\":{\"children\":[{\"id\":\"2845\"},{\"id\":\"2851\"}],\"margin\":[0,0,0,0],\"name\":\"Row00210\"},\"id\":\"2844\",\"type\":\"Row\"},{\"attributes\":{\"children\":[{\"id\":\"2856\"}],\"margin\":[0,0,0,0],\"name\":\"Hourly\"},\"id\":\"2852\",\"type\":\"Row\"},{\"attributes\":{},\"id\":\"2862\",\"type\":\"UnionRenderers\"},{\"attributes\":{\"children\":[{\"id\":\"2846\"},{\"id\":\"2849\"}],\"margin\":[0,0,0,0],\"name\":\"Column00205\"},\"id\":\"2845\",\"type\":\"Column\"},{\"attributes\":{\"margin\":[5,5,5,5],\"name\":\"DataFrame00208\",\"text\":\"&lt;table border=&quot;0&quot; class=&quot;dataframe panel-df&quot;&gt;\\n  &lt;thead&gt;\\n    &lt;tr style=&quot;text-align: center;&quot;&gt;\\n      &lt;th&gt;&lt;/th&gt;\\n      &lt;th&gt;Aktu\\u00e1lne po\\u010dasie&lt;/th&gt;\\n    &lt;/tr&gt;\\n  &lt;/thead&gt;\\n  &lt;tbody&gt;\\n    &lt;tr&gt;\\n      &lt;th&gt;clouds&lt;/th&gt;\\n      &lt;td&gt;96&lt;/td&gt;\\n    &lt;/tr&gt;\\n    &lt;tr&gt;\\n      &lt;th&gt;rain&lt;/th&gt;\\n      &lt;td&gt;0&lt;/td&gt;\\n    &lt;/tr&gt;\\n    &lt;tr&gt;\\n      &lt;th&gt;wind_speed&lt;/th&gt;\\n      &lt;td&gt;1.6&lt;/td&gt;\\n    &lt;/tr&gt;\\n    &lt;tr&gt;\\n      &lt;th&gt;humidity&lt;/th&gt;\\n      &lt;td&gt;78&lt;/td&gt;\\n    &lt;/tr&gt;\\n    &lt;tr&gt;\\n      &lt;th&gt;pressure&lt;/th&gt;\\n      &lt;td&gt;1023&lt;/td&gt;\\n    &lt;/tr&gt;\\n    &lt;tr&gt;\\n      &lt;th&gt;temp&lt;/th&gt;\\n      &lt;td&gt;15.6&lt;/td&gt;\\n    &lt;/tr&gt;\\n    &lt;tr&gt;\\n      &lt;th&gt;time&lt;/th&gt;\\n      &lt;td&gt;5.Sep 22:02&lt;/td&gt;\\n    &lt;/tr&gt;\\n  &lt;/tbody&gt;\\n&lt;/table&gt;\",\"width\":240},\"id\":\"2850\",\"type\":\"panel.models.markup.HTML\"},{\"attributes\":{},\"id\":\"2861\",\"type\":\"Selection\"},{\"attributes\":{\"children\":[{\"id\":\"2847\"},{\"id\":\"2848\"}],\"margin\":[0,0,0,0],\"name\":\"Column00103\"},\"id\":\"2846\",\"type\":\"Column\"},{\"attributes\":{},\"id\":\"2860\",\"type\":\"UnionRenderers\"},{\"attributes\":{\"child\":{\"id\":\"2858\"},\"name\":\"Daily\",\"title\":\"Daily\"},\"id\":\"2859\",\"type\":\"Panel\"},{\"attributes\":{\"margin\":[5,5,5,5],\"name\":\"Daily\",\"tags\":[\"hidden\"]},\"id\":\"2858\",\"type\":\"Spacer\"},{\"attributes\":{\"margin\":[0,0,0,0],\"tabs\":[{\"id\":\"2857\"},{\"id\":\"2859\"}]},\"id\":\"2851\",\"type\":\"panel.models.tabs.Tabs\"},{\"attributes\":{\"data\":{\"x\":[[\"2022-09-05 22:00:00\",\"2022-09-05 23:00:00\",\"2022-09-06 00:00:00\",\"2022-09-06 01:00:00\",\"2022-09-06 02:00:00\",\"2022-09-06 03:00:00\",\"2022-09-06 04:00:00\",\"2022-09-06 05:00:00\",\"2022-09-06 06:00:00\",\"2022-09-06 07:00:00\",\"2022-09-06 08:00:00\",\"2022-09-06 09:00:00\",\"2022-09-06 10:00:00\",\"2022-09-06 11:00:00\",\"2022-09-06 12:00:00\",\"2022-09-06 13:00:00\",\"2022-09-06 14:00:00\",\"2022-09-06 15:00:00\",\"2022-09-06 16:00:00\",\"2022-09-06 17:00:00\",\"2022-09-06 18:00:00\",\"2022-09-06 19:00:00\",\"2022-09-06 20:00:00\",\"2022-09-06 21:00:00\",\"2022-09-06 22:00:00\",\"2022-09-06 23:00:00\",\"2022-09-07 00:00:00\",\"2022-09-07 01:00:00\",\"2022-09-07 02:00:00\",\"2022-09-07 03:00:00\",\"2022-09-07 04:00:00\",\"2022-09-07 05:00:00\",\"2022-09-07 06:00:00\",\"2022-09-07 07:00:00\",\"2022-09-07 08:00:00\",\"2022-09-07 09:00:00\",\"2022-09-07 10:00:00\",\"2022-09-07 11:00:00\",\"2022-09-07 12:00:00\",\"2022-09-07 13:00:00\",\"2022-09-07 14:00:00\",\"2022-09-07 15:00:00\",\"2022-09-07 16:00:00\",\"2022-09-07 17:00:00\",\"2022-09-07 18:00:00\",\"2022-09-07 19:00:00\",\"2022-09-07 20:00:00\",\"2022-09-07 21:00:00\"]],\"y\":[[96,93,83,70,54,4,7,7,8,10,12,21,57,70,63,69,75,100,95,94,96,96,97,100,100,99,96,95,92,77,67,53,45,52,59,100,100,91,84,81,72,35,58,69,77,81,84,98]]},\"selected\":{\"id\":\"2861\"},\"selection_policy\":{\"id\":\"2860\"}},\"id\":\"2853\",\"type\":\"ColumnDataSource\"},{\"attributes\":{\"margin\":[5,10,5,10],\"min_width\":200,\"options\":[\"Bansk\\u00e1 Bystrica\",\"Bansk\\u00e1 \\u0160tiavnica\",\"Bardejov\",\"Ba\\u0161ovce\",\"Bojnice\",\"Bo\\u013ekovce\",\"Bratislava\",\"Brezno\",\"Brezno - Zadn\\u00e9 Halny\",\"Brezov\\u00e1 pod Bradlom\",\"Byt\\u010da\",\"B\\u00e1novce nad Bebravou\",\"Chlmec\",\"Detva\",\"Dob\\u0161in\\u00e1\",\"Doln\\u00fd Kub\\u00edn\",\"Dubnica nad V\\u00e1hom\",\"Dunajsk\\u00e1 Streda\",\"D\\u00fabravka\",\"Fi\\u013eakovo\",\"Galanta\",\"Gbely\",\"Gelnica\",\"Gemersk\\u00e1 H\\u00f4rka\",\"Giraltovce\",\"Handlov\\u00e1\",\"Hlohovec\",\"Hn\\u00fa\\u0161\\u0165a\",\"Hody\",\"Hol\\u00ed\\u010d\",\"Hontianska Vrbica\",\"Hri\\u0148ov\\u00e1\",\"Humenn\\u00e9\",\"Hurbanovo\",\"Hybe\",\"Ilava\",\"Istebn\\u00edk\",\"Kamenica nad Cirochou\",\"Ke\\u017emarok\",\"Kol\\u00e1rovo\",\"Kom\\u00e1rno\",\"Kote\\u0161ov\\u00e1\",\"Ko\\u0161ice\",\"Kremnica\",\"Krompachy\",\"Krupina\",\"Kysuck\\u00e9 Nov\\u00e9 Mesto\",\"Leopoldov\",\"Levice\",\"Levo\\u010da\",\"Likavka\",\"Lipany\",\"Liptovsk\\u00fd Hr\\u00e1dok\",\"Liptovsk\\u00fd Mikul\\u00e1\\u0161\",\"Lovce\",\"Lu\\u010denec\",\"Malacky\",\"Martin\",\"Medzev\",\"Medzilaborce\",\"Michalovce\",\"Modra nad Cirochou\",\"Moldava nad Bodvou\",\"Most pri Bratislave\",\"Myjava\",\"Nem\\u0161ov\\u00e1\",\"Nitra\",\"Ni\\u017en\\u00e9 Nemeck\\u00e9\",\"Nov\\u00e1 Ba\\u0148a\",\"Nov\\u00e1 Dubnica\",\"Nov\\u00e1 Lesn\\u00e1\",\"Nov\\u00e1ky\",\"Nov\\u00e9 Mesto nad V\\u00e1hom\",\"Nov\\u00e9 Z\\u00e1mky\",\"N\\u00e1mestovo\",\"Oravsk\\u00e1 Lesn\\u00e1\",\"Pal\\u00fadzka\",\"Partiz\\u00e1nske\",\"Pezinok\",\"Pie\\u0161\\u0165any\",\"Podol\\u00ednec\",\"Polt\\u00e1r\",\"Poprad\",\"Pova\\u017esk\\u00e1 Bystrica\",\"Po\\u013en\\u00fd Kesov\",\"Pre\\u0161ov\",\"Pribylina\",\"Prievidza\",\"P\\u00fachov\",\"Rajec\",\"Rev\\u00faca\",\"Rimavsk\\u00e1 Sobota\",\"Ro\\u017e\\u0148ava\",\"Ro\\u017e\\u0148ov\\u00e9 Mitice\",\"Ru\\u017eindol\",\"Ru\\u017eomberok\",\"Sabinov\",\"Senec\",\"Senica\",\"Se\\u010dovce\",\"Skalica\",\"Sl\\u00e1dkovi\\u010dovo\",\"Smolenice\",\"Snina\",\"Sobrance\",\"Solo\\u0161nica\",\"Spi\\u0161sk\\u00e1 Bel\\u00e1\",\"Spi\\u0161sk\\u00e1 Nov\\u00e1 Ves\",\"Spi\\u0161sk\\u00e9 Podhradie\",\"Star\\u00e1 Tur\\u00e1\",\"Star\\u00e1 \\u013dubov\\u0148a\",\"Stropkov\",\"Str\\u00e1\\u0148any\",\"Str\\u00e1\\u017eske\",\"Stupava\",\"Svidn\\u00edk\",\"Svit\",\"Svod\\u00edn\",\"Sv\\u00e4t\\u00fd Jur\",\"Tisovec\",\"Tlma\\u010de\",\"Topo\\u013e\\u010dany\",\"Trebi\\u0161ov\",\"Tren\\u010dianske Teplice\",\"Tren\\u010d\\u00edn\",\"Trnava\",\"Trsten\\u00e1\",\"Turzovka\",\"Tur\\u010dianske Teplice\",\"Tvrdo\\u0161\\u00edn\",\"Ve\\u013ek\\u00fd Bysterec\",\"Ve\\u013ek\\u00fd Meder\",\"Vinn\\u00e9\",\"Vranov nad Top\\u013eou\",\"Vrbov\\u00e9\",\"Vr\\u00e1ble\",\"Vr\\u00fatky\",\"Vysok\\u00e9 Tatry\",\"Vysok\\u00e9 Tatry - Nov\\u00fd Smokovec\",\"Vy\\u0161n\\u00e9 Ru\\u017ebachy\",\"Zlat\\u00e9 Moravce\",\"Zliechov\",\"Zvolen\",\"Z\\u00e1vodie\",\"\\u010cachtice\",\"\\u010cadca\",\"\\u010cierna nad Tisou\",\"\\u013dubica\",\"\\u0160ahy\",\"\\u0160amor\\u00edn\",\"\\u0160a\\u013ea\",\"\\u0160trba\",\"\\u0160t\\u00farovo\",\"\\u0160urany\",\"\\u017darnovica\",\"\\u017ddiar\",\"\\u017deliezovce\",\"\\u017diar nad Hronom\",\"\\u017dilina\"],\"title\":\"Select a station\",\"value\":\"Bojnice\",\"width\":200},\"id\":\"2847\",\"type\":\"panel.models.widgets.CustomSelect\"},{\"attributes\":{\"client_comm_id\":\"77fa321b823a4e3db15a2dd6371c2b89\",\"comm_id\":\"f5b7d7f2473040aa909f4fdf29df8e00\",\"plot_id\":\"2844\"},\"id\":\"2878\",\"type\":\"panel.models.comm_manager.CommManager\"},{\"attributes\":{\"child\":{\"id\":\"2852\"},\"name\":\"Hourly\",\"title\":\"Hourly\"},\"id\":\"2857\",\"type\":\"Panel\"}],\"root_ids\":[\"2844\",\"2878\"]},\"title\":\"Bokeh Application\",\"version\":\"2.4.3\"}};\n",
       "    var render_items = [{\"docid\":\"6dfc3e6d-84c5-456e-82de-06437bc97aa7\",\"root_ids\":[\"2844\"],\"roots\":{\"2844\":\"b06f84c3-593d-4646-9474-93792dc74cb1\"}}];\n",
       "    root.Bokeh.embed.embed_items_notebook(docs_json, render_items);\n",
       "  }\n",
       "  if (root.Bokeh !== undefined && root.Bokeh.Panel !== undefined && ( root['Plotly'] !== undefined)) {\n",
       "    embed_document(root);\n",
       "  } else {\n",
       "    var attempts = 0;\n",
       "    var timer = setInterval(function(root) {\n",
       "      if (root.Bokeh !== undefined && root.Bokeh.Panel !== undefined && (root['Plotly'] !== undefined)) {\n",
       "        clearInterval(timer);\n",
       "        embed_document(root);\n",
       "      } else if (document.readyState == \"complete\") {\n",
       "        attempts++;\n",
       "        if (attempts > 200) {\n",
       "          clearInterval(timer);\n",
       "          console.log(\"Bokeh: ERROR: Unable to run BokehJS code because BokehJS library is missing\");\n",
       "        }\n",
       "      }\n",
       "    }, 25, root)\n",
       "  }\n",
       "})(window);</script>"
      ],
      "text/plain": [
       "Row\n",
       "    [0] Column\n",
       "        [0] Column\n",
       "            [0] Select(options=['Banská Bystrica', ...], value='Bojnice', width=200)\n",
       "            [1] CheckBoxGroup(options=['clouds', 'rain', ...], value=['clouds', 'pressure', ...], width=200)\n",
       "        [1] ParamFunction(function)\n",
       "    [1] Tabs(dynamic=True)\n",
       "        [0] ParamFunction(function, name='Hourly')\n",
       "        [1] ParamFunction(function, name='Daily')"
      ]
     },
     "execution_count": 20,
     "metadata": {
      "application/vnd.holoviews_exec.v0+json": {
       "id": "2844"
      }
     },
     "output_type": "execute_result"
    }
   ],
   "source": [
    "app = pn.Row(widgets, tabs)\n",
    "app"
   ]
  },
  {
   "cell_type": "code",
   "execution_count": null,
   "id": "232a7c79-f2ba-48dc-a50b-7cebf6595989",
   "metadata": {},
   "outputs": [],
   "source": []
  }
 ],
 "metadata": {
  "jupytext": {
   "cell_metadata_filter": "-all",
   "notebook_metadata_filter": "-all"
  },
  "kernelspec": {
   "display_name": "Python 3 (ipykernel)",
   "language": "python",
   "name": "python3"
  },
  "language_info": {
   "codemirror_mode": {
    "name": "ipython",
    "version": 3
   },
   "file_extension": ".py",
   "mimetype": "text/x-python",
   "name": "python",
   "nbconvert_exporter": "python",
   "pygments_lexer": "ipython3",
   "version": "3.10.5"
  }
 },
 "nbformat": 4,
 "nbformat_minor": 5
}
