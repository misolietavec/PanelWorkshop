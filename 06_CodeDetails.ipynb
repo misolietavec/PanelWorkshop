{
 "cells": [
  {
   "cell_type": "markdown",
   "id": "9e88805c-8729-44c1-a64d-ec7a77c47ce3",
   "metadata": {},
   "source": [
    "#### Naša konečná aplikácia sa trochu líši od tej, [na ktorú sme vás odkazovali](http://feelmath.eu:2022/Pocasie).\n",
    "#### Nebudeme sa zaoberať poslovenčením nadpisov, to pozorný čitateľ zvládne aj sám. :-)\n",
    "#### Ale prečo pri aktuálnom počasí niekedy nie je úplne aktuálny časový údaj?\n",
    "#### Aby sme sa vyhli prekročeniu bezplatného denného limitu 1000 volaní, zapisujeme údaje zo všetkých volaní v `sqlite` databáze. Podrobnosti pozrieme v notebooku [final/caching_weatherapi.](final/caching_weatherapi.ipynb) "
   ]
  },
  {
   "cell_type": "markdown",
   "id": "73919ac7-6c05-41e4-affb-f8d9c31c3e40",
   "metadata": {},
   "source": [
    "### Nakoniec, odkazy na materiály, ktoré sme pre vás pripravili:\n",
    "- zdrojové súbory pre všetky notebooky sú na githube [https://github.com/misolietavec/PanelWorkshop](https://github.com/misolietavec/PanelWorkshop)\n",
    "- videá s tým, čo sme tu robili (pre tých, čo nemohli, alebo si to chcú osviežiť) sú na \n",
    "  1. [https://feelmath.eu/PanelWorkshop/WeatherData.mp4](https://feelmath.eu/PanelWorkshop/WeatherData.mp4)\n",
    "  2. [https://feelmath.eu/PanelWorkshop/PlotWeather.mp4](https://feelmath.eu/PanelWorkshop/PlotWeather.mp4)"
   ]
  }
 ],
 "metadata": {
  "kernelspec": {
   "display_name": "Python 3 (ipykernel)",
   "language": "python",
   "name": "python3"
  },
  "language_info": {
   "codemirror_mode": {
    "name": "ipython",
    "version": 3
   },
   "file_extension": ".py",
   "mimetype": "text/x-python",
   "name": "python",
   "nbconvert_exporter": "python",
   "pygments_lexer": "ipython3",
   "version": "3.10.6"
  }
 },
 "nbformat": 4,
 "nbformat_minor": 5
}
