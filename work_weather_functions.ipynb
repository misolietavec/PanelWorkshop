{
 "cells": [
  {
   "cell_type": "code",
   "execution_count": null,
   "id": "57d6ba1f-65a1-4fb5-b82b-1fb91fd2bb9c",
   "metadata": {},
   "outputs": [],
   "source": [
    "import pickle\n",
    "import pandas as pd\n",
    "import requests\n",
    "from os import environ\n",
    "from datetime import datetime"
   ]
  },
  {
   "cell_type": "code",
   "execution_count": null,
   "id": "efe93944-a031-463b-b2ee-9e0ada2accd8",
   "metadata": {},
   "outputs": [],
   "source": [
    "picklefile = open(\"data/stanice.pickle\",'rb')\n",
    "Stations_SK = pickle.load(picklefile)\n",
    "# for convenience, alphabetically sorted names of meteostations\n",
    "# StaNames = sorted(list(Stations_SK.keys()))\n",
    "\n",
    "owkey =  environ[\"OWM_APIKEY\"]"
   ]
  },
  {
   "cell_type": "code",
   "execution_count": null,
   "id": "e1b06e34-231b-4980-83aa-9dedea0ca709",
   "metadata": {},
   "outputs": [],
   "source": [
    "# using our knowledge from Data NB\n",
    "def one_call(city):\n",
    "    \"returns dict of current weather, hourly, daily forecast\"\n",
    "    lat, lon = Stations_SK[city]\n",
    "    URL = f\"https://api.openweathermap.org/data/3.0/onecall?lat={lat}&lon={lon}&exclude=minutely,allerts&appid={owkey}&units=metric\"\n",
    "    one_call_result = requests.get(URL)\n",
    "    wdict = one_call_result.json()\n",
    "    return wdict"
   ]
  },
  {
   "cell_type": "code",
   "execution_count": null,
   "id": "b0981218-01ec-4a82-990e-87edc311f462",
   "metadata": {},
   "outputs": [],
   "source": [
    "wdict = one_call(\"Prievidza\")\n",
    "# print(f\"daily item: {wdict['daily'][0]}\", f\"hourly item: {wdict['hourly'][0]}\", f\"current: {wdict['current']}\", sep='\\n\\n')"
   ]
  },
  {
   "cell_type": "code",
   "execution_count": null,
   "id": "f6375210-13ef-4d37-abe9-8ae3adb93a83",
   "metadata": {},
   "outputs": [],
   "source": [
    "# we will be interested only in values for certain keys:\n",
    "wkeys = ['clouds', 'rain', 'wind_speed', 'humidity', 'pressure', 'temp']\n",
    "\n",
    "# dictionary, from slovak terms to wkeys values, will use in final application \n",
    "sk_wkeys = {\"Teplota\": \"temp\", \"Tlak\": \"pressure\", \"Oblaky\": \"clouds\", \n",
    "                \"Vietor\": \"wind\", \"Zrážky\": \"rain\", \"Vlhkosť\": \"humidity\"}"
   ]
  },
  {
   "cell_type": "code",
   "execution_count": null,
   "id": "210e1bfa-270a-4be9-ace9-cdb0d5dbd463",
   "metadata": {},
   "outputs": [],
   "source": [
    "def wkeys_dict(wrec):\n",
    "    \"helper function, returns datetime from weather record and also the dictionary only for keys in wkeys\"\n",
    "    wd = {}\n",
    "    for key in wkeys:\n",
    "        wd[key] = wrec[key] # if wrec.get(key) else 0  # beware \"rain\" key, can be missing\n",
    "    time = datetime.fromtimestamp(wrec['dt'])    \n",
    "    return time, wd    "
   ]
  },
  {
   "cell_type": "code",
   "execution_count": null,
   "id": "f7321898-d0bf-4f59-91be-d37542b36415",
   "metadata": {},
   "outputs": [],
   "source": [
    "# wkeys_dict(wdict['current'])\n",
    "# wkeys_dict(wdict['hourly'][0])   # first item for hourly forecast\n",
    "# wkeys_dict(wdict['daily'][0])    # first item for daily forecast"
   ]
  },
  {
   "cell_type": "code",
   "execution_count": null,
   "id": "9f51dfe2-bbb4-4183-a404-3a3e4cf8d437",
   "metadata": {},
   "outputs": [],
   "source": [
    "def get_current(wdict):\n",
    "    \"returns pandas DataFrame with current weather - use pd.DataFrame.from_dict :-)\"\n",
    "    time, currdict = wkeys_dict(wdict['current'])\n",
    "    # currdict['time'] = time # add time to currdict\n",
    "    # currdict['time'] = time.strftime(\"%-d.%b %H:%M\")  # better format\n",
    "    curr_DF = pd.DataFrame.from_dict(currdict, orient='index', columns=['Actual weather'])\n",
    "    return curr_DF"
   ]
  },
  {
   "cell_type": "code",
   "execution_count": null,
   "id": "b12da858-11bf-43d9-9047-8c70280a61a5",
   "metadata": {},
   "outputs": [],
   "source": [
    "# get_current(wdict)"
   ]
  },
  {
   "cell_type": "code",
   "execution_count": null,
   "id": "439c49f0-c6e6-4e89-922e-3a7848dc3e53",
   "metadata": {},
   "outputs": [],
   "source": [
    "def get_hourly(wdict):\n",
    "    \"returns pd.DataFrame with hourly forecast - 48 rows with wkeys as column names; iterate through items in wdict['hourly']\"\n",
    "    wh = {}\n",
    "    for rec in wdict['hourly']:\n",
    "        time, wd = wkeys_dict(rec)\n",
    "        # if type(wd['rain']) is dict:\n",
    "        #     wd['rain'] = wd['rain']['1h']\n",
    "        wh[time] = wd\n",
    "\n",
    "    return pd.DataFrame.from_dict(wh, orient='index', columns=wkeys) # times as keys"
   ]
  },
  {
   "cell_type": "code",
   "execution_count": null,
   "id": "3b441058-33da-4d58-bc04-654bb5a2f69c",
   "metadata": {},
   "outputs": [],
   "source": [
    "# get_hourly(wdict)"
   ]
  },
  {
   "cell_type": "code",
   "execution_count": null,
   "id": "3374dd01-6f30-437c-ad7e-0ae25e3f3531",
   "metadata": {},
   "outputs": [],
   "source": [
    "tempkeys = ['day', 'night', 'min', 'max', 'eve', 'morn']  # temperatures at day duration\n",
    "\n",
    "def get_daily(wdict):\n",
    "    \"returns pd.DataFrame with daily forecast - 8 rows with wkeys + tempkeys; iterate through items in wdict['daily']\"\n",
    "    wday = {}\n",
    "    for rec in wdict['daily']:\n",
    "        time, wd = wkeys_dict(rec)\n",
    "        # add keys from tempkeys    \n",
    "        # for key in tempkeys:\n",
    "        #     wd[key] = wd['temp'][key]\n",
    "        wday[time] = wd\n",
    "    return pd.DataFrame.from_dict(wday, orient='index', columns=wkeys) # [:-1] + tempkeys)"
   ]
  },
  {
   "cell_type": "code",
   "execution_count": null,
   "id": "899c4fd6-6c18-45f1-ae08-2b77f2715d77",
   "metadata": {},
   "outputs": [],
   "source": [
    "# get_daily(wdict)"
   ]
  },
  {
   "cell_type": "code",
   "execution_count": null,
   "id": "81a130ad-f4f7-42e6-9d0e-3b0fecc57e7c",
   "metadata": {},
   "outputs": [],
   "source": [
    "def get_weather(wdict):\n",
    "    return {\"current\": get_current(wdict), \"hourly\": get_hourly(wdict), \"daily\": get_daily(wdict)}"
   ]
  }
 ],
 "metadata": {
  "kernelspec": {
   "display_name": "Python 3 (ipykernel)",
   "language": "python",
   "name": "python3"
  },
  "language_info": {
   "codemirror_mode": {
    "name": "ipython",
    "version": 3
   },
   "file_extension": ".py",
   "mimetype": "text/x-python",
   "name": "python",
   "nbconvert_exporter": "python",
   "pygments_lexer": "ipython3",
   "version": "3.10.6"
  }
 },
 "nbformat": 4,
 "nbformat_minor": 5
}
