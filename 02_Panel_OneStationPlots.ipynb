{
 "cells": [
  {
   "cell_type": "code",
   "execution_count": null,
   "id": "200b9beb",
   "metadata": {},
   "outputs": [],
   "source": [
    "import panel as pn\n",
    "from final.weather_functions import get_weather, StaNames\n",
    "from final.plot_functions import plot_forecasts, plot_8d\n",
    "\n",
    "# Displaying Panel objects in the notebook requires the panel extension to be loaded\n",
    "pn.extension()"
   ]
  },
  {
   "cell_type": "code",
   "execution_count": null,
   "id": "aada7e90",
   "metadata": {},
   "outputs": [],
   "source": [
    "select_station = pn.widgets.Select(name=\"Choose a station\", \n",
    "                                   options=StaNames,\n",
    "                                   value=\"Bratislava\", \n",
    "                                   width=250, \n",
    "                                   height=50)"
   ]
  },
  {
   "cell_type": "code",
   "execution_count": null,
   "id": "969e46bc",
   "metadata": {},
   "outputs": [],
   "source": [
    "select_station"
   ]
  },
  {
   "cell_type": "code",
   "execution_count": null,
   "id": "d3692ee8",
   "metadata": {},
   "outputs": [],
   "source": [
    "select_station.value"
   ]
  },
  {
   "cell_type": "code",
   "execution_count": null,
   "id": "da166e16",
   "metadata": {},
   "outputs": [],
   "source": [
    "select_station.value = \"Košice\""
   ]
  },
  {
   "cell_type": "code",
   "execution_count": null,
   "id": "902dcaa5",
   "metadata": {},
   "outputs": [],
   "source": [
    "station_name = pn.widgets.TextInput(name=\"Chosen station\", disabled=True,width=250)\n",
    "station_name"
   ]
  },
  {
   "cell_type": "markdown",
   "id": "c99227d2",
   "metadata": {},
   "source": [
    "#### Na zoskupenie viacerých widgetov do jedného spoločného widgetu je možné použiť **Row** alebo **Column**.\n",
    "- **Row poukladá widgety za sebou do riadku**\n",
    "- **Column ich poukladá pod seba do stĺpca.**"
   ]
  },
  {
   "cell_type": "code",
   "execution_count": null,
   "id": "7d6bed12",
   "metadata": {},
   "outputs": [],
   "source": [
    "pn.Row(select_station, station_name)"
   ]
  },
  {
   "cell_type": "code",
   "execution_count": null,
   "id": "e6555a9c",
   "metadata": {},
   "outputs": [],
   "source": [
    "pn.Column(select_station, station_name)"
   ]
  },
  {
   "cell_type": "markdown",
   "id": "06def533",
   "metadata": {},
   "source": [
    "#### Na \"oživenie\" widgetu použijeme dekorátor **`pn.depends`**  \n",
    "#### Parameter bude názov widgetu, ktorý chceme sledovať.  \n",
    "#### Funkcia musí mať rovnaký počet parametrov ako dekorátor! (názov parametru funkcie nemusí byť rovnaký ako názov widgetu)  \n",
    "#### Ako argument sa do funkcie pošle hodnota - **`value`** sledovaného widgetu"
   ]
  },
  {
   "cell_type": "code",
   "execution_count": null,
   "id": "4cdc798d",
   "metadata": {},
   "outputs": [],
   "source": [
    "@pn.depends(select_station)\n",
    "def update_station_name(select_station):\n",
    "    station_name.value = select_station"
   ]
  },
  {
   "cell_type": "code",
   "execution_count": null,
   "id": "65a8d952",
   "metadata": {},
   "outputs": [],
   "source": [
    "col = pn.Column(select_station, station_name, update_station_name)\n",
    "col"
   ]
  },
  {
   "cell_type": "markdown",
   "id": "be238d36",
   "metadata": {},
   "source": [
    "#### Na zobrazenie zoskupených widgetov môžeme použiť funkciu **`pprint`**"
   ]
  },
  {
   "cell_type": "code",
   "execution_count": null,
   "id": "7bafc264",
   "metadata": {},
   "outputs": [],
   "source": [
    "col.pprint()\n",
    "print(\"\\nDruhý objekt: \", col[1]) # col.objects[1]"
   ]
  },
  {
   "cell_type": "markdown",
   "id": "3599d4ea",
   "metadata": {},
   "source": [
    "### Zobrazovanie grafov"
   ]
  },
  {
   "cell_type": "code",
   "execution_count": null,
   "id": "9f4b4455",
   "metadata": {},
   "outputs": [],
   "source": [
    "# ukazat najprv bez extension, aby sa vypisala chyba a nefungovali grafy\n",
    "# pn.extension('plotly')"
   ]
  },
  {
   "cell_type": "code",
   "execution_count": null,
   "id": "2015cfb5",
   "metadata": {},
   "outputs": [],
   "source": [
    "@pn.depends(select_station)\n",
    "def view_hourly_temp(select_station):\n",
    "    data = get_weather(select_station)\n",
    "    fig = plot_forecasts(data, 'hourly', values=['temp'])\n",
    "    return fig"
   ]
  },
  {
   "cell_type": "code",
   "execution_count": null,
   "id": "c43b9b6d",
   "metadata": {},
   "outputs": [],
   "source": [
    "pn.Column(select_station, view_hourly_temp)"
   ]
  },
  {
   "cell_type": "code",
   "execution_count": null,
   "id": "0a8b053a",
   "metadata": {},
   "outputs": [],
   "source": [
    "@pn.depends(select_station)\n",
    "def view_hourly_trh(select_station):\n",
    "    data = get_weather(select_station)\n",
    "    fig = plot_forecasts(data, 'hourly', values=['temp', 'rain', 'humidity'])\n",
    "    return fig"
   ]
  },
  {
   "cell_type": "code",
   "execution_count": null,
   "id": "a9e3673e",
   "metadata": {},
   "outputs": [],
   "source": [
    "pn.Column(select_station, view_hourly_trh)"
   ]
  }
 ],
 "metadata": {
  "jupytext": {
   "cell_metadata_filter": "-all",
   "notebook_metadata_filter": "-all"
  },
  "kernelspec": {
   "display_name": "Python 3 (ipykernel)",
   "language": "python",
   "name": "python3"
  },
  "language_info": {
   "codemirror_mode": {
    "name": "ipython",
    "version": 3
   },
   "file_extension": ".py",
   "mimetype": "text/x-python",
   "name": "python",
   "nbconvert_exporter": "python",
   "pygments_lexer": "ipython3",
   "version": "3.10.6"
  }
 },
 "nbformat": 4,
 "nbformat_minor": 5
}
