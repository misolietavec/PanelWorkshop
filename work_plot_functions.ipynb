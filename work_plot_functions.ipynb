{
 "cells": [
  {
   "cell_type": "code",
   "execution_count": null,
   "id": "d242598c-5834-447c-bc5a-3c3866c8e870",
   "metadata": {},
   "outputs": [],
   "source": [
    "import panel as pn\n",
    "import plotly.graph_objects as go\n",
    "from plotly.subplots import make_subplots\n",
    "\n",
    "import weather_functions as wf"
   ]
  },
  {
   "cell_type": "code",
   "execution_count": null,
   "id": "2f5c02c7-817e-4f03-aeca-683a69214631",
   "metadata": {},
   "outputs": [],
   "source": [
    "w_colors = {'clouds': 'green', 'rain': 'darkblue', 'wind_speed': 'blue', \n",
    "            'humidity': 'magenta', 'pressure': 'darkgray', 'temp': 'red'}\n",
    "fig_height, fig_width = 250, 800\n",
    "Stations = wf.Stations_SK"
   ]
  },
  {
   "cell_type": "code",
   "execution_count": null,
   "id": "44f08ee5-1715-40b6-bf7c-461369b4e356",
   "metadata": {},
   "outputs": [],
   "source": [
    "def plot_48h(wdata, val):\n",
    "    df = wdata['hourly']\n",
    "    fig = go.Figure()\n",
    "    plot_function = go.Bar if val == 'rain' else go.Scatter  # this is different from 01_Plotting Weather\n",
    "    fig.add_trace(plot_function(x=df.index, y=df[val], marker_color=w_colors[val], name=val))\n",
    "    fig.update_xaxes(dtick=60*60*1000*3, tickformat=\"%H\\n%e.%b\")\n",
    "    fig.update_layout(height=fig_height, width=fig_width)   # plot width and height\n",
    "    return fig"
   ]
  },
  {
   "cell_type": "code",
   "execution_count": null,
   "id": "8df8398f-d9cd-4989-99c3-92f0a9e1c73a",
   "metadata": {},
   "outputs": [],
   "source": [
    "temp = {\"day\": \"green\", \"night\": \"darkblue\", \"max\": \"red\", \"min\": \"blue\"}\n",
    "\n",
    "# as in 01_Plotting Weather, but only adds traces to existing Figure fig, which we make with plot_8d\n",
    "def add_temp_traces(fig, daily, **kwargs):   # **kwargs - variable number of named arguments\n",
    "    xval = daily.index\n",
    "    for val in temp:\n",
    "        fig.add_trace(go.Bar(x=xval, y=daily[val], marker_color=temp[val], name=val), **kwargs)"
   ]
  },
  {
   "cell_type": "code",
   "execution_count": null,
   "id": "e3ac505a-c0b6-4eb3-83a6-04a408a3be60",
   "metadata": {},
   "outputs": [],
   "source": [
    "def plot_8d(wdata, val):\n",
    "    df = wdata[\"daily\"]\n",
    "    fig = go.Figure()\n",
    "    plot_function = go.Bar if val == 'rain' else go.Scatter\n",
    "    if val != \"temp\":\n",
    "        fig.add_trace(plot_function(x=df.index, y=df[val], marker_color=w_colors[val], name=val))\n",
    "    else:\n",
    "        add_temp_traces(fig, df)  # add traces for temperatures throughout the day\n",
    "    fig.update_xaxes(dtick=60*60*1000*24, tickformat=\"%e.%b\",\n",
    "                     ticklabelmode=\"period\")\n",
    "    fig.update_layout(height=fig_height, width=fig_width, showlegend=False)\n",
    "    return fig"
   ]
  },
  {
   "cell_type": "code",
   "execution_count": null,
   "id": "66b12fc2-60e4-4bf6-bc3c-ad3a54063272",
   "metadata": {},
   "outputs": [],
   "source": [
    "# general function, mentioned in 01_Plotting_Weather\n",
    "\n",
    "def plot_forecasts(wdata, period='hourly', values=[\"temp\",\"rain\"]):\n",
    "    df = wdata[period]\n",
    "    num_plots = len(values) \n",
    "    fig = make_subplots(rows=num_plots, cols=1, subplot_titles=values)\n",
    "\n",
    "    xval = df.index\n",
    "    for ind, val in enumerate(values):\n",
    "        nrow = ind + 1\n",
    "        if period == 'daily' and val == 'temp':\n",
    "            add_temp_traces(fig, df, row=nrow, col=1)\n",
    "        else:\n",
    "            plot_function = go.Bar if val == 'rain' else go.Scatter\n",
    "            fig.add_trace(plot_function(x=xval, y=df[val], marker_color=w_colors[val],\n",
    "                                        name=val), row=nrow, col=1)\n",
    "        if period == 'hourly':\n",
    "            fig.update_xaxes(dtick=60*60*1000*3, tickformat=\"%H\\n%e.%b\", row=nrow, col=1)\n",
    "        else:   # daily\n",
    "            fig.update_xaxes(tickformat=\"%e.%b\", ticklabelmode=\"period\", row=nrow, col=1)\n",
    "    fig.update_layout(height=num_plots * fig_height, width=fig_width, showlegend=False)\n",
    "    return fig    "
   ]
  }
 ],
 "metadata": {
  "kernelspec": {
   "display_name": "Python 3 (ipykernel)",
   "language": "python",
   "name": "python3"
  },
  "language_info": {
   "codemirror_mode": {
    "name": "ipython",
    "version": 3
   },
   "file_extension": ".py",
   "mimetype": "text/x-python",
   "name": "python",
   "nbconvert_exporter": "python",
   "pygments_lexer": "ipython3",
   "version": "3.10.6"
  }
 },
 "nbformat": 4,
 "nbformat_minor": 5
}
