{
 "cells": [
  {
   "cell_type": "markdown",
   "id": "230c64a4",
   "metadata": {},
   "source": [
    "### <a href=\"1_Data_OpenWeather.ipynb\">Získanie a spracovanie dát zo stránky OpenWeather</a>"
   ]
  },
  {
   "cell_type": "markdown",
   "id": "b4c69d26-43b8-412c-83f9-94e3a3943f78",
   "metadata": {
    "incorrectly_encoded_metadata": "tags=[] jp-MarkdownHeadingCollapsed=true"
   },
   "source": [
    "### <a href=\"2_Plotting_Weather.ipynb\">Prvé obrázky získaných dát.</a>"
   ]
  },
  {
   "cell_type": "markdown",
   "id": "3d9aae85-4723-498d-96b0-45ac68edd968",
   "metadata": {},
   "source": [
    "### <a href=\"3_Panel_OneStationPlots.ipynb\">`Panel` - výber meteostanice, grafy pre jednu stanicu.</a>"
   ]
  },
  {
   "cell_type": "markdown",
   "id": "0b1fa69c-f067-41df-93bd-9ecf74d8d54d",
   "metadata": {},
   "source": [
    "### <a href=\"4_Panel_ChooseMeteodata.ipynb\">`Panel` - výber stanice a meteoveličín, grafy.</a>"
   ]
  },
  {
   "cell_type": "markdown",
   "id": "90a5894f",
   "metadata": {},
   "source": [
    "### <a href=\"5_Panel_AllForecasts.ipynb\">`Panel` - výber typu dát</a>"
   ]
  },
  {
   "cell_type": "markdown",
   "id": "da6056f5-5171-43f0-9e5c-d0d75d32289c",
   "metadata": {},
   "source": [
    "### Meteostanice na mape. <a href=\"6_WeatherMap.ipynb\">Definitívna `panel` aplikácia.</a>"
   ]
  },
  {
   "cell_type": "markdown",
   "id": "a73e5f07-52ac-45ce-b092-8e504ff4060d",
   "metadata": {},
   "source": [
    "### <a href=\"7_CodeDetails.ipynb\">Doplňujúce podrobnosti, odkazy  na materiály</a>"
   ]
  }
 ],
 "metadata": {
  "kernelspec": {
   "display_name": "Python 3 (ipykernel)",
   "language": "python",
   "name": "python3"
  },
  "language_info": {
   "codemirror_mode": {
    "name": "ipython",
    "version": 3
   },
   "file_extension": ".py",
   "mimetype": "text/x-python",
   "name": "python",
   "nbconvert_exporter": "python",
   "pygments_lexer": "ipython3",
   "version": "3.10.6"
  }
 },
 "nbformat": 4,
 "nbformat_minor": 5
}
